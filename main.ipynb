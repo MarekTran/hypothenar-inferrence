{
 "cells": [
  {
   "cell_type": "code",
   "execution_count": 1,
   "metadata": {},
   "outputs": [],
   "source": [
    "import cv2\n",
    "import numpy as np\n",
    "import pandas as pd\n",
    "import random\n",
    "import os\n",
    "from matplotlib import pyplot as plt\n",
    "\n",
    "import mediapipe as mp\n",
    "from mediapipe.tasks import python\n",
    "from mediapipe.tasks.python import vision\n",
    "\n",
    "from tqdm import tqdm\n",
    "import json\n",
    "\n",
    "from pprint import pprint\n",
    "\n",
    "import pickle\n",
    "from sklearn.ensemble import RandomForestRegressor\n",
    "from sklearn.model_selection import train_test_split\n",
    "from sklearn.metrics import mean_squared_error"
   ]
  },
  {
   "cell_type": "markdown",
   "metadata": {},
   "source": [
    "### Helper methods"
   ]
  },
  {
   "cell_type": "code",
   "execution_count": 2,
   "metadata": {},
   "outputs": [],
   "source": [
    "def cv2_imshow(image, figsize=(10, 8)):\n",
    "    \"\"\"\n",
    "    Display an image with Matplotlib, hardcoding the plot size.\n",
    "    \n",
    "    Args:\n",
    "        image (ndarray): The image to display (BGR or grayscale).\n",
    "        figsize (tuple): Tuple (width, height) for the plot size in inches.\n",
    "    \"\"\"\n",
    "    # Check if the image is in BGR format and convert to RGB for proper display\n",
    "    if len(image.shape) == 3:  # Color image\n",
    "        image = cv2.cvtColor(image, cv2.COLOR_BGR2RGB)\n",
    "    elif len(image.shape) == 2:  # Grayscale image\n",
    "        plt.gray()  # Set color map to gray for grayscale images\n",
    "\n",
    "    # Display the image with the specified size\n",
    "    plt.figure(figsize=figsize)\n",
    "    plt.imshow(image)\n",
    "    plt.axis('off')  # Turn off axis for better display\n",
    "    plt.show()"
   ]
  },
  {
   "cell_type": "code",
   "execution_count": 3,
   "metadata": {},
   "outputs": [],
   "source": [
    "def attempt_to_find_image_path(possible_dirs, file_name, image=True):\n",
    "  # Strip extension from file_name\n",
    "  file_name = file_name.split('.')[0]\n",
    "  # Look for the base name + image extensions\n",
    "  for directory in possible_dirs:\n",
    "    for ext in ['jpg', 'jpeg', 'png']:\n",
    "      if image:\n",
    "        file_path = f\"{directory}/{file_name}.{ext}\"\n",
    "        if os.path.exists(file_path):\n",
    "          return file_path\n",
    "  # Throw error if not found\n",
    "  raise FileNotFoundError(f\"File {file_name} not found in any of the directories.\")"
   ]
  },
  {
   "cell_type": "code",
   "execution_count": 4,
   "metadata": {},
   "outputs": [],
   "source": [
    "def attempt_to_draw_from_df(input_df, file_name, possible_image_dirs, keypoints_mask, extra_keypoints_mask = None, figsize = (8, 6), font_scale = None, font_thickness = None, point_size = None):\n",
    "  hands_from_the_file_rows = input_df[input_df['FILE_NAME'] == file_name]\n",
    "\n",
    "\n",
    "  greens_list = [(i*255/5, 255, i*255/5) for i in range(3)]\n",
    "  blues_list = [(255, i*255/5, i*255/5) for i in range(3)]\n",
    "  reds_list = [(i*255/5, i*255/5, 255) for i in range(3)]\n",
    "  \n",
    "  # Attempt to find image path\n",
    "  relative_img_path = attempt_to_find_image_path(possible_image_dirs, file_name)\n",
    "  hands_from_the_file_rows.reset_index(drop=True, inplace=True)\n",
    "  \n",
    "  # Load image\n",
    "  img = cv2.imread(relative_img_path)\n",
    "  img_height = img.shape[0]\n",
    "  img_width = img.shape[1]\n",
    "  \n",
    "\n",
    "  for i, row in hands_from_the_file_rows.iterrows():\n",
    "    # If there is a bounding box column, draw the bounding box\n",
    "    if \"BB_CX\" in hands_from_the_file_rows.columns:\n",
    "      bb_cx = row[\"BB_CX\"]\n",
    "      bb_cy = row[\"BB_CY\"]\n",
    "      bb_w = row[\"BB_W\"]\n",
    "      bb_h = row[\"BB_H\"]\n",
    "      if font_scale is None:\n",
    "        font_scale = max(2, 5*np.sqrt(bb_w*bb_h*img_width*img_height)/(800))\n",
    "      if font_thickness is None:\n",
    "        font_thickness = max(2, int(100*np.sqrt(bb_w*bb_h*img_width*img_height)/(3800)))\n",
    "        white_thickness = max(2, int(font_thickness*0.75))\n",
    "      if point_size is None:\n",
    "        point_size = int(90*np.sqrt(bb_w*bb_h*img_width*img_height)/(4000))\n",
    "        white_point_size_inside = int(point_size*0.5)\n",
    "      \n",
    "      x = int((bb_cx - bb_w / 2) * img_width)\n",
    "      y = int((bb_cy - bb_h / 2) * img_height)\n",
    "      w = int(bb_w * img_width)\n",
    "      h = int(bb_h * img_height)\n",
    "      cv2.rectangle(img, (x, y), (x + w, y + h), greens_list[i], 2)\n",
    "    \n",
    "    # Draw keypoints\n",
    "    for kp_index, kp in enumerate(keypoints_mask):\n",
    "      x = int(row[f\"{kp}_x\"] * img_width)\n",
    "      y = int(row[f\"{kp}_y\"] * img_height)\n",
    "      if kp_index ==0:\n",
    "        # Draw the handedness if it exists\n",
    "        if \"HANDEDNESS\" in hands_from_the_file_rows.columns:\n",
    "          handedness = row[\"HANDEDNESS\"]\n",
    "          handedness_text = \"Right\" if handedness == 1 else \"Left\"\n",
    "          # Draw text\n",
    "          cv2.putText(img, handedness_text, (x, y), cv2.FONT_HERSHEY_SIMPLEX, int(font_scale*0.8), (0, 0, 0), font_thickness)\n",
    "          # Draw white inline\n",
    "          cv2.putText(img, handedness_text, (x, y), cv2.FONT_HERSHEY_SIMPLEX, int(font_scale*0.8), (255, 255, 255), white_thickness)\n",
    "      # Draw text of index\n",
    "      cv2.putText(img, str(kp_index), (x, y), cv2.FONT_HERSHEY_SIMPLEX, font_scale//2, (0, 0, 0), font_thickness//2)\n",
    "      # Draw white inline\n",
    "      cv2.putText(img, str(kp_index), (x, y), cv2.FONT_HERSHEY_SIMPLEX, font_scale//2, (255, 255, 255), white_thickness//2)\n",
    "      cv2.circle(img, (x, y), point_size, reds_list[i], -1)\n",
    "      cv2.circle(img, (x, y), white_point_size_inside, (255, 255, 255), -1)\n",
    "    # DRAW EXTRA POINTS\n",
    "    if extra_keypoints_mask is not None:\n",
    "      for kp_index, kp in enumerate(extra_keypoints_mask):\n",
    "        x = int(row[f\"{kp}_x\"] * img_width)\n",
    "        y = int(row[f\"{kp}_y\"] * img_height)\n",
    "        cv2.circle(img, (x, y), point_size, blues_list[i], -1)\n",
    "        cv2.circle(img, (x, y), white_point_size_inside, (255, 255, 255), -1)\n",
    "        cv2.putText(img, kp, (x, y), cv2.FONT_HERSHEY_SIMPLEX, font_scale//2, (0, 0, 0), font_thickness//2)\n",
    "        cv2.putText(img, kp, (x, y), cv2.FONT_HERSHEY_SIMPLEX, font_scale//2, (255, 255, 255), white_thickness//2)\n",
    "\n",
    "  # Display the image\n",
    "  plt.figure(figsize=figsize)\n",
    "  plt.imshow(cv2.cvtColor(img, cv2.COLOR_BGR2RGB))\n",
    "  plt.axis('off')\n",
    "  plt.show()\n"
   ]
  },
  {
   "cell_type": "code",
   "execution_count": 5,
   "metadata": {},
   "outputs": [],
   "source": [
    "def is_image_file(file_name):\n",
    "    valid_extensions = ('.jpg', '.jpeg', '.png')  # Add more formats as needed\n",
    "    return file_name.lower().endswith(valid_extensions)\n",
    "\n",
    "def make_hand_keypoint_label_files(path_to_image_dir: str, detector, path_to_output_dir):\n",
    "    # Get all the image files\n",
    "    img_files = [file_name for file_name in os.listdir(path_to_image_dir) if is_image_file(file_name)]    \n",
    "\n",
    "    for file_name in tqdm(img_files, desc = \"Processing images\"):\n",
    "        current_img = mp.Image.create_from_file(os.path.join(path_to_image_dir, file_name))\n",
    "        result = detector.detect(current_img)\n",
    "        # Prepare into a form to save\n",
    "        list_of_hand_dicts = []\n",
    "        \n",
    "        hand_landmarks_list = result.hand_landmarks\n",
    "        handedness_list = result.handedness\n",
    "\n",
    "        for idx in range(len(hand_landmarks_list)):\n",
    "            hand_dict = {}\n",
    "            normalised_keypoints = hand_landmarks_list[idx]\n",
    "            hand_dict[\"handedness\"] = 0 if handedness_list[idx][0].category_name == \"Left\" else 1\n",
    "            hand_dict[\"keypoints\"] = []\n",
    "            for landmark in normalised_keypoints:\n",
    "                # Because the model always returns 0 for presence and visibility, we set visibility to 1 if it is in bounds of the image and 0 if it is not\n",
    "                # https://github.com/google-ai-edge/mediapipe/issues/5212\n",
    "                true_visibility = 1 if 0 <= landmark.x <= 1 and 0 <= landmark.y <= 1 else 0\n",
    "                hand_dict[\"keypoints\"].append({\"x\": landmark.x, \"y\": landmark.y, \"z\": landmark.z, \"visibility\": true_visibility})\n",
    "            list_of_hand_dicts.append(hand_dict)\n",
    "        with open(os.path.join(path_to_output_dir, file_name.replace(\".jpg\", \".json\")), \"w\") as f:\n",
    "            json.dump(list_of_hand_dicts, f)\n",
    "    return\n"
   ]
  },
  {
   "cell_type": "code",
   "execution_count": 6,
   "metadata": {},
   "outputs": [],
   "source": [
    "def parse_yolo_compatible_string(data_string):\n",
    "    # Split the string into individual values\n",
    "    values = list(map(float, data_string.split()))\n",
    "    \n",
    "    # Extract the class ID\n",
    "    class_id = int(values[0])\n",
    "    \n",
    "    # Extract the bounding box parameters\n",
    "    bbox = values[1:5]\n",
    "    \n",
    "    # Extract the keypoints (21 tuples of (norm_x, norm_y, visible))\n",
    "    keypoints = []\n",
    "    for i in range(5, len(values), 3):\n",
    "        keypoints.append((values[i], values[i + 1], int(values[i + 2])))\n",
    "    \n",
    "    # Return the parsed data\n",
    "    return class_id, bbox, keypoints\n",
    "\n",
    "def load_df_yolo_labels_from_dir(path_to_yolo_labels):\n",
    "    def create_dataframe_row(file_name, bb_params, keypoints):\n",
    "        # Prepare the bounding box parameters\n",
    "        bb_x, bb_y, bb_w, bb_h = bb_params\n",
    "\n",
    "        # Prepare the list of keypoints\n",
    "        keypoint_dict = {}\n",
    "        keypoint_names = [\n",
    "            \"WRIST\", \"THUMB_CMC\", \"THUMB_MCP\", \"THUMB_IP\", \"THUMB_TIP\", \n",
    "            \"INDEX_FINGER_MCP\", \"INDEX_FINGER_PIP\", \"INDEX_FINGER_DIP\", \n",
    "            \"INDEX_FINGER_TIP\", \"MIDDLE_FINGER_MCP\", \"MIDDLE_FINGER_PIP\", \n",
    "            \"MIDDLE_FINGER_DIP\", \"MIDDLE_FINGER_TIP\", \"RING_FINGER_MCP\", \n",
    "            \"RING_FINGER_PIP\", \"RING_FINGER_DIP\", \"RING_FINGER_TIP\", \n",
    "            \"PINKY_MCP\", \"PINKY_PIP\", \"PINKY_DIP\", \"PINKY_TIP\"\n",
    "        ]\n",
    "\n",
    "        # Add keypoints to the dictionary\n",
    "        for i, (x, y, visibility) in enumerate(keypoints):\n",
    "            if visibility == 0:\n",
    "                keypoint_dict[f\"{keypoint_names[i]}_x\"] = np.nan\n",
    "                keypoint_dict[f\"{keypoint_names[i]}_y\"] = np.nan\n",
    "            else:\n",
    "                keypoint_dict[f\"{keypoint_names[i]}_x\"] = x\n",
    "                keypoint_dict[f\"{keypoint_names[i]}_y\"] = y\n",
    "\n",
    "        # Construct the dataframe row\n",
    "        row = {\n",
    "            \"FILE_NAME\": file_name,\n",
    "            \"bb_x\": bb_x,\n",
    "            \"bb_y\": bb_y,\n",
    "            \"bb_w\": bb_w,\n",
    "            \"bb_h\": bb_h,\n",
    "            **keypoint_dict\n",
    "        }\n",
    "        return row \n",
    "\n",
    "    list_of_rows = []\n",
    "\n",
    "    directory = os.path.join(path_to_yolo_labels)\n",
    "    # Iterate through each file in the directory\n",
    "    for filename in tqdm(os.listdir(directory), desc = \"Processing Ultralytics YOLO labels\"):\n",
    "        if filename.endswith(\".txt\"):\n",
    "            file_path = os.path.join(directory, filename)\n",
    "            \n",
    "            # Open and read each .txt file\n",
    "            with open(file_path, 'r') as file:\n",
    "                class_id, bbox, keypoints = parse_yolo_compatible_string(file.readline())\n",
    "                list_of_rows.append(create_dataframe_row(filename, bbox, keypoints))\n",
    "    return pd.DataFrame(list_of_rows)"
   ]
  },
  {
   "cell_type": "code",
   "execution_count": 7,
   "metadata": {},
   "outputs": [],
   "source": [
    "def load_df_mp_hand_keypoints(json_dir: str, extra_point = False): \n",
    "# Returns a dataframe with flattened keypoints and additional data\n",
    "    def create_dataframe_row(file_name, keypoints, hand_id, handedness, extra_point_coords = None):    \n",
    "        # RETURNS A DICTIONARY OF KEYPOINTS\n",
    "        # Prepare the list of keypoints\n",
    "        keypoint_dict = {}\n",
    "        keypoint_names = [\n",
    "            \"WRIST\", \"THUMB_CMC\", \"THUMB_MCP\", \"THUMB_IP\", \"THUMB_TIP\", \n",
    "            \"INDEX_FINGER_MCP\", \"INDEX_FINGER_PIP\", \"INDEX_FINGER_DIP\", \n",
    "            \"INDEX_FINGER_TIP\", \"MIDDLE_FINGER_MCP\", \"MIDDLE_FINGER_PIP\", \n",
    "            \"MIDDLE_FINGER_DIP\", \"MIDDLE_FINGER_TIP\", \"RING_FINGER_MCP\", \n",
    "            \"RING_FINGER_PIP\", \"RING_FINGER_DIP\", \"RING_FINGER_TIP\", \n",
    "            \"PINKY_MCP\", \"PINKY_PIP\", \"PINKY_DIP\", \"PINKY_TIP\"\n",
    "        ]\n",
    "        \n",
    "        # Add keypoints to the dictionary\n",
    "        for i, kp in enumerate(keypoints):\n",
    "            if kp['visibility'] == 0:\n",
    "                keypoint_dict[f\"{keypoint_names[i]}_x\"] = np.nan\n",
    "                keypoint_dict[f\"{keypoint_names[i]}_y\"] = np.nan\n",
    "            else:\n",
    "                keypoint_dict[f\"{keypoint_names[i]}_x\"] = kp['x']\n",
    "                keypoint_dict[f\"{keypoint_names[i]}_y\"] = kp['y']\n",
    "        \n",
    "        # Add the extra point if it exists\n",
    "        if extra_point_coords:\n",
    "            keypoint_dict[\"HYPOTHENAR_x\"] = extra_point_coords[\"x\"]\n",
    "            keypoint_dict[\"HYPOTHENAR_y\"] = extra_point_coords[\"y\"]\n",
    "\n",
    "        # Construct the dataframe row\n",
    "        row = {\n",
    "            \"FILE_NAME\": file_name,\n",
    "            \"HAND_ID\": hand_id,\n",
    "            \"HANDEDNESS\": handedness,\n",
    "            **keypoint_dict\n",
    "        }\n",
    "        return row \n",
    "\n",
    "    list_of_rows = []\n",
    "    for file_name in tqdm(os.listdir(json_dir), desc = \"Loading JSON files\"):\n",
    "        with open(os.path.join(json_dir, file_name), \"r\") as f:\n",
    "            hands = json.load(f)\n",
    "            for i in range(len(hands)):\n",
    "                if extra_point:\n",
    "                    list_of_rows.append(create_dataframe_row(file_name, hands[i][\"keypoints\"], hand_id= i, handedness=hands[i][\"handedness\"], extra_point_coords = hands[i][\"extra_point\"]))\n",
    "                else:\n",
    "                    list_of_rows.append(create_dataframe_row(file_name, hands[i][\"keypoints\"], hand_id= i, handedness=hands[i][\"handedness\"]))\n",
    "    return pd.DataFrame(list_of_rows)\n"
   ]
  },
  {
   "cell_type": "code",
   "execution_count": 8,
   "metadata": {},
   "outputs": [],
   "source": [
    "def hagrid_bbox_to_yolo_bbox(bbox):\n",
    "  \"\"\"\n",
    "  Given the bbox in Hagrid format, this function will return the bbox in YOLO format.\n",
    "  \"\"\"\n",
    "  x, y, w, h = bbox\n",
    "\n",
    "  return [x+w/2, y+h/2, w, h]\n",
    "\n",
    "def load_hagrid(path_to_json_file):\n",
    "  \"\"\"\n",
    "  Given the path to the json file and the path to the images, this function will return the data in the format:\n",
    "  {\n",
    "    \"uuid\": {\n",
    "      \"bbox\": [x, y, w, h],\n",
    "      \"keypoints\": [[x, y, v], ...]\n",
    "\n",
    "  \"\"\"\n",
    "  with open(path_to_json_file) as f:\n",
    "    data = json.load(f)\n",
    "  \n",
    "  list_of_rows = []\n",
    "  for uuid, value in data.items():\n",
    "    if len(value['hand_landmarks']) != 1:\n",
    "      continue\n",
    "    bbox = value['bboxes'][0]\n",
    "    yolo_bbox = hagrid_bbox_to_yolo_bbox(bbox)\n",
    "    keypoints = value['hand_landmarks'][0]\n",
    "    keypoint_dict = {}\n",
    "    keypoint_names = [\n",
    "        \"WRIST\", \"THUMB_CMC\", \"THUMB_MCP\", \"THUMB_IP\", \"THUMB_TIP\", \n",
    "        \"INDEX_FINGER_MCP\", \"INDEX_FINGER_PIP\", \"INDEX_FINGER_DIP\", \n",
    "        \"INDEX_FINGER_TIP\", \"MIDDLE_FINGER_MCP\", \"MIDDLE_FINGER_PIP\", \n",
    "        \"MIDDLE_FINGER_DIP\", \"MIDDLE_FINGER_TIP\", \"RING_FINGER_MCP\", \n",
    "        \"RING_FINGER_PIP\", \"RING_FINGER_DIP\", \"RING_FINGER_TIP\", \n",
    "        \"PINKY_MCP\", \"PINKY_PIP\", \"PINKY_DIP\", \"PINKY_TIP\"\n",
    "    ]\n",
    "\n",
    "    # Add keypoints to the dictionary\n",
    "    for i, (x, y) in enumerate(keypoints):\n",
    "        # if visibility == 0:\n",
    "        #   keypoint_dict[f\"{keypoint_names[i]}_x\"] = np.nan\n",
    "        #   keypoint_dict[f\"{keypoint_names[i]}_y\"] = np.nan\n",
    "        # else:\n",
    "      keypoint_dict[f\"{keypoint_names[i]}_x\"] = x\n",
    "      keypoint_dict[f\"{keypoint_names[i]}_y\"] = y\n",
    "\n",
    "    row = {\n",
    "        \"FILE_NAME\": uuid,\n",
    "        \"BB_CX\": yolo_bbox[0],\n",
    "        \"BB_CY\": yolo_bbox[1],\n",
    "        \"BB_W\": yolo_bbox[2],\n",
    "        \"BB_H\": yolo_bbox[3],\n",
    "        **keypoint_dict\n",
    "    }\n",
    "    list_of_rows.append(row)\n",
    "  return pd.DataFrame(list_of_rows)\n"
   ]
  },
  {
   "cell_type": "code",
   "execution_count": 9,
   "metadata": {},
   "outputs": [],
   "source": [
    "def get_cummulative_spatial_error(df1, df2, hand_keypoints):\n",
    "    # Return a series of errors (sums of euclidean distances between keypoints)\n",
    "    # Calculate the sum of the euclidean distances between the keypoints as a measure of error\n",
    "    def get_error(row1, row2):\n",
    "        error = 0\n",
    "        for kp in hand_keypoints:\n",
    "            x1 = row1[f\"{kp}_x\"]\n",
    "            y1 = row1[f\"{kp}_y\"]\n",
    "            x2 = row2[f\"{kp}_x\"]\n",
    "            y2 = row2[f\"{kp}_y\"]\n",
    "            error += np.sqrt((x1 - x2)**2 + (y1 - y2)**2)\n",
    "        return error\n",
    "    \n",
    "    errors = []\n",
    "    for i in range(len(df1)):\n",
    "        errors.append(get_error(df1.iloc[i], df2.iloc[i]))\n",
    "    return errors\n",
    "\n",
    "def get_mean_cummulative_spatial_error(df1, df2, hand_keypoints):\n",
    "    # Calculate the sum of the euclidean distances between the keypoints as a measure of error\n",
    "    # Average of cumulative euclidean distances\n",
    "    def get_error(row1, row2):\n",
    "        error = 0\n",
    "        for kp in hand_keypoints:\n",
    "            x1 = row1[f\"{kp}_x\"]\n",
    "            y1 = row1[f\"{kp}_y\"]\n",
    "            x2 = row2[f\"{kp}_x\"]\n",
    "            y2 = row2[f\"{kp}_y\"]\n",
    "            error += np.sqrt((x1 - x2)**2 + (y1 - y2)**2)\n",
    "        return error\n",
    "    \n",
    "    errors = []\n",
    "    for i in range(len(df1)):\n",
    "        errors.append(get_error(df1.iloc[i], df2.iloc[i]))\n",
    "    return np.mean(errors)\n",
    "\n",
    "def average_middle_finger(df):\n",
    "    # Calculate the average distance from MIDDLE_FINGER_MCP to MIDDLE_FINGER_TIP\n",
    "    errors = []\n",
    "    for i in range(len(df)):\n",
    "        x1 = df.iloc[i][\"MIDDLE_FINGER_MCP_x\"]\n",
    "        y1 = df.iloc[i][\"MIDDLE_FINGER_MCP_y\"]\n",
    "        x2 = df.iloc[i][\"MIDDLE_FINGER_TIP_x\"]\n",
    "        y2 = df.iloc[i][\"MIDDLE_FINGER_TIP_y\"]\n",
    "        errors.append(np.sqrt((x1 - x2)**2 + (y1 - y2)**2))\n",
    "    return np.mean(errors)"
   ]
  },
  {
   "cell_type": "code",
   "execution_count": 10,
   "metadata": {},
   "outputs": [],
   "source": [
    "def generate_df_bounding_boxes(df, keypoints_mask, padding=0.1):\n",
    "    def get_bounding_box(row, padding):\n",
    "        # Get the x and y coordinates of the keypoints\n",
    "        x_coords = [row[f\"{kp}_x\"] for kp in keypoints_mask]\n",
    "        y_coords = [row[f\"{kp}_y\"] for kp in keypoints_mask]\n",
    "\n",
    "        # Calculate the bounding box parameters\n",
    "        bb_x = min(x_coords)\n",
    "        bb_y = min(y_coords)\n",
    "        bb_w = max(x_coords) - bb_x\n",
    "        bb_h = max(y_coords) - bb_y\n",
    "\n",
    "        # Calculate center of the bounding box\n",
    "        bb_cx = bb_x + bb_w / 2\n",
    "        bb_cy = bb_y + bb_h / 2\n",
    "\n",
    "        # Calculate maximum padding to keep the box within image boundaries\n",
    "        max_padding_x = min(bb_cx - bb_w / 2, 1 - (bb_cx + bb_w / 2)) / (bb_w / 2)\n",
    "        max_padding_y = min(bb_cy - bb_h / 2, 1 - (bb_cy + bb_h / 2)) / (bb_h / 2)\n",
    "        max_padding = min(max_padding_x, max_padding_y)\n",
    "\n",
    "        # Apply the smaller of the user-provided padding or max possible padding\n",
    "        effective_padding = min(padding, max_padding)\n",
    "        bb_w *= (1 + effective_padding)\n",
    "        bb_h *= (1 + effective_padding)\n",
    "\n",
    "        return bb_cx, bb_cy, bb_w, bb_h\n",
    "\n",
    "    # Return DataFrame with the columns BB_CX, BB_CY, BB_W, BB_H\n",
    "    return pd.DataFrame(\n",
    "        [get_bounding_box(row, padding) for _, row in df.iterrows()],\n",
    "        columns=[\"BB_CX\", \"BB_CY\", \"BB_W\", \"BB_H\"]\n",
    "    )\n",
    "\n",
    "def img_to_bb_space_transform_df(df, keypoints_mask):\n",
    "    def image_to_bounding_box_space(x_img, y_img, bb_center_x, bb_center_y, bb_width, bb_height):\n",
    "        # Shift origin to bounding box center\n",
    "        x_shifted = x_img - bb_center_x\n",
    "        y_shifted = y_img - bb_center_y\n",
    "\n",
    "        # Normalize by half the bounding box dimensions\n",
    "        x_bb = x_shifted / (bb_width / 2)\n",
    "        y_bb = y_shifted / (bb_height / 2)\n",
    "\n",
    "        return x_bb, y_bb\n",
    "    \n",
    "    def image_to_bounding_box_space_row(row):\n",
    "        # Get the bounding box parameters\n",
    "        bb_cx = row[\"BB_CX\"]\n",
    "        bb_cy = row[\"BB_CY\"]\n",
    "        bb_w = row[\"BB_W\"]\n",
    "        bb_h = row[\"BB_H\"]\n",
    "        \n",
    "        # Apply the transformation to each keypoint\n",
    "        for kp in keypoints_mask:\n",
    "            x_img = row[f\"{kp}_x\"]\n",
    "            y_img = row[f\"{kp}_y\"]\n",
    "            x_bb, y_bb = image_to_bounding_box_space(x_img, y_img, bb_cx, bb_cy, bb_w, bb_h)\n",
    "            row[f\"{kp}_x\"] = x_bb\n",
    "            row[f\"{kp}_y\"] = y_bb\n",
    "        return row\n",
    "    \n",
    "    return df.apply(image_to_bounding_box_space_row, axis=1)\n",
    "\n",
    "def bb_to_img_space_transform_df(df, keypoints_mask):\n",
    "    def bounding_box_to_image_space(x_bb, y_bb, bb_center_x, bb_center_y, bb_width, bb_height):\n",
    "        # Denormalize by half the bounding box dimensions\n",
    "        x_shifted = x_bb * (bb_width / 2)\n",
    "        y_shifted = y_bb * (bb_height / 2)\n",
    "        \n",
    "        # Shift origin back to the image space\n",
    "        x_img = x_shifted + bb_center_x\n",
    "        y_img = y_shifted + bb_center_y\n",
    "\n",
    "        return x_img, y_img\n",
    "    \n",
    "    def bounding_box_to_image_space_row(row):\n",
    "        # Get the bounding box parameters\n",
    "        bb_cx = row[\"BB_CX\"]\n",
    "        bb_cy = row[\"BB_CY\"]\n",
    "        bb_w = row[\"BB_W\"]\n",
    "        bb_h = row[\"BB_H\"]\n",
    "        \n",
    "        # Apply the transformation to each keypoint\n",
    "        for kp in keypoints_mask:\n",
    "            x_bb = row[f\"{kp}_x\"]\n",
    "            y_bb = row[f\"{kp}_y\"]\n",
    "            x_img, y_img = bounding_box_to_image_space(x_bb, y_bb, bb_cx, bb_cy, bb_w, bb_h)\n",
    "            row[f\"{kp}_x\"] = x_img\n",
    "            row[f\"{kp}_y\"] = y_img\n",
    "        return row\n",
    "    \n",
    "    return df.apply(bounding_box_to_image_space_row, axis=1)\n",
    "\n",
    "def calculate_rotation_angle_degrees(wrist_x, wrist_y, middle_finger_mcp_x, middle_finger_mcp_y):\n",
    "    # Form the vector (WRIST -> MIDDLE_FINGER_MCP)\n",
    "    vector_x = middle_finger_mcp_x - wrist_x\n",
    "    vector_y = middle_finger_mcp_y - wrist_y\n",
    "\n",
    "    # Normalize the vector\n",
    "    magnitude = np.sqrt(vector_x**2 + vector_y**2)\n",
    "    unit_vector_x = vector_x / magnitude\n",
    "    unit_vector_y = vector_y / magnitude\n",
    "\n",
    "    # Calculate the angle to align with (0,1) using dot product\n",
    "    dot_product = unit_vector_y  # Since (0,1) has x=0\n",
    "    angle_rad = np.arccos(dot_product)\n",
    "\n",
    "    # Determine the sign of rotation using the cross product (to account for direction)\n",
    "    cross_product = unit_vector_x\n",
    "    if cross_product < 0:\n",
    "        angle_rad = -angle_rad\n",
    "\n",
    "    # Convert to degrees\n",
    "    angle_deg = np.degrees(angle_rad)\n",
    "    return angle_deg\n",
    "\n",
    "def rotate_point(x, y, angle_rad):\n",
    "    # Apply 2D rotation matrix\n",
    "    rotated_x = x * np.cos(angle_rad) - y * np.sin(angle_rad)\n",
    "    rotated_y = x * np.sin(angle_rad) + y * np.cos(angle_rad)\n",
    "    return rotated_x, rotated_y\n",
    "\n",
    "def transform_to_rotated_bb_space(df, keypoints_mask, wrist_key, middle_finger_mcp_key):\n",
    "    def rotate_bb_space_row(row):\n",
    "        # Get the rotation angle in degrees\n",
    "        wrist_x, wrist_y = row[f\"{wrist_key}_x\"], row[f\"{wrist_key}_y\"]\n",
    "        middle_finger_x, middle_finger_y = row[f\"{middle_finger_mcp_key}_x\"], row[f\"{middle_finger_mcp_key}_y\"]\n",
    "        angle_deg = calculate_rotation_angle_degrees(wrist_x, wrist_y, middle_finger_x, middle_finger_y)\n",
    "\n",
    "        # Convert degrees to radians for rotation\n",
    "        angle_rad = np.radians(angle_deg)\n",
    "\n",
    "        # Rotate each keypoint\n",
    "        for kp in keypoints_mask:\n",
    "            x_bb = row[f\"{kp}_x\"]\n",
    "            y_bb = row[f\"{kp}_y\"]\n",
    "            rotated_x, rotated_y = rotate_point(x_bb, y_bb, angle_rad)\n",
    "            row[f\"{kp}_x\"] = rotated_x\n",
    "            row[f\"{kp}_y\"] = rotated_y\n",
    "\n",
    "        # Add the rotation degree to the row\n",
    "        row[\"ROT_DEG\"] = angle_deg\n",
    "        return row\n",
    "\n",
    "    return df.apply(rotate_bb_space_row, axis=1)\n",
    "\n",
    "def reverse_rotation_from_rotated_bb_space(df, keypoints_mask):\n",
    "    def reverse_rotate_bb_space_row(row):\n",
    "        # Get the rotation angle in degrees and convert to radians\n",
    "        angle_deg = row[\"ROT_DEG\"]\n",
    "        angle_rad = np.radians(-angle_deg)  # Negate the angle for reverse rotation\n",
    "\n",
    "        # Reverse rotate each keypoint\n",
    "        for kp in keypoints_mask:\n",
    "            x_rot = row[f\"{kp}_x\"]\n",
    "            y_rot = row[f\"{kp}_y\"]\n",
    "            original_x, original_y = rotate_point(x_rot, y_rot, angle_rad)\n",
    "            row[f\"{kp}_x\"] = original_x\n",
    "            row[f\"{kp}_y\"] = original_y\n",
    "\n",
    "        return row\n",
    "\n",
    "    return df.apply(reverse_rotate_bb_space_row, axis=1)"
   ]
  },
  {
   "cell_type": "code",
   "execution_count": 11,
   "metadata": {},
   "outputs": [],
   "source": [
    "hand_keypoints_names = {\n",
    "    0: \"WRIST\",\n",
    "    1: \"THUMB_CMC\",\n",
    "    2: \"THUMB_MCP\",\n",
    "    3: \"THUMB_IP\",\n",
    "    4: \"THUMB_TIP\",\n",
    "    5: \"INDEX_FINGER_MCP\",\n",
    "    6: \"INDEX_FINGER_PIP\",\n",
    "    7: \"INDEX_FINGER_DIP\",\n",
    "    8: \"INDEX_FINGER_TIP\",\n",
    "    9: \"MIDDLE_FINGER_MCP\",\n",
    "    10: \"MIDDLE_FINGER_PIP\",\n",
    "    11: \"MIDDLE_FINGER_DIP\",\n",
    "    12: \"MIDDLE_FINGER_TIP\",\n",
    "    13: \"RING_FINGER_MCP\",\n",
    "    14: \"RING_FINGER_PIP\",\n",
    "    15: \"RING_FINGER_DIP\",\n",
    "    16: \"RING_FINGER_TIP\",\n",
    "    17: \"PINKY_MCP\",\n",
    "    18: \"PINKY_PIP\",\n",
    "    19: \"PINKY_DIP\",\n",
    "    20: \"PINKY_TIP\"\n",
    "}\n",
    "\n",
    "flattened_keypoint_names = [f\"{v}_{axis}\" for k, v in hand_keypoints_names.items() for axis in [\"x\", \"y\"]]"
   ]
  },
  {
   "cell_type": "code",
   "execution_count": 12,
   "metadata": {},
   "outputs": [],
   "source": [
    "# Instantiate MEDIAPIPE DETECTOR MODEL\n",
    "base_options = python.BaseOptions(model_asset_path='hand_landmarker.task')\n",
    "\n",
    "single_hand_options = vision.HandLandmarkerOptions(base_options=base_options, num_hands=1)\n",
    "two_hand_options = vision.HandLandmarkerOptions(base_options=base_options, num_hands=2)\n",
    "\n",
    "single_hand_detector = vision.HandLandmarker.create_from_options(single_hand_options)\n",
    "two_hand_detector = vision.HandLandmarker.create_from_options(two_hand_options)\n"
   ]
  },
  {
   "cell_type": "code",
   "execution_count": 13,
   "metadata": {},
   "outputs": [],
   "source": [
    "def calculate_mean_iou(df_detected, df_ground_truth):\n",
    "    \"\"\"\n",
    "    Calculate the mean IoU (%) between detected and ground truth bounding boxes.\n",
    "\n",
    "    Parameters:\n",
    "        df_detected (pd.DataFrame): DataFrame with detected bounding boxes (BB_CX, BB_CY, BB_H, BB_W).\n",
    "        df_ground_truth (pd.DataFrame): DataFrame with ground truth bounding boxes (BB_CX, BB_CY, BB_H, BB_W).\n",
    "\n",
    "    Returns:\n",
    "        float: Mean IoU in percentage.\n",
    "    \"\"\"\n",
    "    def calculate_iou(row1, row2):\n",
    "        # Extract coordinates and sizes\n",
    "        x1_det, y1_det = row1['BB_CX'] - row1['BB_W'] / 2, row1['BB_CY'] - row1['BB_H'] / 2\n",
    "        x2_det, y2_det = row1['BB_CX'] + row1['BB_W'] / 2, row1['BB_CY'] + row1['BB_H'] / 2\n",
    "        \n",
    "        x1_gt, y1_gt = row2['BB_CX'] - row2['BB_W'] / 2, row2['BB_CY'] - row2['BB_H'] / 2\n",
    "        x2_gt, y2_gt = row2['BB_CX'] + row2['BB_W'] / 2, row2['BB_CY'] + row2['BB_H'] / 2\n",
    "        \n",
    "        # Calculate intersection coordinates\n",
    "        x_left = max(x1_det, x1_gt)\n",
    "        y_top = max(y1_det, y1_gt)\n",
    "        x_right = min(x2_det, x2_gt)\n",
    "        y_bottom = min(y2_det, y2_gt)\n",
    "        \n",
    "        # Check for non-overlapping boxes\n",
    "        if x_right < x_left or y_bottom < y_top:\n",
    "            return 0.0\n",
    "        \n",
    "        # Calculate intersection and union areas\n",
    "        intersection_area = (x_right - x_left) * (y_bottom - y_top)\n",
    "        det_area = row1['BB_W'] * row1['BB_H']\n",
    "        gt_area = row2['BB_W'] * row2['BB_H']\n",
    "        union_area = det_area + gt_area - intersection_area\n",
    "        \n",
    "        # IoU calculation\n",
    "        iou = intersection_area / union_area\n",
    "        return iou\n",
    "\n",
    "    # Apply the IoU function row-wise and calculate the mean IoU\n",
    "    ious = [\n",
    "        calculate_iou(df_detected.iloc[i], df_ground_truth.iloc[i]) \n",
    "        for i in range(len(df_detected))\n",
    "    ]\n",
    "    mean_iou = sum(ious) / len(ious) * 100  # Convert to percentage\n",
    "    \n",
    "    return mean_iou\n"
   ]
  },
  {
   "cell_type": "code",
   "execution_count": 14,
   "metadata": {},
   "outputs": [],
   "source": [
    "def transform_to_normalized_space(df, hand_keypoints):\n",
    "    df_bb_space = img_to_bb_space_transform_df(df, hand_keypoints)\n",
    "    df_rotated = transform_to_rotated_bb_space(df_bb_space, hand_keypoints, wrist_key=\"WRIST\", middle_finger_mcp_key=\"MIDDLE_FINGER_MCP\")\n",
    "    return df_rotated\n",
    "\n",
    "def transform_to_image_space(df, hand_keypoints):\n",
    "    # Reverse the transformations\n",
    "    df_rotated = reverse_rotation_from_rotated_bb_space(df, hand_keypoints)\n",
    "    df_img_space = bb_to_img_space_transform_df(df_rotated, hand_keypoints)\n",
    "\n",
    "    return df_img_space"
   ]
  },
  {
   "cell_type": "code",
   "execution_count": 15,
   "metadata": {},
   "outputs": [],
   "source": [
    "def process_strings(strings):\n",
    "    return list({s[:-2] for s in strings if s.endswith('_x') or s.endswith('_y')})\n",
    "\n",
    "def add_bounding_box_columns(df, keypoints_mask):\n",
    "    if 'BB_CX' in df.columns:\n",
    "        return df\n",
    "    # Generate BBOX for our annotations\n",
    "    df_bounding_boxes = generate_df_bounding_boxes(df, keypoints_mask)\n",
    "    df_bounding_boxes.index = df.index\n",
    "    df = pd.concat([df, df_bounding_boxes], axis=1)\n",
    "    return df"
   ]
  },
  {
   "cell_type": "markdown",
   "metadata": {},
   "source": [
    "# Beginning of document"
   ]
  },
  {
   "cell_type": "code",
   "execution_count": 16,
   "metadata": {},
   "outputs": [],
   "source": [
    "seed = 7\n",
    "\n",
    "hand_keypoints_no_pinky_MCP = [kp for kp in hand_keypoints_names.values() if \"PINKY_MCP\" != kp]\n",
    "flattened_hand_keypoints_no_pinky_MCP = [f\"{v}_{axis}\" for k, v in hand_keypoints_names.items() if \"PINKY_MCP\" != v for axis in [\"x\", \"y\"]]\n",
    "\n",
    "# hand keypoints no THUMB_CMC\n",
    "hand_keypoints_no_thumb_CMC = [kp for kp in hand_keypoints_names.values() if \"THUMB_CMC\" != kp]\n",
    "flattened_hand_keypoints_no_thumb_CMC = [f\"{v}_{axis}\" for k, v in hand_keypoints_names.items() if \"THUMB_CMC\" != v for axis in [\"x\", \"y\"]]"
   ]
  },
  {
   "cell_type": "markdown",
   "metadata": {},
   "source": [
    "### Loading keypoint annotation data "
   ]
  },
  {
   "cell_type": "code",
   "execution_count": 17,
   "metadata": {},
   "outputs": [
    {
     "name": "stderr",
     "output_type": "stream",
     "text": [
      "Processing Ultralytics YOLO labels: 100%|██████████| 7416/7416 [00:00<00:00, 17510.16it/s]\n",
      "Processing Ultralytics YOLO labels: 100%|██████████| 3125/3125 [00:00<00:00, 11481.23it/s]\n"
     ]
    },
    {
     "name": "stdout",
     "output_type": "stream",
     "text": [
      "Hagrid Palm Train: 18536\n",
      "Hagrid Palm Val: 2294\n",
      "Hagrid Palm Test: 3974\n",
      "Hagrid Stop Train: 18224\n",
      "Hagrid Stop Val: 2234\n",
      "Hagrid Stop Test: 3953\n",
      "Hagrid Stopinv Train: 17364\n",
      "Hagrid Stopinv Val: 2406\n",
      "Hagrid Stopinv Test: 4007\n",
      "11k Train: 3713\n",
      "11k Val: 1991\n",
      "11k Test: 929\n"
     ]
    }
   ],
   "source": [
    "# FIRST HAGRID DATASET\n",
    "# This is palm fingers apart\n",
    "hagrid_palm_train_df = load_hagrid('hagrid/data/annotations/train/palm.json')\n",
    "hagrid_palm_val_df = load_hagrid('hagrid/data/annotations/val/palm.json')\n",
    "hagrid_palm_test_df = load_hagrid('hagrid/data/annotations/test/palm.json')\n",
    "\n",
    "# This is palm fingers together\n",
    "hagrid_stop_train_df = load_hagrid('hagrid/data/annotations/train/stop.json')\n",
    "hagrid_stop_val_df = load_hagrid('hagrid/data/annotations/val/stop.json')\n",
    "hagrid_stop_test_df = load_hagrid('hagrid/data/annotations/test/stop.json')\n",
    "\n",
    "# This is dorsal fingers together\n",
    "hagrid_stopinv_train_df = load_hagrid('hagrid/data/annotations/train/stop_inverted.json')\n",
    "hagrid_stopinv_val_df = load_hagrid('hagrid/data/annotations/val/stop_inverted.json')\n",
    "hagrid_stopinv_test_df = load_hagrid('hagrid/data/annotations/test/stop_inverted.json')\n",
    "\n",
    "# SECOND is 11k HANDS dataset\n",
    "# Palmar, dorsal fingers together and apart all in one\n",
    "train_11k_df = load_df_yolo_labels_from_dir('hand-keypoints/train/labels')\n",
    "val_11k_df = load_df_yolo_labels_from_dir('hand-keypoints/val/labels')\n",
    "# Rename the columns to match the hagrid dataset bb_x\tbb_y\tbb_w\tbb_h into BB_CX\tBB_CY\tBB_W\tBB_H\n",
    "train_11k_df.rename(columns={'bb_x': 'BB_CX', 'bb_y': 'BB_CY', 'bb_w': 'BB_W', 'bb_h': 'BB_H'}, inplace=True)\n",
    "val_11k_df.rename(columns={'bb_x': 'BB_CX', 'bb_y': 'BB_CY', 'bb_w': 'BB_W', 'bb_h': 'BB_H'}, inplace=True)\n",
    "\n",
    "# Train test split train\n",
    "\n",
    "# DROP NA from all\n",
    "hagrid_palm_train_df = hagrid_palm_train_df.dropna()\n",
    "hagrid_palm_val_df = hagrid_palm_val_df.dropna()\n",
    "hagrid_palm_test_df = hagrid_palm_test_df.dropna()\n",
    "hagrid_stop_train_df = hagrid_stop_train_df.dropna()\n",
    "hagrid_stop_val_df = hagrid_stop_val_df.dropna()\n",
    "hagrid_stop_test_df = hagrid_stop_test_df.dropna()\n",
    "hagrid_stopinv_train_df = hagrid_stopinv_train_df.dropna()\n",
    "hagrid_stopinv_val_df = hagrid_stopinv_val_df.dropna()\n",
    "hagrid_stopinv_test_df = hagrid_stopinv_test_df.dropna()\n",
    "train_11k_df = train_11k_df.dropna()\n",
    "val_11k_df = val_11k_df.dropna()\n",
    "train_11k_df, test_11k_df = train_test_split(train_11k_df, test_size=0.2, shuffle=False)\n",
    "test_11k_df.dropna()\n",
    "\n",
    "\n",
    "\n",
    "# Print the length of each dataframe\n",
    "print(\"Hagrid Palm Train:\", len(hagrid_palm_train_df))\n",
    "print(\"Hagrid Palm Val:\", len(hagrid_palm_val_df))\n",
    "print(\"Hagrid Palm Test:\", len(hagrid_palm_test_df))\n",
    "print(\"Hagrid Stop Train:\", len(hagrid_stop_train_df))\n",
    "print(\"Hagrid Stop Val:\", len(hagrid_stop_val_df))\n",
    "print(\"Hagrid Stop Test:\", len(hagrid_stop_test_df))\n",
    "print(\"Hagrid Stopinv Train:\", len(hagrid_stopinv_train_df))\n",
    "print(\"Hagrid Stopinv Val:\", len(hagrid_stopinv_val_df))\n",
    "print(\"Hagrid Stopinv Test:\", len(hagrid_stopinv_test_df))\n",
    "print(\"11k Train:\", len(train_11k_df))\n",
    "print(\"11k Val:\", len(val_11k_df))\n",
    "print(\"11k Test:\", len(test_11k_df))\n",
    "\n"
   ]
  },
  {
   "cell_type": "code",
   "execution_count": 18,
   "metadata": {},
   "outputs": [
    {
     "name": "stderr",
     "output_type": "stream",
     "text": [
      "Loading JSON files: 100%|██████████| 80/80 [00:00<00:00, 3333.54it/s]\n",
      "Loading JSON files: 100%|██████████| 80/80 [00:00<00:00, 3199.99it/s]\n"
     ]
    }
   ],
   "source": [
    "# Load our_hands dataset\n",
    "our_hands_rgb_df = load_df_mp_hand_keypoints('our_hands_dataset/LABELS_RGB', extra_point=True)\n",
    "our_hands_ir_df = load_df_mp_hand_keypoints('our_hands_dataset/LABELS_IR', extra_point=True)\n",
    "our_hands_total = pd.concat([our_hands_rgb_df, our_hands_ir_df])\n",
    "\n",
    "hpi_male_df = pd.read_csv(\"hpi_male_df.csv\")\n",
    "hpi_female_df = pd.read_csv(\"hpi_female_df.csv\")\n",
    "# Concatenate them together\n",
    "hpi_df = pd.concat([hpi_female_df, hpi_male_df], ignore_index=True)\n",
    "hpi_df.dropna(inplace=True)                    \n",
    "# Add bounding box columns\n",
    "hpi_df_bbs = generate_df_bounding_boxes(hpi_df, keypoints_mask = hand_keypoints_names.values())\n",
    "hpi_df_bbs.index = hpi_df.index\n",
    "hpi_df = pd.concat([hpi_df, hpi_df_bbs], axis=1)\n",
    "\n",
    "# Generate bounding boxes\n",
    "our_hands_total_bounding_boxes_df = generate_df_bounding_boxes(our_hands_total, keypoints_mask = hand_keypoints_names.values())\n",
    "# Add the columns to the dataframe\n",
    "our_hands_total_bounding_boxes_df.index = our_hands_total.index\n",
    "our_hands_total = pd.concat([our_hands_total, our_hands_total_bounding_boxes_df], axis=1)"
   ]
  },
  {
   "cell_type": "markdown",
   "metadata": {},
   "source": [
    "# MAKE BIG DATASET"
   ]
  },
  {
   "cell_type": "code",
   "execution_count": 19,
   "metadata": {},
   "outputs": [],
   "source": [
    "\n",
    "size_of_clean_11k = int(len(train_11k_df)*1.66)\n",
    "# combined_train_df = pd.concat([train_11k_df, \n",
    "#                               hagrid_palm_train_df.sample(n=size_of_clean_11k, random_state=seed, axis=0), \n",
    "#                               hagrid_stop_train_df.sample(n=size_of_clean_11k, random_state=seed, axis=0), \n",
    "#                               hagrid_stopinv_train_df.sample(n=size_of_clean_11k, random_state=seed, axis=0)])\n",
    "\n",
    "combined_train_df = pd.concat([train_11k_df,\n",
    "                                hagrid_palm_train_df, \n",
    "                                hagrid_stop_train_df, \n",
    "                                hagrid_stopinv_train_df])\n",
    "\n",
    "\n",
    "combined_val_df = pd.concat([val_11k_df,\n",
    "                                hagrid_palm_val_df, \n",
    "                                hagrid_stop_val_df, \n",
    "                                hagrid_stopinv_val_df])\n",
    "\n",
    "\n",
    "combined_test_df = pd.concat([test_11k_df,\n",
    "                                hagrid_palm_test_df, \n",
    "                                hagrid_stop_test_df, \n",
    "                                hagrid_stopinv_test_df])"
   ]
  },
  {
   "cell_type": "code",
   "execution_count": 20,
   "metadata": {},
   "outputs": [
    {
     "name": "stdout",
     "output_type": "stream",
     "text": [
      "Combined Train: 57837\n",
      "Combined Test: 12863\n",
      "Combined Val: 8925\n"
     ]
    }
   ],
   "source": [
    "# Print length of combined_train_df and combined_test_df\n",
    "print(\"Combined Train:\", len(combined_train_df))\n",
    "print(\"Combined Test:\", len(combined_test_df))\n",
    "print(\"Combined Val:\", len(combined_val_df))"
   ]
  },
  {
   "cell_type": "markdown",
   "metadata": {},
   "source": [
    "## Pre-processing\n",
    "Normalizing all datasets."
   ]
  },
  {
   "cell_type": "code",
   "execution_count": 21,
   "metadata": {},
   "outputs": [
    {
     "name": "stdout",
     "output_type": "stream",
     "text": [
      "Normalizing ground-truth hypothenar dataset\n",
      "Normalizing hagrid palm dataset\n",
      "Normalizing hagrid stop dataset\n",
      "Normalizing hagrid stop inverted dataset\n"
     ]
    }
   ],
   "source": [
    "# Reset index\n",
    "combined_test_df.reset_index(drop=True, inplace=True)\n",
    "combined_train_df.reset_index(drop=True, inplace=True)\n",
    "combined_val_df.reset_index(drop=True, inplace=True)\n",
    "# Transform to rotated bb space\n",
    "combined_train_df_normalized = transform_to_normalized_space(combined_train_df, hand_keypoints_names.values())\n",
    "combined_test_df_normalized = transform_to_normalized_space(combined_test_df, hand_keypoints_names.values())\n",
    "combined_val_df_normalized = transform_to_normalized_space(combined_val_df, hand_keypoints_names.values())\n",
    "# do the same for our dataset\n",
    "\n",
    "true_hypoth_df = pd.concat([our_hands_total, hpi_df], ignore_index=True)\n",
    "true_hypoth_df.dropna()\n",
    "# our_hands_total.reset_index(drop=True, inplace=True)\n",
    "print(\"Normalizing ground-truth hypothenar dataset\")\n",
    "true_hypoth_normalized_df = transform_to_normalized_space(true_hypoth_df, list(hand_keypoints_names.values()) + [\"HYPOTHENAR\"])\n",
    "# Do it for hagrid classes so i can have separate tests for one class of gesture\n",
    "print(\"Normalizing hagrid palm dataset\")\n",
    "hagrid_palm_test_df.reset_index(drop=True, inplace=True)\n",
    "hagrid_palm_test_df_normalized = transform_to_normalized_space(hagrid_palm_test_df, hand_keypoints_names.values())\n",
    "print(\"Normalizing hagrid stop dataset\")\n",
    "hagrid_stop_test_df.reset_index(drop=True, inplace=True)\n",
    "hagrid_stop_test_df_normalized = transform_to_normalized_space(hagrid_stop_test_df, hand_keypoints_names.values())\n",
    "print(\"Normalizing hagrid stop inverted dataset\")\n",
    "hagrid_stopinv_test_df.reset_index(drop=True, inplace=True)\n",
    "hagrid_stopinv_test_df_normalized = transform_to_normalized_space(hagrid_stopinv_test_df, hand_keypoints_names.values())"
   ]
  },
  {
   "cell_type": "markdown",
   "metadata": {},
   "source": [
    "### Obtain measurements for real-world estimations using corresponding real-world measurements."
   ]
  },
  {
   "cell_type": "code",
   "execution_count": 22,
   "metadata": {},
   "outputs": [
    {
     "name": "stdout",
     "output_type": "stream",
     "text": [
      "Mean distance between WRIST and MIDDLE_FINGER_TIP: 1.8856620681360015\n",
      "Mean distance between PINKY_MCP and INDEX_FINGER_MCP: 0.8559343900505783\n",
      "Compensated Mean distance between PINKY_MCP and INDEX_FINGER_MCP: 1.0699179875632228\n",
      "Standard deviation of the distance between WRIST and MIDDLE_FINGER_TIP: 0.06213078392567603\n",
      "Standard deviation of the distance between PINKY_MCP and INDEX_FINGER_MCP: 0.1431738527024481\n"
     ]
    }
   ],
   "source": [
    "# For true_hypotyh_df normalized, calculate\n",
    "# Calculate average distance between WRIST and MIDDLE_FINGER_TIP and between PINKY_MCP and INDEX_FINGER_MCP\n",
    "anthropometric_measurements = true_hypoth_normalized_df.copy()\n",
    "\n",
    "# Calculate the distances between WRIST and MIDDLE_FINGER_TIP\n",
    "anthropometric_measurements[\"WRIST_MFT_DISTANCE\"] = np.sqrt(\n",
    "    (anthropometric_measurements[\"WRIST_x\"] - anthropometric_measurements[\"MIDDLE_FINGER_TIP_x\"])**2 +\n",
    "    (anthropometric_measurements[\"WRIST_y\"] - anthropometric_measurements[\"MIDDLE_FINGER_TIP_y\"])**2\n",
    ")\n",
    "# Calculate the distances between PINKY_MCP and INDEX_FINGER_MCP\n",
    "anthropometric_measurements[\"PINKY_MCP_IFM_DISTANCE\"] = np.sqrt(\n",
    "    (anthropometric_measurements[\"PINKY_MCP_x\"] - anthropometric_measurements[\"INDEX_FINGER_MCP_x\"])**2 +\n",
    "    (anthropometric_measurements[\"PINKY_MCP_y\"] - anthropometric_measurements[\"INDEX_FINGER_MCP_y\"])**2\n",
    ")\n",
    "# Calculate the mean \n",
    "mean_wrist_mft_distance = anthropometric_measurements[\"WRIST_MFT_DISTANCE\"].mean()\n",
    "mean_pinky_mcp_ifm_distance = anthropometric_measurements[\"PINKY_MCP_IFM_DISTANCE\"].mean()\n",
    "\n",
    "# Print the mean distances\n",
    "print(\"Mean distance between WRIST and MIDDLE_FINGER_TIP:\", mean_wrist_mft_distance)\n",
    "print(\"Mean distance between PINKY_MCP and INDEX_FINGER_MCP:\", mean_pinky_mcp_ifm_distance)\n",
    "print(\"Compensated Mean distance between PINKY_MCP and INDEX_FINGER_MCP:\", mean_pinky_mcp_ifm_distance * 1.25)\n",
    "\n",
    "# Calculate standard deviation of the distances\n",
    "std_wrist_mft_distance = anthropometric_measurements[\"WRIST_MFT_DISTANCE\"].std()\n",
    "std_pinky_mcp_ifm_distance = anthropometric_measurements[\"PINKY_MCP_IFM_DISTANCE\"].std()\n",
    "\n",
    "# Print the standard deviations\n",
    "print(\"Standard deviation of the distance between WRIST and MIDDLE_FINGER_TIP:\", std_wrist_mft_distance)\n",
    "print(\"Standard deviation of the distance between PINKY_MCP and INDEX_FINGER_MCP:\", std_pinky_mcp_ifm_distance)\n"
   ]
  },
  {
   "cell_type": "markdown",
   "metadata": {},
   "source": [
    "# Thumb Keypoint Prediction Experiment Setup"
   ]
  },
  {
   "cell_type": "code",
   "execution_count": 23,
   "metadata": {},
   "outputs": [],
   "source": [
    "X_custom_eval = true_hypoth_normalized_df[flattened_hand_keypoints_no_thumb_CMC]\n",
    "y_custom_eval = true_hypoth_normalized_df[['THUMB_CMC_x', 'THUMB_CMC_y']]\n",
    "\n",
    "X_train = combined_train_df_normalized[flattened_hand_keypoints_no_thumb_CMC]\n",
    "y_train = combined_train_df_normalized[['THUMB_CMC_x', 'THUMB_CMC_y']]\n",
    "X_val = combined_val_df_normalized[flattened_hand_keypoints_no_thumb_CMC]\n",
    "y_val = combined_val_df_normalized[['THUMB_CMC_x', 'THUMB_CMC_y']]\n",
    "X_test = combined_test_df_normalized[flattened_hand_keypoints_no_thumb_CMC]\n",
    "y_test = combined_test_df_normalized[['THUMB_CMC_x', 'THUMB_CMC_y']]\n",
    "\n",
    "# Additional test sets\n",
    "# {\"name\": (X, y)}\n",
    "additional_tests = {\n",
    "  \"HagridPalm\": (hagrid_palm_test_df_normalized[flattened_hand_keypoints_no_thumb_CMC], hagrid_palm_test_df_normalized[['THUMB_CMC_x', 'THUMB_CMC_y']]),\n",
    "  \"HagridStop\": (hagrid_stop_test_df_normalized[flattened_hand_keypoints_no_thumb_CMC], hagrid_stop_test_df_normalized[['THUMB_CMC_x', 'THUMB_CMC_y']]),\n",
    "  \"HagridStopInv\": (hagrid_stopinv_test_df_normalized[flattened_hand_keypoints_no_thumb_CMC], hagrid_stopinv_test_df_normalized[['THUMB_CMC_x', 'THUMB_CMC_y']])\n",
    "}"
   ]
  },
  {
   "cell_type": "code",
   "execution_count": 24,
   "metadata": {},
   "outputs": [
    {
     "name": "stdout",
     "output_type": "stream",
     "text": [
      "927\n"
     ]
    }
   ],
   "source": [
    "print(len(true_hypoth_normalized_df))"
   ]
  },
  {
   "cell_type": "markdown",
   "metadata": {},
   "source": [
    "### Preparation for hyperparameter tuning for the prediction of THUMB_CMC"
   ]
  },
  {
   "cell_type": "code",
   "execution_count": 25,
   "metadata": {},
   "outputs": [],
   "source": [
    "from sklearn.model_selection import KFold\n",
    "from sklearn.metrics import r2_score\n",
    "from skopt.space import Real, Integer, Categorical\n",
    "from skopt import BayesSearchCV\n",
    "from sklearn.model_selection import RandomizedSearchCV\n",
    "\n",
    "njobs = 18\n",
    "X_train_tuning = X_train.sample(frac=0.5, random_state=seed)\n",
    "y_train_tuning = y_train.loc[X_train_tuning.index]\n",
    "\n",
    "\n",
    "number_of_folds = 3\n",
    "kf = KFold(n_splits=number_of_folds, shuffle=False)\n",
    "\n",
    "# Make output dir if it does not exist\n",
    "if not os.path.exists('output'):\n",
    "    os.makedirs('output')\n",
    "\n",
    "tuning_score = 'neg_mean_squared_error'"
   ]
  },
  {
   "cell_type": "markdown",
   "metadata": {},
   "source": [
    "#### Perform tuning using BayesSearchCV on all models"
   ]
  },
  {
   "cell_type": "code",
   "execution_count": 29,
   "metadata": {},
   "outputs": [],
   "source": [
    "from sklearn.linear_model import Lasso\n",
    "from sklearn.preprocessing import StandardScaler\n",
    "from sklearn.pipeline import Pipeline\n",
    "\n",
    "# Define pipeline for scaling (Lasso requires feature scaling)\n",
    "pipeline = Pipeline([\n",
    "    ('scaler', StandardScaler()),  # Standardize features\n",
    "    ('lasso', Lasso(max_iter=10000, random_state=seed))  # Lasso regression\n",
    "])\n",
    "\n",
    "# Define hyperparameter search space\n",
    "param_space = {\n",
    "    'lasso__alpha': Real(1e-4, 1.0, prior='log-uniform')  # Regularization strength\n",
    "}\n",
    "\n",
    "lasso_opt = BayesSearchCV(\n",
    "    estimator=pipeline,\n",
    "    search_spaces=param_space,\n",
    "    n_iter=50,\n",
    "    cv=kf,\n",
    "    scoring=tuning_score,\n",
    "    random_state=42,\n",
    "    n_jobs=njobs\n",
    ")"
   ]
  },
  {
   "cell_type": "code",
   "execution_count": 30,
   "metadata": {},
   "outputs": [],
   "source": [
    "if os.path.isfile('output/lasso_bayes_opt.pkl'):\n",
    "    # load\n",
    "    with open('output/lasso_bayes_opt.pkl', 'rb') as f:\n",
    "        lasso_opt = pickle.load(f)\n",
    "else:   \n",
    "    lasso_opt.fit(X_train_tuning, y_train_tuning)\n",
    "        "
   ]
  },
  {
   "cell_type": "code",
   "execution_count": 31,
   "metadata": {},
   "outputs": [
    {
     "name": "stdout",
     "output_type": "stream",
     "text": [
      "Best Parameters: OrderedDict({'lasso__alpha': 0.0001})\n",
      "Best Validation Score: -0.0002955357630152849\n",
      "Test Set R2Score: 0.9876410419801788\n",
      "Evaluation Set R2Score (Custom Data): 0.7451375173887389\n"
     ]
    }
   ],
   "source": [
    "print(\"Best Parameters:\", lasso_opt.best_params_)\n",
    "print(\"Best Validation Score:\", lasso_opt.best_score_)\n",
    "# Evaluate on the test set\n",
    "test_score = r2_score(y_test, lasso_opt.best_estimator_.predict(X_test))\n",
    "print(\"Test Set R2Score:\", test_score)\n",
    "\n",
    "# Evaluate on the custom dataset\n",
    "test_score_custom = r2_score(y_custom_eval, lasso_opt.best_estimator_.predict(X_custom_eval))\n",
    "print(\"Evaluation Set R2Score (Custom Data):\", test_score_custom)\n",
    "\n",
    "if not os.path.isfile('output/lasso_bayes_opt.pkl'):\n",
    "    # Save the BayesSearchCV object using pickle\n",
    "    with open(\"output/lasso_bayes_opt.pkl\", \"wb\") as file:\n",
    "        pickle.dump(lasso_opt, file)\n",
    "        print(\"Optimization results saved to 'lasso_bayes_opt.pkl'.\")"
   ]
  },
  {
   "cell_type": "code",
   "execution_count": 32,
   "metadata": {},
   "outputs": [],
   "source": [
    "from sklearn.ensemble import RandomForestRegressor\n",
    "\n",
    "from skopt.space import Real, Integer, Categorical\n",
    "from skopt import BayesSearchCV\n",
    "\n",
    "rf_model = RandomForestRegressor(random_state=seed, n_jobs=njobs)\n",
    "\n",
    "param_space = {\n",
    "    'n_estimators': Integer(50, 750),          # Number of trees\n",
    "    'max_depth': Integer(5, 50),               # Depth of each tree\n",
    "    'min_samples_split': Integer(2, 10),       # Minimum samples to split a node\n",
    "    'min_samples_leaf': Integer(1, 10),        # Minimum samples at a leaf node\n",
    "    'max_features': Real(0.1, 1.0, prior='uniform')    # Features to consider\n",
    "}\n",
    "\n",
    "rf_opt = BayesSearchCV(\n",
    "    estimator=rf_model,\n",
    "    search_spaces=param_space,\n",
    "    n_iter=50,                 # Number of iterations for optimization\n",
    "    cv=kf,                     # K-Fold Cross Validation\n",
    "    scoring=tuning_score,              # Metric to optimize\n",
    "    random_state=seed,\n",
    "    n_jobs=njobs                  # Use all available cores\n",
    ")"
   ]
  },
  {
   "cell_type": "code",
   "execution_count": 33,
   "metadata": {},
   "outputs": [],
   "source": [
    "# if file exists\n",
    "if os.path.isfile('output/rf_bayes_opt.pkl'):\n",
    "  # load\n",
    "  with open('output/rf_bayes_opt.pkl', 'rb') as f:\n",
    "    rf_opt = pickle.load(f)\n",
    "else:\n",
    "  rf_opt.fit(X_train_tuning, y_train_tuning)"
   ]
  },
  {
   "cell_type": "markdown",
   "metadata": {},
   "source": [
    "took 30m"
   ]
  },
  {
   "cell_type": "code",
   "execution_count": 34,
   "metadata": {},
   "outputs": [
    {
     "name": "stdout",
     "output_type": "stream",
     "text": [
      "Best Parameters: OrderedDict({'max_depth': 37, 'max_features': 0.6436325865565328, 'min_samples_leaf': 1, 'min_samples_split': 2, 'n_estimators': 750})\n",
      "Best Validation Score: -0.0013379383930520086\n",
      "Test Set Score: 0.92747870645272\n",
      "Evaluation Set Score: 0.7576027418366968\n"
     ]
    }
   ],
   "source": [
    "print(\"Best Parameters:\", rf_opt.best_params_)\n",
    "print(\"Best Validation Score:\", rf_opt.best_score_)\n",
    "\n",
    "# Evaluate on the validation set\n",
    "val_score = rf_opt.best_estimator_.score(X_test, y_test)\n",
    "print(\"Test Set Score:\", val_score)\n",
    "\n",
    "# Evaluate on the test set\n",
    "test_score = rf_opt.best_estimator_.score(X_custom_eval, y_custom_eval)\n",
    "print(\"Evaluation Set Score:\", test_score)\n",
    "if not os.path.isfile('output/rf_bayes_opt.pkl'):    \n",
    "    with open('output/rf_bayes_opt.pkl', 'wb') as f:\n",
    "        pickle.dump(rf_opt, f)"
   ]
  },
  {
   "cell_type": "code",
   "execution_count": 35,
   "metadata": {},
   "outputs": [],
   "source": [
    "from xgboost import XGBRegressor\n",
    "\n",
    "# Initialize XGBRegressor\n",
    "xgb_model = XGBRegressor(random_state=seed, n_jobs=njobs)\n",
    "\n",
    "# Define the hyperparameter search space\n",
    "param_space = {\n",
    "    'n_estimators': Integer(50, 750),             # Number of boosting rounds\n",
    "    'max_depth': Integer(3, 20),                  # Maximum depth of trees\n",
    "    'learning_rate': Real(0.01, 0.3, prior='log-uniform'),  # Learning rate\n",
    "    'min_child_weight': Integer(1, 10),           # Minimum sum of instance weight\n",
    "    'subsample': Real(0.5, 1.0, prior='uniform'), # Subsample ratio\n",
    "    'colsample_bytree': Real(0.5, 1.0, prior='uniform'),  # Subsample ratio for columns\n",
    "    'gamma': Real(0.0, 5.0, prior='uniform')      # Minimum loss reduction\n",
    "}\n",
    "\n",
    "# Initialize BayesSearchCV\n",
    "xgb_opt = BayesSearchCV(\n",
    "    estimator=xgb_model,\n",
    "    search_spaces=param_space,\n",
    "    n_iter=50,                   # Number of iterations for optimization\n",
    "    cv=kf,                       # Cross-validation strategy\n",
    "    scoring=tuning_score,                # Optimization metric\n",
    "    random_state=seed,\n",
    "    n_jobs=njobs\n",
    ")"
   ]
  },
  {
   "cell_type": "code",
   "execution_count": 36,
   "metadata": {},
   "outputs": [],
   "source": [
    "if os.path.isfile('output/xgb_bayes_opt.pkl'):\n",
    "  # load\n",
    "  with open('output/xgb_bayes_opt.pkl', 'rb') as f:\n",
    "    xgb_opt = pickle.load(f)\n",
    "else:\n",
    "  xgb_opt.fit(X_train_tuning, y_train_tuning)"
   ]
  },
  {
   "cell_type": "markdown",
   "metadata": {},
   "source": [
    "took 14m"
   ]
  },
  {
   "cell_type": "code",
   "execution_count": 37,
   "metadata": {},
   "outputs": [
    {
     "name": "stdout",
     "output_type": "stream",
     "text": [
      "Best Parameters: OrderedDict({'colsample_bytree': 1.0, 'gamma': 0.0, 'learning_rate': 0.29999999999999993, 'max_depth': 3, 'min_child_weight': 1, 'n_estimators': 750, 'subsample': 1.0})\n",
      "Best Validation Score: -0.0011874884783756624\n",
      "Test Set R2Score: 0.9611689448356628\n",
      "Evaluation Set R2Score (Custom Data): -0.5632003545761108\n",
      "28918\n"
     ]
    }
   ],
   "source": [
    "# Print best parameters and scores\n",
    "print(\"Best Parameters:\", xgb_opt.best_params_)\n",
    "print(\"Best Validation Score:\", xgb_opt.best_score_)\n",
    "\n",
    "# Evaluate on the test set\n",
    "test_score = r2_score(y_test, xgb_opt.best_estimator_.predict(X_test))\n",
    "print(\"Test Set R2Score:\", test_score)\n",
    "\n",
    "# Evaluate on the custom dataset\n",
    "test_score_custom = r2_score(y_custom_eval, xgb_opt.best_estimator_.predict(X_custom_eval))\n",
    "print(\"Evaluation Set R2Score (Custom Data):\", test_score_custom)\n",
    "\n",
    "if not os.path.isfile('output/xgb_bayes_opt.pkl'):\n",
    "    # Save the BayesSearchCV object using pickle\n",
    "    with open(\"output/xgb_bayes_opt.pkl\", \"wb\") as file:\n",
    "        pickle.dump(xgb_opt, file)\n",
    "        print(\"Optimization results saved to 'xgb_bayes_opt.pkl'.\")\n",
    "\n",
    "print(len(X_train_tuning))"
   ]
  },
  {
   "cell_type": "code",
   "execution_count": 38,
   "metadata": {},
   "outputs": [
    {
     "data": {
      "text/html": [
       "<div>\n",
       "<style scoped>\n",
       "    .dataframe tbody tr th:only-of-type {\n",
       "        vertical-align: middle;\n",
       "    }\n",
       "\n",
       "    .dataframe tbody tr th {\n",
       "        vertical-align: top;\n",
       "    }\n",
       "\n",
       "    .dataframe thead th {\n",
       "        text-align: right;\n",
       "    }\n",
       "</style>\n",
       "<table border=\"1\" class=\"dataframe\">\n",
       "  <thead>\n",
       "    <tr style=\"text-align: right;\">\n",
       "      <th></th>\n",
       "      <th>Feature</th>\n",
       "      <th>Importance</th>\n",
       "    </tr>\n",
       "  </thead>\n",
       "  <tbody>\n",
       "    <tr>\n",
       "      <th>2</th>\n",
       "      <td>THUMB_MCP_x</td>\n",
       "      <td>0.785357</td>\n",
       "    </tr>\n",
       "    <tr>\n",
       "      <th>8</th>\n",
       "      <td>INDEX_FINGER_MCP_x</td>\n",
       "      <td>0.142702</td>\n",
       "    </tr>\n",
       "    <tr>\n",
       "      <th>3</th>\n",
       "      <td>THUMB_MCP_y</td>\n",
       "      <td>0.031742</td>\n",
       "    </tr>\n",
       "    <tr>\n",
       "      <th>1</th>\n",
       "      <td>WRIST_y</td>\n",
       "      <td>0.009204</td>\n",
       "    </tr>\n",
       "    <tr>\n",
       "      <th>37</th>\n",
       "      <td>PINKY_DIP_y</td>\n",
       "      <td>0.007636</td>\n",
       "    </tr>\n",
       "  </tbody>\n",
       "</table>\n",
       "</div>"
      ],
      "text/plain": [
       "               Feature  Importance\n",
       "2          THUMB_MCP_x    0.785357\n",
       "8   INDEX_FINGER_MCP_x    0.142702\n",
       "3          THUMB_MCP_y    0.031742\n",
       "1              WRIST_y    0.009204\n",
       "37         PINKY_DIP_y    0.007636"
      ]
     },
     "execution_count": 38,
     "metadata": {},
     "output_type": "execute_result"
    }
   ],
   "source": [
    "# Print XGB important features\n",
    "importances = xgb_opt.best_estimator_.feature_importances_\n",
    "feature_importance_df  = pd.DataFrame({\n",
    "    'Feature': X_train_tuning.columns,\n",
    "    'Importance': importances\n",
    "})\n",
    "feature_importance_df = feature_importance_df.sort_values(by='Importance', ascending=False)\n",
    "feature_importance_df.head(5)"
   ]
  },
  {
   "cell_type": "code",
   "execution_count": 39,
   "metadata": {},
   "outputs": [],
   "source": [
    "# Initialize k-NN Regressor\n",
    "from sklearn.neighbors import KNeighborsRegressor\n",
    "\n",
    "knn_model = KNeighborsRegressor(n_jobs=-1)\n",
    "\n",
    "# Define the hyperparameter search space\n",
    "param_space = {\n",
    "    'n_neighbors': Integer(2, 75),               # Number of neighbors\n",
    "    'weights': ['uniform', 'distance'],          # Weight function\n",
    "    'metric': ['euclidean', 'manhattan', 'minkowski'],  # Distance metric\n",
    "    'p': Integer(1, 3)                           # Power parameter for Minkowski (if metric='minkowski')\n",
    "}\n",
    "\n",
    "# Initialize BayesSearchCV\n",
    "knn_opt = BayesSearchCV(\n",
    "    estimator=knn_model,\n",
    "    search_spaces=param_space,\n",
    "    n_iter=50,                   # Number of iterations for optimization\n",
    "    cv=kf,                       # Cross-validation strategy\n",
    "    scoring=tuning_score,                # Optimization metric\n",
    "    random_state=seed,\n",
    "    n_jobs=-1\n",
    ")"
   ]
  },
  {
   "cell_type": "code",
   "execution_count": 40,
   "metadata": {},
   "outputs": [],
   "source": [
    "if os.path.isfile('output/knn_bayes_opt.pkl'):\n",
    "  # load\n",
    "  with open('output/knn_bayes_opt.pkl', 'rb') as f:\n",
    "    knn_opt = pickle.load(f)\n",
    "else:\n",
    "  knn_opt.fit(X_train_tuning, y_train_tuning)"
   ]
  },
  {
   "cell_type": "markdown",
   "metadata": {},
   "source": [
    "15m runtime"
   ]
  },
  {
   "cell_type": "code",
   "execution_count": 41,
   "metadata": {},
   "outputs": [
    {
     "name": "stdout",
     "output_type": "stream",
     "text": [
      "Best Parameters: OrderedDict({'metric': 'minkowski', 'n_neighbors': 8, 'p': 3, 'weights': 'distance'})\n",
      "Best Validation Score: -0.0020522960315701422\n",
      "Test Set R2Score: 0.92622844934263\n",
      "Evaluation Set R2Score (Custom Data): 0.6340806568782504\n"
     ]
    }
   ],
   "source": [
    "# Print best parameters and scores\n",
    "print(\"Best Parameters:\", knn_opt.best_params_)\n",
    "print(\"Best Validation Score:\", knn_opt.best_score_)\n",
    "\n",
    "# Evaluate on the test set\n",
    "test_score = r2_score(y_test, knn_opt.best_estimator_.predict(X_test))\n",
    "print(\"Test Set R2Score:\", test_score)\n",
    "\n",
    "# Evaluate on the custom dataset\n",
    "test_score_custom = r2_score(y_custom_eval, knn_opt.best_estimator_.predict(X_custom_eval))\n",
    "print(\"Evaluation Set R2Score (Custom Data):\", test_score_custom)\n",
    "\n",
    "if not os.path.isfile('output/knn_bayes_opt.pkl'):\n",
    "    # Save the BayesSearchCV object using pickle\n",
    "    with open(\"output/knn_bayes_opt.pkl\", \"wb\") as file:\n",
    "        pickle.dump(knn_opt, file)\n",
    "        print(\"Optimization results saved to 'knn_bayes_opt.pkl'.\")"
   ]
  },
  {
   "cell_type": "code",
   "execution_count": 50,
   "metadata": {},
   "outputs": [],
   "source": [
    "from sklearn.base import BaseEstimator, RegressorMixin\n",
    "\n",
    "# Define pipeline for scaling (Lasso requires feature scaling)\n",
    "pipeline = Pipeline([\n",
    "    ('scaler', StandardScaler()),  # Standardize features\n",
    "    ('lasso', Lasso(max_iter=10000, random_state=seed))  # Lasso regression\n",
    "])\n",
    "\n",
    "# Define hyperparameter search space\n",
    "param_space = {\n",
    "    'lasso__alpha': Real(1e-4, 1.0, prior='log-uniform')  # Regularization strength\n",
    "}\n",
    "\n",
    "class ThumblessLassoWrapperModel(BaseEstimator, RegressorMixin):\n",
    "    def __init__(self, model, columns_to_drop):\n",
    "        self.model = model\n",
    "        self.columns_to_drop = columns_to_drop\n",
    "    \n",
    "    def fit(self, X, y):\n",
    "        X_thumbless = X.drop(columns=self.columns_to_drop)\n",
    "        self.model.fit(X_thumbless, y)\n",
    "        return self\n",
    "    \n",
    "    def predict(self, X):\n",
    "        X_thumbless = X.drop(columns=self.columns_to_drop)\n",
    "        return self.model.predict(X_thumbless)\n",
    "\n",
    "X_train_tuning_thumbless = X_train_tuning.drop(columns=[\"THUMB_MCP_x\", \"THUMB_MCP_y\", \"THUMB_IP_x\", \"THUMB_IP_y\", \"THUMB_TIP_x\", \"THUMB_TIP_y\"])\n",
    "thumbless_lasso_opt = BayesSearchCV(\n",
    "    estimator=pipeline,\n",
    "    search_spaces=param_space,\n",
    "    n_iter=50,\n",
    "    cv=kf,\n",
    "    scoring=tuning_score,\n",
    "    random_state=42,\n",
    "    n_jobs=njobs\n",
    ")"
   ]
  },
  {
   "cell_type": "code",
   "execution_count": 52,
   "metadata": {},
   "outputs": [
    {
     "name": "stdout",
     "output_type": "stream",
     "text": [
      "Optimization results saved to 'thumbless_lasso_bayes_opt.pkl'.\n"
     ]
    }
   ],
   "source": [
    "if os.path.isfile('output/thumbless_lasso_bayes_opt.pkl'):\n",
    "    # load\n",
    "    with open('output/thumbless_lasso_bayes_opt.pkl', 'rb') as f:\n",
    "        thumbless_lasso_opt = pickle.load(f)\n",
    "else:   \n",
    "    thumbless_lasso_opt.fit(X_train_tuning_thumbless, y_train_tuning)\n",
    "    # Pickle\n",
    "    with open(\"output/thumbless_lasso_bayes_opt.pkl\", \"wb\") as file:\n",
    "        pickle.dump(thumbless_lasso_opt, file)\n",
    "        print(\"Optimization results saved to 'thumbless_lasso_bayes_opt.pkl'.\")"
   ]
  },
  {
   "cell_type": "code",
   "execution_count": 53,
   "metadata": {},
   "outputs": [
    {
     "name": "stdout",
     "output_type": "stream",
     "text": [
      "Best Parameters: OrderedDict({'lasso__alpha': 0.0001})\n",
      "Best Validation Score: -0.0010063467767736092\n",
      "Test Set R2Score: 0.951638908750438\n",
      "Evaluation Set R2Score (Custom Data): 0.37719558252566626\n"
     ]
    }
   ],
   "source": [
    "thumbless_lasso_model = ThumblessLassoWrapperModel(thumbless_lasso_opt.best_estimator_, [\"THUMB_MCP_x\", \"THUMB_MCP_y\", \"THUMB_IP_x\", \"THUMB_IP_y\", \"THUMB_TIP_x\", \"THUMB_TIP_y\"])\n",
    "\n",
    "print(\"Best Parameters:\", thumbless_lasso_opt.best_params_)\n",
    "print(\"Best Validation Score:\", thumbless_lasso_opt.best_score_)\n",
    "# Evaluate on the test set\n",
    "test_score = r2_score(y_test, thumbless_lasso_opt.best_estimator_.predict(X_test.drop(columns=[\"THUMB_MCP_x\", \"THUMB_MCP_y\", \"THUMB_IP_x\", \"THUMB_IP_y\", \"THUMB_TIP_x\", \"THUMB_TIP_y\"])))\n",
    "print(\"Test Set R2Score:\", test_score)\n",
    "\n",
    "# Evaluate on the custom dataset\n",
    "test_score_custom = r2_score(y_custom_eval, thumbless_lasso_opt.best_estimator_.predict(X_custom_eval.drop(columns=[\"THUMB_MCP_x\", \"THUMB_MCP_y\", \"THUMB_IP_x\", \"THUMB_IP_y\", \"THUMB_TIP_x\", \"THUMB_TIP_y\"])))\n",
    "print(\"Evaluation Set R2Score (Custom Data):\", test_score_custom)"
   ]
  },
  {
   "cell_type": "markdown",
   "metadata": {},
   "source": [
    "### Definition of the generalized Schemkes interpolation model"
   ]
  },
  {
   "cell_type": "code",
   "execution_count": 54,
   "metadata": {},
   "outputs": [],
   "source": [
    "class SchemkesInterpolationModel(BaseEstimator, RegressorMixin):\n",
    "    def __init__(self, train_columns=['WRIST', 'INDEX_FINGER_MCP'], target_column='THUMB_CMC', vertical_ratio=None, horizontal_ratio=None):\n",
    "        \"\"\"\n",
    "        Initialize the model with train and target column configurations.\n",
    "\n",
    "        Parameters:\n",
    "        - train_columns: List of column prefixes for the training features (default: ['WRIST', 'INDEX_FINGER_MCP'])\n",
    "        - target_column: Column prefix for the target (default: 'THUMB_CMC')\n",
    "        \"\"\"\n",
    "        self.train_columns = train_columns\n",
    "        self.target_column = target_column\n",
    "        self.vertical_ratio = None\n",
    "        self.horizontal_ratio = None\n",
    "        self.preset_vertical_ratio = vertical_ratio\n",
    "        self.preset_horizontal_ratio = horizontal_ratio\n",
    "\n",
    "    def fit(self, X, y):\n",
    "        \"\"\"\n",
    "        Fit the model to compute the vertical and horizontal ratios.\n",
    "\n",
    "        Parameters:\n",
    "        - X: DataFrame with columns ['WRIST_x', 'WRIST_y', 'INDEX_FINGER_MCP_x', 'INDEX_FINGER_MCP_y']\n",
    "        - y: DataFrame with columns ['THUMB_CMC_x', 'THUMB_CMC_y']\n",
    "        \"\"\"\n",
    "        # Extract feature and target columns based on the prefixes\n",
    "        wrist_x, wrist_y = f\"{self.train_columns[0]}_x\", f\"{self.train_columns[0]}_y\"\n",
    "        index_x, index_y = f\"{self.train_columns[1]}_x\", f\"{self.train_columns[1]}_y\"\n",
    "        thumb_x, thumb_y = f\"{self.target_column}_x\", f\"{self.target_column}_y\"\n",
    "\n",
    "        # Calculate distances\n",
    "        wrist_to_index_vertical = np.abs(X[wrist_y] - X[index_y])\n",
    "        wrist_to_index_horizontal = np.abs(X[wrist_x] - X[index_x])\n",
    "\n",
    "        wrist_to_thumb_vertical = np.abs(X[wrist_y] - y[thumb_y])\n",
    "        wrist_to_thumb_horizontal = np.abs(X[wrist_x] - y[thumb_x])\n",
    "\n",
    "        # Compute ratios\n",
    "        if np.mean(wrist_to_index_vertical) == 0:\n",
    "            self.vertical_ratio = 0\n",
    "        else:\n",
    "            self.vertical_ratio = np.mean(wrist_to_thumb_vertical) / np.mean(wrist_to_index_vertical)\n",
    "        \n",
    "        if np.mean(wrist_to_index_horizontal) == 0:\n",
    "            self.horizontal_ratio = 0\n",
    "        else:\n",
    "            self.horizontal_ratio = np.mean(wrist_to_thumb_horizontal) / np.mean(wrist_to_index_horizontal)\n",
    "        \n",
    "        if self.preset_vertical_ratio is not None:\n",
    "            self.vertical_ratio = self.preset_vertical_ratio\n",
    "        if self.preset_horizontal_ratio is not None:\n",
    "            self.horizontal_ratio = self.preset_horizontal_ratio\n",
    "        return self\n",
    "\n",
    "    def predict(self, X):\n",
    "        \"\"\"\n",
    "        Predict THUMB_CMC_x and THUMB_CMC_y coordinates.\n",
    "\n",
    "        Parameters:\n",
    "        - X: DataFrame with columns ['WRIST_x', 'WRIST_y', 'INDEX_FINGER_MCP_x', 'INDEX_FINGER_MCP_y']\n",
    "        In the figure, the horizontal ratio is 1/3 and vertical ratio is 2/3\n",
    "        Returns:\n",
    "        - np.array of shape (n_samples, 2) with predicted THUMB_CMC_x and THUMB_CMC_y.\n",
    "        \"\"\"\n",
    "\n",
    "        if self.preset_horizontal_ratio is not None:\n",
    "            self.horizontal_ratio = self.preset_horizontal_ratio\n",
    "        \n",
    "        if self.preset_vertical_ratio is not None:\n",
    "            self.vertical_ratio = self.preset_vertical_ratio\n",
    "        \n",
    "        if self.vertical_ratio is None or self.horizontal_ratio is None:\n",
    "            raise ValueError(\"The model must be fitted before predicting.\")\n",
    "\n",
    "        # Extract feature columns based on the prefixes\n",
    "        wrist_x, wrist_y = f\"{self.train_columns[0]}_x\", f\"{self.train_columns[0]}_y\"\n",
    "        index_x, index_y = f\"{self.train_columns[1]}_x\", f\"{self.train_columns[1]}_y\"\n",
    "\n",
    "        # Compute predictions\n",
    "        predictions = pd.DataFrame(columns=[f\"{self.target_column}_x\", f\"{self.target_column}_y\"])\n",
    "        predictions[f\"{self.target_column}_x\"] = (1 - self.horizontal_ratio) * X[wrist_x] + self.horizontal_ratio * X[index_x]\n",
    "        predictions[f\"{self.target_column}_y\"] = (1 - self.vertical_ratio) * X[wrist_y] + self.vertical_ratio * X[index_y]\n",
    "\n",
    "\n",
    "        return predictions.to_numpy()"
   ]
  },
  {
   "cell_type": "code",
   "execution_count": 55,
   "metadata": {},
   "outputs": [
    {
     "data": {
      "text/html": [
       "<style>#sk-container-id-1 {\n",
       "  /* Definition of color scheme common for light and dark mode */\n",
       "  --sklearn-color-text: black;\n",
       "  --sklearn-color-line: gray;\n",
       "  /* Definition of color scheme for unfitted estimators */\n",
       "  --sklearn-color-unfitted-level-0: #fff5e6;\n",
       "  --sklearn-color-unfitted-level-1: #f6e4d2;\n",
       "  --sklearn-color-unfitted-level-2: #ffe0b3;\n",
       "  --sklearn-color-unfitted-level-3: chocolate;\n",
       "  /* Definition of color scheme for fitted estimators */\n",
       "  --sklearn-color-fitted-level-0: #f0f8ff;\n",
       "  --sklearn-color-fitted-level-1: #d4ebff;\n",
       "  --sklearn-color-fitted-level-2: #b3dbfd;\n",
       "  --sklearn-color-fitted-level-3: cornflowerblue;\n",
       "\n",
       "  /* Specific color for light theme */\n",
       "  --sklearn-color-text-on-default-background: var(--sg-text-color, var(--theme-code-foreground, var(--jp-content-font-color1, black)));\n",
       "  --sklearn-color-background: var(--sg-background-color, var(--theme-background, var(--jp-layout-color0, white)));\n",
       "  --sklearn-color-border-box: var(--sg-text-color, var(--theme-code-foreground, var(--jp-content-font-color1, black)));\n",
       "  --sklearn-color-icon: #696969;\n",
       "\n",
       "  @media (prefers-color-scheme: dark) {\n",
       "    /* Redefinition of color scheme for dark theme */\n",
       "    --sklearn-color-text-on-default-background: var(--sg-text-color, var(--theme-code-foreground, var(--jp-content-font-color1, white)));\n",
       "    --sklearn-color-background: var(--sg-background-color, var(--theme-background, var(--jp-layout-color0, #111)));\n",
       "    --sklearn-color-border-box: var(--sg-text-color, var(--theme-code-foreground, var(--jp-content-font-color1, white)));\n",
       "    --sklearn-color-icon: #878787;\n",
       "  }\n",
       "}\n",
       "\n",
       "#sk-container-id-1 {\n",
       "  color: var(--sklearn-color-text);\n",
       "}\n",
       "\n",
       "#sk-container-id-1 pre {\n",
       "  padding: 0;\n",
       "}\n",
       "\n",
       "#sk-container-id-1 input.sk-hidden--visually {\n",
       "  border: 0;\n",
       "  clip: rect(1px 1px 1px 1px);\n",
       "  clip: rect(1px, 1px, 1px, 1px);\n",
       "  height: 1px;\n",
       "  margin: -1px;\n",
       "  overflow: hidden;\n",
       "  padding: 0;\n",
       "  position: absolute;\n",
       "  width: 1px;\n",
       "}\n",
       "\n",
       "#sk-container-id-1 div.sk-dashed-wrapped {\n",
       "  border: 1px dashed var(--sklearn-color-line);\n",
       "  margin: 0 0.4em 0.5em 0.4em;\n",
       "  box-sizing: border-box;\n",
       "  padding-bottom: 0.4em;\n",
       "  background-color: var(--sklearn-color-background);\n",
       "}\n",
       "\n",
       "#sk-container-id-1 div.sk-container {\n",
       "  /* jupyter's `normalize.less` sets `[hidden] { display: none; }`\n",
       "     but bootstrap.min.css set `[hidden] { display: none !important; }`\n",
       "     so we also need the `!important` here to be able to override the\n",
       "     default hidden behavior on the sphinx rendered scikit-learn.org.\n",
       "     See: https://github.com/scikit-learn/scikit-learn/issues/21755 */\n",
       "  display: inline-block !important;\n",
       "  position: relative;\n",
       "}\n",
       "\n",
       "#sk-container-id-1 div.sk-text-repr-fallback {\n",
       "  display: none;\n",
       "}\n",
       "\n",
       "div.sk-parallel-item,\n",
       "div.sk-serial,\n",
       "div.sk-item {\n",
       "  /* draw centered vertical line to link estimators */\n",
       "  background-image: linear-gradient(var(--sklearn-color-text-on-default-background), var(--sklearn-color-text-on-default-background));\n",
       "  background-size: 2px 100%;\n",
       "  background-repeat: no-repeat;\n",
       "  background-position: center center;\n",
       "}\n",
       "\n",
       "/* Parallel-specific style estimator block */\n",
       "\n",
       "#sk-container-id-1 div.sk-parallel-item::after {\n",
       "  content: \"\";\n",
       "  width: 100%;\n",
       "  border-bottom: 2px solid var(--sklearn-color-text-on-default-background);\n",
       "  flex-grow: 1;\n",
       "}\n",
       "\n",
       "#sk-container-id-1 div.sk-parallel {\n",
       "  display: flex;\n",
       "  align-items: stretch;\n",
       "  justify-content: center;\n",
       "  background-color: var(--sklearn-color-background);\n",
       "  position: relative;\n",
       "}\n",
       "\n",
       "#sk-container-id-1 div.sk-parallel-item {\n",
       "  display: flex;\n",
       "  flex-direction: column;\n",
       "}\n",
       "\n",
       "#sk-container-id-1 div.sk-parallel-item:first-child::after {\n",
       "  align-self: flex-end;\n",
       "  width: 50%;\n",
       "}\n",
       "\n",
       "#sk-container-id-1 div.sk-parallel-item:last-child::after {\n",
       "  align-self: flex-start;\n",
       "  width: 50%;\n",
       "}\n",
       "\n",
       "#sk-container-id-1 div.sk-parallel-item:only-child::after {\n",
       "  width: 0;\n",
       "}\n",
       "\n",
       "/* Serial-specific style estimator block */\n",
       "\n",
       "#sk-container-id-1 div.sk-serial {\n",
       "  display: flex;\n",
       "  flex-direction: column;\n",
       "  align-items: center;\n",
       "  background-color: var(--sklearn-color-background);\n",
       "  padding-right: 1em;\n",
       "  padding-left: 1em;\n",
       "}\n",
       "\n",
       "\n",
       "/* Toggleable style: style used for estimator/Pipeline/ColumnTransformer box that is\n",
       "clickable and can be expanded/collapsed.\n",
       "- Pipeline and ColumnTransformer use this feature and define the default style\n",
       "- Estimators will overwrite some part of the style using the `sk-estimator` class\n",
       "*/\n",
       "\n",
       "/* Pipeline and ColumnTransformer style (default) */\n",
       "\n",
       "#sk-container-id-1 div.sk-toggleable {\n",
       "  /* Default theme specific background. It is overwritten whether we have a\n",
       "  specific estimator or a Pipeline/ColumnTransformer */\n",
       "  background-color: var(--sklearn-color-background);\n",
       "}\n",
       "\n",
       "/* Toggleable label */\n",
       "#sk-container-id-1 label.sk-toggleable__label {\n",
       "  cursor: pointer;\n",
       "  display: block;\n",
       "  width: 100%;\n",
       "  margin-bottom: 0;\n",
       "  padding: 0.5em;\n",
       "  box-sizing: border-box;\n",
       "  text-align: center;\n",
       "}\n",
       "\n",
       "#sk-container-id-1 label.sk-toggleable__label-arrow:before {\n",
       "  /* Arrow on the left of the label */\n",
       "  content: \"▸\";\n",
       "  float: left;\n",
       "  margin-right: 0.25em;\n",
       "  color: var(--sklearn-color-icon);\n",
       "}\n",
       "\n",
       "#sk-container-id-1 label.sk-toggleable__label-arrow:hover:before {\n",
       "  color: var(--sklearn-color-text);\n",
       "}\n",
       "\n",
       "/* Toggleable content - dropdown */\n",
       "\n",
       "#sk-container-id-1 div.sk-toggleable__content {\n",
       "  max-height: 0;\n",
       "  max-width: 0;\n",
       "  overflow: hidden;\n",
       "  text-align: left;\n",
       "  /* unfitted */\n",
       "  background-color: var(--sklearn-color-unfitted-level-0);\n",
       "}\n",
       "\n",
       "#sk-container-id-1 div.sk-toggleable__content.fitted {\n",
       "  /* fitted */\n",
       "  background-color: var(--sklearn-color-fitted-level-0);\n",
       "}\n",
       "\n",
       "#sk-container-id-1 div.sk-toggleable__content pre {\n",
       "  margin: 0.2em;\n",
       "  border-radius: 0.25em;\n",
       "  color: var(--sklearn-color-text);\n",
       "  /* unfitted */\n",
       "  background-color: var(--sklearn-color-unfitted-level-0);\n",
       "}\n",
       "\n",
       "#sk-container-id-1 div.sk-toggleable__content.fitted pre {\n",
       "  /* unfitted */\n",
       "  background-color: var(--sklearn-color-fitted-level-0);\n",
       "}\n",
       "\n",
       "#sk-container-id-1 input.sk-toggleable__control:checked~div.sk-toggleable__content {\n",
       "  /* Expand drop-down */\n",
       "  max-height: 200px;\n",
       "  max-width: 100%;\n",
       "  overflow: auto;\n",
       "}\n",
       "\n",
       "#sk-container-id-1 input.sk-toggleable__control:checked~label.sk-toggleable__label-arrow:before {\n",
       "  content: \"▾\";\n",
       "}\n",
       "\n",
       "/* Pipeline/ColumnTransformer-specific style */\n",
       "\n",
       "#sk-container-id-1 div.sk-label input.sk-toggleable__control:checked~label.sk-toggleable__label {\n",
       "  color: var(--sklearn-color-text);\n",
       "  background-color: var(--sklearn-color-unfitted-level-2);\n",
       "}\n",
       "\n",
       "#sk-container-id-1 div.sk-label.fitted input.sk-toggleable__control:checked~label.sk-toggleable__label {\n",
       "  background-color: var(--sklearn-color-fitted-level-2);\n",
       "}\n",
       "\n",
       "/* Estimator-specific style */\n",
       "\n",
       "/* Colorize estimator box */\n",
       "#sk-container-id-1 div.sk-estimator input.sk-toggleable__control:checked~label.sk-toggleable__label {\n",
       "  /* unfitted */\n",
       "  background-color: var(--sklearn-color-unfitted-level-2);\n",
       "}\n",
       "\n",
       "#sk-container-id-1 div.sk-estimator.fitted input.sk-toggleable__control:checked~label.sk-toggleable__label {\n",
       "  /* fitted */\n",
       "  background-color: var(--sklearn-color-fitted-level-2);\n",
       "}\n",
       "\n",
       "#sk-container-id-1 div.sk-label label.sk-toggleable__label,\n",
       "#sk-container-id-1 div.sk-label label {\n",
       "  /* The background is the default theme color */\n",
       "  color: var(--sklearn-color-text-on-default-background);\n",
       "}\n",
       "\n",
       "/* On hover, darken the color of the background */\n",
       "#sk-container-id-1 div.sk-label:hover label.sk-toggleable__label {\n",
       "  color: var(--sklearn-color-text);\n",
       "  background-color: var(--sklearn-color-unfitted-level-2);\n",
       "}\n",
       "\n",
       "/* Label box, darken color on hover, fitted */\n",
       "#sk-container-id-1 div.sk-label.fitted:hover label.sk-toggleable__label.fitted {\n",
       "  color: var(--sklearn-color-text);\n",
       "  background-color: var(--sklearn-color-fitted-level-2);\n",
       "}\n",
       "\n",
       "/* Estimator label */\n",
       "\n",
       "#sk-container-id-1 div.sk-label label {\n",
       "  font-family: monospace;\n",
       "  font-weight: bold;\n",
       "  display: inline-block;\n",
       "  line-height: 1.2em;\n",
       "}\n",
       "\n",
       "#sk-container-id-1 div.sk-label-container {\n",
       "  text-align: center;\n",
       "}\n",
       "\n",
       "/* Estimator-specific */\n",
       "#sk-container-id-1 div.sk-estimator {\n",
       "  font-family: monospace;\n",
       "  border: 1px dotted var(--sklearn-color-border-box);\n",
       "  border-radius: 0.25em;\n",
       "  box-sizing: border-box;\n",
       "  margin-bottom: 0.5em;\n",
       "  /* unfitted */\n",
       "  background-color: var(--sklearn-color-unfitted-level-0);\n",
       "}\n",
       "\n",
       "#sk-container-id-1 div.sk-estimator.fitted {\n",
       "  /* fitted */\n",
       "  background-color: var(--sklearn-color-fitted-level-0);\n",
       "}\n",
       "\n",
       "/* on hover */\n",
       "#sk-container-id-1 div.sk-estimator:hover {\n",
       "  /* unfitted */\n",
       "  background-color: var(--sklearn-color-unfitted-level-2);\n",
       "}\n",
       "\n",
       "#sk-container-id-1 div.sk-estimator.fitted:hover {\n",
       "  /* fitted */\n",
       "  background-color: var(--sklearn-color-fitted-level-2);\n",
       "}\n",
       "\n",
       "/* Specification for estimator info (e.g. \"i\" and \"?\") */\n",
       "\n",
       "/* Common style for \"i\" and \"?\" */\n",
       "\n",
       ".sk-estimator-doc-link,\n",
       "a:link.sk-estimator-doc-link,\n",
       "a:visited.sk-estimator-doc-link {\n",
       "  float: right;\n",
       "  font-size: smaller;\n",
       "  line-height: 1em;\n",
       "  font-family: monospace;\n",
       "  background-color: var(--sklearn-color-background);\n",
       "  border-radius: 1em;\n",
       "  height: 1em;\n",
       "  width: 1em;\n",
       "  text-decoration: none !important;\n",
       "  margin-left: 1ex;\n",
       "  /* unfitted */\n",
       "  border: var(--sklearn-color-unfitted-level-1) 1pt solid;\n",
       "  color: var(--sklearn-color-unfitted-level-1);\n",
       "}\n",
       "\n",
       ".sk-estimator-doc-link.fitted,\n",
       "a:link.sk-estimator-doc-link.fitted,\n",
       "a:visited.sk-estimator-doc-link.fitted {\n",
       "  /* fitted */\n",
       "  border: var(--sklearn-color-fitted-level-1) 1pt solid;\n",
       "  color: var(--sklearn-color-fitted-level-1);\n",
       "}\n",
       "\n",
       "/* On hover */\n",
       "div.sk-estimator:hover .sk-estimator-doc-link:hover,\n",
       ".sk-estimator-doc-link:hover,\n",
       "div.sk-label-container:hover .sk-estimator-doc-link:hover,\n",
       ".sk-estimator-doc-link:hover {\n",
       "  /* unfitted */\n",
       "  background-color: var(--sklearn-color-unfitted-level-3);\n",
       "  color: var(--sklearn-color-background);\n",
       "  text-decoration: none;\n",
       "}\n",
       "\n",
       "div.sk-estimator.fitted:hover .sk-estimator-doc-link.fitted:hover,\n",
       ".sk-estimator-doc-link.fitted:hover,\n",
       "div.sk-label-container:hover .sk-estimator-doc-link.fitted:hover,\n",
       ".sk-estimator-doc-link.fitted:hover {\n",
       "  /* fitted */\n",
       "  background-color: var(--sklearn-color-fitted-level-3);\n",
       "  color: var(--sklearn-color-background);\n",
       "  text-decoration: none;\n",
       "}\n",
       "\n",
       "/* Span, style for the box shown on hovering the info icon */\n",
       ".sk-estimator-doc-link span {\n",
       "  display: none;\n",
       "  z-index: 9999;\n",
       "  position: relative;\n",
       "  font-weight: normal;\n",
       "  right: .2ex;\n",
       "  padding: .5ex;\n",
       "  margin: .5ex;\n",
       "  width: min-content;\n",
       "  min-width: 20ex;\n",
       "  max-width: 50ex;\n",
       "  color: var(--sklearn-color-text);\n",
       "  box-shadow: 2pt 2pt 4pt #999;\n",
       "  /* unfitted */\n",
       "  background: var(--sklearn-color-unfitted-level-0);\n",
       "  border: .5pt solid var(--sklearn-color-unfitted-level-3);\n",
       "}\n",
       "\n",
       ".sk-estimator-doc-link.fitted span {\n",
       "  /* fitted */\n",
       "  background: var(--sklearn-color-fitted-level-0);\n",
       "  border: var(--sklearn-color-fitted-level-3);\n",
       "}\n",
       "\n",
       ".sk-estimator-doc-link:hover span {\n",
       "  display: block;\n",
       "}\n",
       "\n",
       "/* \"?\"-specific style due to the `<a>` HTML tag */\n",
       "\n",
       "#sk-container-id-1 a.estimator_doc_link {\n",
       "  float: right;\n",
       "  font-size: 1rem;\n",
       "  line-height: 1em;\n",
       "  font-family: monospace;\n",
       "  background-color: var(--sklearn-color-background);\n",
       "  border-radius: 1rem;\n",
       "  height: 1rem;\n",
       "  width: 1rem;\n",
       "  text-decoration: none;\n",
       "  /* unfitted */\n",
       "  color: var(--sklearn-color-unfitted-level-1);\n",
       "  border: var(--sklearn-color-unfitted-level-1) 1pt solid;\n",
       "}\n",
       "\n",
       "#sk-container-id-1 a.estimator_doc_link.fitted {\n",
       "  /* fitted */\n",
       "  border: var(--sklearn-color-fitted-level-1) 1pt solid;\n",
       "  color: var(--sklearn-color-fitted-level-1);\n",
       "}\n",
       "\n",
       "/* On hover */\n",
       "#sk-container-id-1 a.estimator_doc_link:hover {\n",
       "  /* unfitted */\n",
       "  background-color: var(--sklearn-color-unfitted-level-3);\n",
       "  color: var(--sklearn-color-background);\n",
       "  text-decoration: none;\n",
       "}\n",
       "\n",
       "#sk-container-id-1 a.estimator_doc_link.fitted:hover {\n",
       "  /* fitted */\n",
       "  background-color: var(--sklearn-color-fitted-level-3);\n",
       "}\n",
       "</style><div id=\"sk-container-id-1\" class=\"sk-top-container\"><div class=\"sk-text-repr-fallback\"><pre>SchemkesInterpolationModel(horizontal_ratio=1.432867953089567,\n",
       "                           vertical_ratio=0.24127862210625753)</pre><b>In a Jupyter environment, please rerun this cell to show the HTML representation or trust the notebook. <br />On GitHub, the HTML representation is unable to render, please try loading this page with nbviewer.org.</b></div><div class=\"sk-container\" hidden><div class=\"sk-item\"><div class=\"sk-estimator  sk-toggleable\"><input class=\"sk-toggleable__control sk-hidden--visually\" id=\"sk-estimator-id-1\" type=\"checkbox\" checked><label for=\"sk-estimator-id-1\" class=\"sk-toggleable__label  sk-toggleable__label-arrow \">&nbsp;SchemkesInterpolationModel<span class=\"sk-estimator-doc-link \">i<span>Not fitted</span></span></label><div class=\"sk-toggleable__content \"><pre>SchemkesInterpolationModel(horizontal_ratio=1.432867953089567,\n",
       "                           vertical_ratio=0.24127862210625753)</pre></div> </div></div></div></div>"
      ],
      "text/plain": [
       "SchemkesInterpolationModel(horizontal_ratio=1.432867953089567,\n",
       "                           vertical_ratio=0.24127862210625753)"
      ]
     },
     "execution_count": 55,
     "metadata": {},
     "output_type": "execute_result"
    }
   ],
   "source": [
    "schemkes_model = SchemkesInterpolationModel(train_columns=['WRIST', 'INDEX_FINGER_MCP'], target_column='THUMB_CMC')\n",
    "schemkes_model.fit(X_train, y_train)"
   ]
  },
  {
   "cell_type": "markdown",
   "metadata": {},
   "source": [
    "#### Ensure that the keypoint selection is validated"
   ]
  },
  {
   "cell_type": "code",
   "execution_count": 58,
   "metadata": {},
   "outputs": [
    {
     "name": "stdout",
     "output_type": "stream",
     "text": [
      "Schemkes R-squared on Test Set: 0.7789945645394518\n",
      "Schemkes R-squared on Custom Evaluation Set: 0.2523741206512271\n",
      "Schemkes R-squared on Test Set (Middle Finger MCP): -36.86145476543706\n",
      "Schemkes R-squared on Custom Evaluation Set (Middle Finger MCP): -1.0491490909047054\n",
      "Schemkes R-squared on Test Set (Pinky MCP): -1.694473030297881\n",
      "Schemkes R-squared on Custom Evaluation Set (Pinky MCP): -4.443341739120852\n",
      "Schemkes R-squared on Test Set (Thumb MCP): 0.9461887913104194\n",
      "Schemkes R-squared on Custom Evaluation Set (Thumb MCP): 0.7422828770480923\n",
      "Schemkes R-squared on Test Set (Ring MCP): -1.6034218063179666\n",
      "Schemkes R-squared on Custom Evaluation Set (Ring MCP): -4.130211206806112\n",
      "Schemkes model ratios: vertical=0.24127862210625753, horizontal=1.432867953089567\n"
     ]
    }
   ],
   "source": [
    "# Schemkes on test set\n",
    "schemkes_predictions = schemkes_model.predict(X_test)\n",
    "schemkes_r2 = r2_score(y_test, schemkes_predictions)\n",
    "print(\"Schemkes R-squared on Test Set:\", schemkes_r2)\n",
    "\n",
    "# Schemkes on custom evaluation set\n",
    "schemkes_custom_predictions = schemkes_model.predict(X_custom_eval)\n",
    "schemkes_custom_r2 = r2_score(y_custom_eval, schemkes_custom_predictions)\n",
    "print(\"Schemkes R-squared on Custom Evaluation Set:\", schemkes_custom_r2)\n",
    "\n",
    "# Try schemkes model that uses middle finger mcp instead of index finger mcp\n",
    "schemkes_model_middle = SchemkesInterpolationModel(train_columns=['WRIST', 'MIDDLE_FINGER_MCP'], target_column='THUMB_CMC')\n",
    "schemkes_model_middle.fit(X_train, y_train)\n",
    "\n",
    "# Schemkes middle on test set\n",
    "schemkes_predictions_middle = schemkes_model_middle.predict(X_test)\n",
    "schemkes_r2_middle = r2_score(y_test, schemkes_predictions_middle)\n",
    "print(\"Schemkes R-squared on Test Set (Middle Finger MCP):\", schemkes_r2_middle)\n",
    "\n",
    "# Schemkes middle on custom evaluation set\n",
    "schemkes_custom_predictions_middle = schemkes_model_middle.predict(X_custom_eval)\n",
    "schemkes_custom_r2_middle = r2_score(y_custom_eval, schemkes_custom_predictions_middle)\n",
    "print(\"Schemkes R-squared on Custom Evaluation Set (Middle Finger MCP):\", schemkes_custom_r2_middle)\n",
    "\n",
    "# Try schemkes model that uses wrist and pinky mcp\n",
    "schemkes_model_pinky = SchemkesInterpolationModel(train_columns=['WRIST', 'PINKY_MCP'], target_column='THUMB_CMC')\n",
    "schemkes_model_pinky.fit(X_train, y_train)\n",
    "\n",
    "# Schemkes pinky on test set\n",
    "schemkes_predictions_pinky = schemkes_model_pinky.predict(X_test)\n",
    "schemkes_r2_pinky = r2_score(y_test, schemkes_predictions_pinky)\n",
    "print(\"Schemkes R-squared on Test Set (Pinky MCP):\", schemkes_r2_pinky)\n",
    "\n",
    "# Schemkes pinky on custom evaluation set\n",
    "schemkes_custom_predictions_pinky = schemkes_model_pinky.predict(X_custom_eval)\n",
    "schemkes_custom_r2_pinky = r2_score(y_custom_eval, schemkes_custom_predictions_pinky)\n",
    "print(\"Schemkes R-squared on Custom Evaluation Set (Pinky MCP):\", schemkes_custom_r2_pinky)\n",
    "\n",
    "# Try schemkes model that uses wrist and thumb mcp\n",
    "schemkes_model_thumb = SchemkesInterpolationModel(train_columns=['WRIST', 'THUMB_MCP'], target_column='THUMB_CMC')\n",
    "schemkes_model_thumb.fit(X_train, y_train)\n",
    "\n",
    "# Schemkes thumb on test set\n",
    "schemkes_predictions_thumb = schemkes_model_thumb.predict(X_test)\n",
    "schemkes_r2_thumb = r2_score(y_test, schemkes_predictions_thumb)\n",
    "print(\"Schemkes R-squared on Test Set (Thumb MCP):\", schemkes_r2_thumb)\n",
    "\n",
    "# Schemkes thumb on custom evaluation set\n",
    "schemkes_custom_predictions_thumb = schemkes_model_thumb.predict(X_custom_eval)\n",
    "schemkes_custom_r2_thumb = r2_score(y_custom_eval, schemkes_custom_predictions_thumb)\n",
    "print(\"Schemkes R-squared on Custom Evaluation Set (Thumb MCP):\", schemkes_custom_r2_thumb)\n",
    "\n",
    "# Try schemkes model that uses wrist and ring finger mcp\n",
    "schemkes_model_ring = SchemkesInterpolationModel(train_columns=['WRIST', 'RING_FINGER_MCP'], target_column='THUMB_CMC')\n",
    "schemkes_model_ring.fit(X_train, y_train)\n",
    "\n",
    "# Schemkes ring on test set\n",
    "schemkes_predictions_ring = schemkes_model_ring.predict(X_test)\n",
    "schemkes_r2_ring = r2_score(y_test, schemkes_predictions_ring)\n",
    "print(\"Schemkes R-squared on Test Set (Ring MCP):\", schemkes_r2_ring)\n",
    "\n",
    "# Schemkes ring on custom evaluation set\n",
    "schemkes_custom_predictions_ring = schemkes_model_ring.predict(X_custom_eval)\n",
    "schemkes_custom_r2_ring = r2_score(y_custom_eval, schemkes_custom_predictions_ring)\n",
    "print(\"Schemkes R-squared on Custom Evaluation Set (Ring MCP):\", schemkes_custom_r2_ring)\n",
    "\n",
    "print(f\"Schemkes model ratios: vertical={schemkes_model.vertical_ratio}, horizontal={schemkes_model.horizontal_ratio}\")\n",
    "\n"
   ]
  },
  {
   "cell_type": "code",
   "execution_count": 77,
   "metadata": {},
   "outputs": [],
   "source": [
    "def interleaving_subsample(df, sample_size):\n",
    "    \"\"\"\n",
    "    Perform interleaving subsampling on a DataFrame.\n",
    "\n",
    "    Parameters:\n",
    "        df (pd.DataFrame): The input DataFrame.\n",
    "        sample_size (int): Desired number of rows in the subsample. Must be <= len(df).\n",
    "\n",
    "    Returns:\n",
    "        pd.DataFrame: Interleaved subsample of the DataFrame.\n",
    "    \"\"\"\n",
    "    if sample_size <= 0 or sample_size > len(df):\n",
    "        raise ValueError(\"Sample size must be a positive integer and <= the number of rows in the DataFrame.\")\n",
    "\n",
    "    # Calculate the interleaving step\n",
    "    step = len(df) / sample_size\n",
    "\n",
    "    # Select rows based on interleaved indices\n",
    "    indices = (np.arange(sample_size) * step).astype(int)\n",
    "    return df.iloc[indices]\n",
    "\n",
    "def first_n_subsample(df, sample_size):\n",
    "    \"\"\"\n",
    "    Perform first-n subsampling on a DataFrame.\n",
    "\n",
    "    Parameters:\n",
    "        df (pd.DataFrame): The input DataFrame.\n",
    "        sample_size (int): Desired number of rows in the subsample. Must be <= len(df).\n",
    "\n",
    "    Returns:\n",
    "        pd.DataFrame: First-n subsample of the DataFrame.\n",
    "    \"\"\"\n",
    "    if sample_size <= 0 or sample_size > len(df):\n",
    "        raise ValueError(\"Sample size must be a positive integer and <= the number of rows in the DataFrame.\")\n",
    "\n",
    "    return df.iloc[:sample_size]\n",
    "\n",
    "def random_subsample(df, sample_size, random_state=42):\n",
    "    \"\"\"\n",
    "    Perform random subsampling on a DataFrame.\n",
    "\n",
    "    Parameters:\n",
    "        df (pd.DataFrame): The input DataFrame.\n",
    "        sample_size (int): Desired number of rows in the subsample. Must be <= len(df).\n",
    "        random_state (int): Random seed for reproducibility.\n",
    "\n",
    "    Returns:\n",
    "        pd.DataFrame: Random subsample of the DataFrame.\n",
    "    \"\"\"\n",
    "    if sample_size <= 0 or sample_size > len(df):\n",
    "        raise ValueError(\"Sample size must be a positive integer and <= the number of rows in the DataFrame.\")\n",
    "\n",
    "    return df.sample(sample_size, random_state=random_state)\n",
    "\n",
    "def calculate_euclidean_distances(set1, set2):\n",
    "    \"\"\"\n",
    "    Calculate the Euclidean distance for each row between two sets of coordinates.\n",
    "\n",
    "    Parameters:\n",
    "        set1 (pd.DataFrame or np.ndarray): First set of coordinates (n, 2).\n",
    "        set2 (pd.DataFrame or np.ndarray): Second set of coordinates (n, 2).\n",
    "\n",
    "    Returns:\n",
    "        np.ndarray: A numpy array of shape (n, 1) containing the Euclidean distances.\n",
    "    \"\"\"\n",
    "    # Convert to numpy arrays if inputs are DataFrames\n",
    "    if isinstance(set1, pd.DataFrame):\n",
    "        set1 = set1.values\n",
    "    if isinstance(set2, pd.DataFrame):\n",
    "        set2 = set2.values\n",
    "\n",
    "    # Ensure the inputs have the correct shape\n",
    "    if set1.shape != set2.shape or set1.shape[1] != 2:\n",
    "        raise ValueError(\"Both sets must have the shape (n, 2).\")\n",
    "\n",
    "    # Calculate Euclidean distances\n",
    "    distances = np.sqrt(np.sum((set1 - set2) ** 2, axis=1))\n",
    "    return distances.reshape(-1, 1)\n",
    "\n",
    "def evaluation_pipeline(X_train, y_train, X_test, y_test ,X_eval, y_eval, models, model_names, training_sizes, additional_test_sets=None, output_dir='output', subsample=\"interleave\"):\n",
    "    \"\"\"\n",
    "    Evaluates all models and saves the results.\n",
    "\n",
    "    Parameters:\n",
    "        normed_X_df (pd.DataFrame): Normalized feature DataFrame.\n",
    "        normed_y_df (pd.DataFrame): Normalized target DataFrame.\n",
    "        X_eval (pd.DataFrame): Evaluation feature DataFrame.\n",
    "        y_eval (pd.DataFrame): Evaluation target DataFrame.\n",
    "        models (list): List of models to evaluate.\n",
    "        model_names (list): List of model names.\n",
    "        model_params (list): List of model parameters.\n",
    "        additional_test_sets (dict): Dictionary of additional test sets. {\"name\": (X, y)}\n",
    "        output_dir (str): Directory to save the results.\n",
    "    \"\"\"\n",
    "\n",
    "\n",
    "    subsampling_methods = {\n",
    "        \"interleave\": interleaving_subsample,\n",
    "        \"first_n\": first_n_subsample,\n",
    "        \"random\": random_subsample\n",
    "    }\n",
    "\n",
    "    total_results = {}\n",
    "    # For every model add a dictionary \n",
    "    for model_name in model_names:\n",
    "        total_results[model_name] = {\n",
    "            'R2': [],\n",
    "            'Test_Error': [],\n",
    "            'Eval_Error': []\n",
    "        }\n",
    "        if additional_test_sets is not None:\n",
    "            for test_name, (additional_test_X, additional_test_y) in additional_test_sets.items():\n",
    "                total_results[model_name][f'{test_name}_Error'] = []\n",
    "\n",
    "    training_sizes_copy = training_sizes.copy()\n",
    "    training_sizes_copy.sort()\n",
    "\n",
    "    for i in tqdm(range(len(training_sizes_copy)), desc=\"Iterations\"):\n",
    "        current_size = training_sizes_copy[i]\n",
    "        if current_size <= 0 or current_size > len(X_train):\n",
    "            break\n",
    "        # print(\"Iteration:\", i, \"Training size:\", int(current_size))\n",
    "        X_subsampled = subsampling_methods[subsample](X_train, int(current_size))\n",
    "        # Set the same rows for y\n",
    "        y_subsampled = y_train.loc[X_subsampled.index]\n",
    "\n",
    "        # Calculate the results for all models\n",
    "        for m_index in tqdm(range(len(models)), desc=\"Models\", leave=False):\n",
    "            model_name = model_names[m_index]\n",
    "            model = models[m_index]\n",
    "\n",
    "            # Create dir for model_name if not exists\n",
    "            if not os.path.exists(f'{output_dir}/{model_name}'):\n",
    "                os.makedirs(f'{output_dir}/{model_name}')\n",
    "\n",
    "            # If trained model file already exists, load it\n",
    "            if os.path.isfile(f'{output_dir}/{model_name}/{model_name}_{subsample}_{int(current_size)}.pkl'):\n",
    "                with open(f'{output_dir}/{model_name}/{model_name}_{subsample}_{int(current_size)}.pkl', 'rb') as f:\n",
    "                    model = pickle.load(f)\n",
    "            else:\n",
    "                # Fit the model\n",
    "                model.fit(X_subsampled, y_subsampled)\n",
    "                with open(f'{output_dir}/{model_name}/{model_name}_{subsample}_{int(current_size)}.pkl', 'wb') as f:\n",
    "                    pickle.dump(model, f)\n",
    "\n",
    "            # Calculate R2 score\n",
    "            r2 = model.score(X_test, y_test)\n",
    "            total_results[model_name]['R2'].append(r2)\n",
    "\n",
    "            # Calculate the test error\n",
    "            test_pred = model.predict(X_test)\n",
    "            test_error = np.mean(calculate_euclidean_distances(y_test, test_pred))\n",
    "            total_results[model_name]['Test_Error'].append(test_error)\n",
    "            \n",
    "            # Calculate the evaluation error\n",
    "            eval_error = np.mean(calculate_euclidean_distances(y_eval, model.predict(X_eval)))\n",
    "            total_results[model_name]['Eval_Error'].append(eval_error)\n",
    "            if additional_test_sets is not None:\n",
    "                # For additional test sets\n",
    "                for test_name, (additional_test_X, additional_test_y) in additional_test_sets.items():\n",
    "                    additional_test_error = np.mean(calculate_euclidean_distances(additional_test_y, model.predict(additional_test_X)))\n",
    "                    total_results[model_name][f'{test_name}_Error'].append(additional_test_error)\n",
    "                \n",
    "    return total_results"
   ]
  },
  {
   "cell_type": "code",
   "execution_count": 78,
   "metadata": {},
   "outputs": [
    {
     "name": "stdout",
     "output_type": "stream",
     "text": [
      "[ 1000  1484  2204  3271  4856  7208 10700 15883 23578 35000 57837]\n"
     ]
    }
   ],
   "source": [
    "schemkes_model = SchemkesInterpolationModel(train_columns=['WRIST', 'INDEX_FINGER_MCP'], target_column='THUMB_CMC')\n",
    "schemkes_model_original_thumb = SchemkesInterpolationModel(train_columns=['WRIST', 'INDEX_FINGER_MCP'], target_column='THUMB_CMC', vertical_ratio=2/3, horizontal_ratio=1/3)\n",
    "\n",
    "tuned_models = [\n",
    "    schemkes_model,\n",
    "    rf_opt.best_estimator_,\n",
    "    xgb_opt.best_estimator_,\n",
    "    knn_opt.best_estimator_,\n",
    "    lasso_opt.best_estimator_,\n",
    "    thumbless_lasso_model\n",
    "]\n",
    "\n",
    "tuned_models_names = [\n",
    "    'Schemkes',\n",
    "    'RandomForest',\n",
    "    'XGBoost',\n",
    "    'KNN',\n",
    "    'Lasso',\n",
    "    'Lasso_no_thumb'\n",
    "]\n",
    "\n",
    "x_points = np.arange(0, 10)  # 10 x-points (0 to 9)\n",
    "ys_start = 1000  # Starting y-value\n",
    "ys_end = 35000  # Ending y-value\n",
    "\n",
    "# Calculate the growth factor b\n",
    "b = np.log(ys_end / ys_start) / (len(x_points) - 1)\n",
    "\n",
    "# Define the exponential function and round y-values to integers\n",
    "ys_values = np.round(ys_start * np.exp(b * x_points)).astype(int)\n",
    "sizes = np.append(ys_values, len(X_train))\n",
    "print(sizes)\n",
    "sizes.sort()"
   ]
  },
  {
   "cell_type": "code",
   "execution_count": 79,
   "metadata": {},
   "outputs": [
    {
     "name": "stderr",
     "output_type": "stream",
     "text": [
      "Iterations: 100%|██████████| 11/11 [06:22<00:00, 34.75s/it]\n"
     ]
    }
   ],
   "source": [
    "if os.path.isfile('output/data_random.pkl'):\n",
    "    # load\n",
    "    with open('output/data_random.pkl', 'rb') as f:\n",
    "        data_random = pickle.load(f)\n",
    "else:\n",
    "    total_results_random = evaluation_pipeline(X_train=X_train, y_train=y_train, \n",
    "                                        X_test=X_test, y_test=y_test, \n",
    "                                        X_eval=X_custom_eval, y_eval=y_custom_eval, \n",
    "                                        models=tuned_models, model_names=tuned_models_names, \n",
    "                                        training_sizes=sizes, additional_test_sets=None ,output_dir='output', subsample=\"random\")\n",
    "    data_random = total_results_random\n",
    "# Save the results\n",
    "\n",
    "with open('output/data_random.pkl', 'wb') as f:\n",
    "    pickle.dump(data_random, f)"
   ]
  },
  {
   "cell_type": "code",
   "execution_count": null,
   "metadata": {},
   "outputs": [],
   "source": [
    "x_values = sizes[:len(data_random['Schemkes']['R2'])]\n",
    "metrics = list(data_random[\"Schemkes\"].keys())"
   ]
  },
  {
   "cell_type": "code",
   "execution_count": 105,
   "metadata": {},
   "outputs": [
    {
     "data": {
      "application/vnd.plotly.v1+json": {
       "config": {
        "plotlyServerURL": "https://plot.ly"
       },
       "data": [
        {
         "line": {
          "color": "rgb(31, 119, 180)",
          "dash": "dot",
          "width": 4
         },
         "marker": {
          "color": "rgb(31, 119, 180)",
          "line": {
           "color": "rgb(31, 119, 180)",
           "width": 4
          },
          "size": 13,
          "symbol": "circle-open"
         },
         "mode": "lines+markers",
         "name": "Schemkes_eval",
         "type": "scatter",
         "x": [
          1000,
          1484,
          2204,
          3271,
          4856,
          7208,
          10700,
          15883,
          23578,
          35000,
          57837
         ],
         "y": [
          0.09057800242741229,
          0.09030800851992182,
          0.09020172463754415,
          0.08990171527390753,
          0.08957919415970902,
          0.08972748713106322,
          0.08991124251778812,
          0.08969918979570729,
          0.0896478147736734,
          0.08962354403579827,
          0.08962631903608013
         ]
        },
        {
         "line": {
          "color": "rgb(31, 119, 180)",
          "width": 4
         },
         "marker": {
          "color": "rgb(31, 119, 180)",
          "line": {
           "color": "DarkSlateGrey",
           "width": 1
          },
          "size": 13
         },
         "mode": "lines+markers",
         "name": "Schemkes_test",
         "type": "scatter",
         "x": [
          1000,
          1484,
          2204,
          3271,
          4856,
          7208,
          10700,
          15883,
          23578,
          35000,
          57837
         ],
         "y": [
          0.0645626965910247,
          0.06448007546172223,
          0.06445892413100271,
          0.06439259592158159,
          0.06431911591095145,
          0.06434738253338211,
          0.06438672262943763,
          0.06434149936066887,
          0.06433037489102912,
          0.06432768590459795,
          0.06432620687764128
         ]
        },
        {
         "line": {
          "color": "rgb(255, 127, 14)",
          "dash": "dot",
          "width": 4
         },
         "marker": {
          "color": "rgb(255, 127, 14)",
          "line": {
           "color": "rgb(255, 127, 14)",
           "width": 4
          },
          "size": 13,
          "symbol": "circle-open"
         },
         "mode": "lines+markers",
         "name": "RandomForest_eval",
         "type": "scatter",
         "x": [
          1000,
          1484,
          2204,
          3271,
          4856,
          7208,
          10700,
          15883,
          23578,
          35000,
          57837
         ],
         "y": [
          0.06966405065973655,
          0.06761167651688893,
          0.06656206524155174,
          0.06520213642285784,
          0.06440284998366799,
          0.06280193308020343,
          0.06041608485607191,
          0.0609040631730832,
          0.059845491315354014,
          0.05819049689182215,
          0.05730528192221813
         ]
        },
        {
         "line": {
          "color": "rgb(255, 127, 14)",
          "width": 4
         },
         "marker": {
          "color": "rgb(255, 127, 14)",
          "line": {
           "color": "DarkSlateGrey",
           "width": 1
          },
          "size": 13
         },
         "mode": "lines+markers",
         "name": "RandomForest_test",
         "type": "scatter",
         "x": [
          1000,
          1484,
          2204,
          3271,
          4856,
          7208,
          10700,
          15883,
          23578,
          35000,
          57837
         ],
         "y": [
          0.035713172169348856,
          0.033460932737421734,
          0.03168944251534732,
          0.03014531748814477,
          0.028588327989561416,
          0.027329646160563048,
          0.026361324647577334,
          0.025624843145761484,
          0.024939216935198693,
          0.02419903646093638,
          0.02337234479126757
         ]
        },
        {
         "line": {
          "color": "rgb(44, 160, 44)",
          "dash": "dot",
          "width": 4
         },
         "marker": {
          "color": "rgb(44, 160, 44)",
          "line": {
           "color": "rgb(44, 160, 44)",
           "width": 4
          },
          "size": 13,
          "symbol": "circle-open"
         },
         "mode": "lines+markers",
         "name": "XGBoost_eval",
         "type": "scatter",
         "x": [
          1000,
          1484,
          2204,
          3271,
          4856,
          7208,
          10700,
          15883,
          23578,
          35000,
          57837
         ],
         "y": [
          0.056879163581490026,
          0.05800907112412237,
          0.05815733046164752,
          0.05670123342977041,
          0.05886387728231384,
          0.06279872721289935,
          0.05969144600000665,
          0.060657594885101494,
          0.06457517643764032,
          0.059996807320118896,
          0.06279917696169264
         ]
        },
        {
         "line": {
          "color": "rgb(44, 160, 44)",
          "width": 4
         },
         "marker": {
          "color": "rgb(44, 160, 44)",
          "line": {
           "color": "DarkSlateGrey",
           "width": 1
          },
          "size": 13
         },
         "mode": "lines+markers",
         "name": "XGBoost_test",
         "type": "scatter",
         "x": [
          1000,
          1484,
          2204,
          3271,
          4856,
          7208,
          10700,
          15883,
          23578,
          35000,
          57837
         ],
         "y": [
          0.028741759141459485,
          0.02705349300866762,
          0.025644187698764385,
          0.024503998628774913,
          0.023264964702298246,
          0.02249619661921612,
          0.02109462322313121,
          0.020222600875224244,
          0.019757980702495594,
          0.019076220233579855,
          0.018602913994684698
         ]
        },
        {
         "line": {
          "color": "rgb(214, 39, 40)",
          "dash": "dot",
          "width": 4
         },
         "marker": {
          "color": "rgb(214, 39, 40)",
          "line": {
           "color": "rgb(214, 39, 40)",
           "width": 4
          },
          "size": 13,
          "symbol": "circle-open"
         },
         "mode": "lines+markers",
         "name": "KNN_eval",
         "type": "scatter",
         "x": [
          1000,
          1484,
          2204,
          3271,
          4856,
          7208,
          10700,
          15883,
          23578,
          35000,
          57837
         ],
         "y": [
          0.0852619732448301,
          0.08434723912157248,
          0.08295614429314808,
          0.08051728207071498,
          0.07911308972249909,
          0.07876296773793431,
          0.07808290840508257,
          0.07528562978041255,
          0.07447755607412249,
          0.07469652071707455,
          0.07319464838226249
         ]
        },
        {
         "line": {
          "color": "rgb(214, 39, 40)",
          "width": 4
         },
         "marker": {
          "color": "rgb(214, 39, 40)",
          "line": {
           "color": "DarkSlateGrey",
           "width": 1
          },
          "size": 13
         },
         "mode": "lines+markers",
         "name": "KNN_test",
         "type": "scatter",
         "x": [
          1000,
          1484,
          2204,
          3271,
          4856,
          7208,
          10700,
          15883,
          23578,
          35000,
          57837
         ],
         "y": [
          0.052841942271098834,
          0.050271093899190954,
          0.048306852526586806,
          0.0463632788621173,
          0.044687693760983985,
          0.04295982545666637,
          0.041440207084475426,
          0.04003465996882775,
          0.038947395166340486,
          0.037757922774748896,
          0.03625854253841929
         ]
        },
        {
         "line": {
          "color": "rgb(148, 103, 189)",
          "dash": "dot",
          "width": 4
         },
         "marker": {
          "color": "rgb(148, 103, 189)",
          "line": {
           "color": "rgb(148, 103, 189)",
           "width": 4
          },
          "size": 13,
          "symbol": "circle-open"
         },
         "mode": "lines+markers",
         "name": "Lasso_eval",
         "type": "scatter",
         "x": [
          1000,
          1484,
          2204,
          3271,
          4856,
          7208,
          10700,
          15883,
          23578,
          35000,
          57837
         ],
         "y": [
          0.05474403944592381,
          0.054504494878774484,
          0.05418884563708534,
          0.05415436526491637,
          0.05401820197376046,
          0.0533627876542141,
          0.05295541644561116,
          0.053123699457872396,
          0.05319886435105772,
          0.05345583780280951,
          0.05338841779593133
         ]
        },
        {
         "line": {
          "color": "rgb(148, 103, 189)",
          "width": 4
         },
         "marker": {
          "color": "rgb(148, 103, 189)",
          "line": {
           "color": "DarkSlateGrey",
           "width": 1
          },
          "size": 13
         },
         "mode": "lines+markers",
         "name": "Lasso_test",
         "type": "scatter",
         "x": [
          1000,
          1484,
          2204,
          3271,
          4856,
          7208,
          10700,
          15883,
          23578,
          35000,
          57837
         ],
         "y": [
          0.020616487015224803,
          0.020566776467511694,
          0.020435179519196735,
          0.020370310778230337,
          0.02043110773331623,
          0.020423303111762093,
          0.02053180499906196,
          0.02047412870965912,
          0.02048027889065629,
          0.020446165464129435,
          0.020392882226551293
         ]
        },
        {
         "line": {
          "color": "rgb(140, 86, 75)",
          "dash": "dot",
          "width": 4
         },
         "marker": {
          "color": "rgb(140, 86, 75)",
          "line": {
           "color": "rgb(140, 86, 75)",
           "width": 4
          },
          "size": 13,
          "symbol": "circle-open"
         },
         "mode": "lines+markers",
         "name": "Lasso_no_thumb_eval",
         "type": "scatter",
         "x": [
          1000,
          1484,
          2204,
          3271,
          4856,
          7208,
          10700,
          15883,
          23578,
          35000,
          57837
         ],
         "y": [
          0.09047340717775643,
          0.08753009826190453,
          0.08665373738617042,
          0.086941324111356,
          0.0858317854470222,
          0.08738124804086125,
          0.08603058361773602,
          0.08584270850758849,
          0.08555889272445177,
          0.0856535709693033,
          0.08563370643624782
         ]
        },
        {
         "line": {
          "color": "rgb(140, 86, 75)",
          "width": 4
         },
         "marker": {
          "color": "rgb(140, 86, 75)",
          "line": {
           "color": "DarkSlateGrey",
           "width": 1
          },
          "size": 13
         },
         "mode": "lines+markers",
         "name": "Lasso_no_thumb_test",
         "type": "scatter",
         "x": [
          1000,
          1484,
          2204,
          3271,
          4856,
          7208,
          10700,
          15883,
          23578,
          35000,
          57837
         ],
         "y": [
          0.037794680258692884,
          0.0376274402914631,
          0.03759439450039843,
          0.037601362185213844,
          0.03762423787943822,
          0.037670824820380026,
          0.03761003827587262,
          0.03756578239840804,
          0.037598904036538094,
          0.03760995773633131,
          0.03757843519656281
         ]
        }
       ],
       "layout": {
        "font": {
         "color": "black"
        },
        "height": 800,
        "legend": {
         "font": {
          "size": 18
         }
        },
        "shapes": [
         {
          "line": {
           "color": "black",
           "width": 2
          },
          "type": "rect",
          "x0": 0,
          "x1": 1,
          "xref": "paper",
          "y0": 0,
          "y1": 1,
          "yref": "paper"
         }
        ],
        "showlegend": false,
        "template": {
         "data": {
          "bar": [
           {
            "error_x": {
             "color": "#2a3f5f"
            },
            "error_y": {
             "color": "#2a3f5f"
            },
            "marker": {
             "line": {
              "color": "#E5ECF6",
              "width": 0.5
             },
             "pattern": {
              "fillmode": "overlay",
              "size": 10,
              "solidity": 0.2
             }
            },
            "type": "bar"
           }
          ],
          "barpolar": [
           {
            "marker": {
             "line": {
              "color": "#E5ECF6",
              "width": 0.5
             },
             "pattern": {
              "fillmode": "overlay",
              "size": 10,
              "solidity": 0.2
             }
            },
            "type": "barpolar"
           }
          ],
          "carpet": [
           {
            "aaxis": {
             "endlinecolor": "#2a3f5f",
             "gridcolor": "white",
             "linecolor": "white",
             "minorgridcolor": "white",
             "startlinecolor": "#2a3f5f"
            },
            "baxis": {
             "endlinecolor": "#2a3f5f",
             "gridcolor": "white",
             "linecolor": "white",
             "minorgridcolor": "white",
             "startlinecolor": "#2a3f5f"
            },
            "type": "carpet"
           }
          ],
          "choropleth": [
           {
            "colorbar": {
             "outlinewidth": 0,
             "ticks": ""
            },
            "type": "choropleth"
           }
          ],
          "contour": [
           {
            "colorbar": {
             "outlinewidth": 0,
             "ticks": ""
            },
            "colorscale": [
             [
              0,
              "#0d0887"
             ],
             [
              0.1111111111111111,
              "#46039f"
             ],
             [
              0.2222222222222222,
              "#7201a8"
             ],
             [
              0.3333333333333333,
              "#9c179e"
             ],
             [
              0.4444444444444444,
              "#bd3786"
             ],
             [
              0.5555555555555556,
              "#d8576b"
             ],
             [
              0.6666666666666666,
              "#ed7953"
             ],
             [
              0.7777777777777778,
              "#fb9f3a"
             ],
             [
              0.8888888888888888,
              "#fdca26"
             ],
             [
              1,
              "#f0f921"
             ]
            ],
            "type": "contour"
           }
          ],
          "contourcarpet": [
           {
            "colorbar": {
             "outlinewidth": 0,
             "ticks": ""
            },
            "type": "contourcarpet"
           }
          ],
          "heatmap": [
           {
            "colorbar": {
             "outlinewidth": 0,
             "ticks": ""
            },
            "colorscale": [
             [
              0,
              "#0d0887"
             ],
             [
              0.1111111111111111,
              "#46039f"
             ],
             [
              0.2222222222222222,
              "#7201a8"
             ],
             [
              0.3333333333333333,
              "#9c179e"
             ],
             [
              0.4444444444444444,
              "#bd3786"
             ],
             [
              0.5555555555555556,
              "#d8576b"
             ],
             [
              0.6666666666666666,
              "#ed7953"
             ],
             [
              0.7777777777777778,
              "#fb9f3a"
             ],
             [
              0.8888888888888888,
              "#fdca26"
             ],
             [
              1,
              "#f0f921"
             ]
            ],
            "type": "heatmap"
           }
          ],
          "heatmapgl": [
           {
            "colorbar": {
             "outlinewidth": 0,
             "ticks": ""
            },
            "colorscale": [
             [
              0,
              "#0d0887"
             ],
             [
              0.1111111111111111,
              "#46039f"
             ],
             [
              0.2222222222222222,
              "#7201a8"
             ],
             [
              0.3333333333333333,
              "#9c179e"
             ],
             [
              0.4444444444444444,
              "#bd3786"
             ],
             [
              0.5555555555555556,
              "#d8576b"
             ],
             [
              0.6666666666666666,
              "#ed7953"
             ],
             [
              0.7777777777777778,
              "#fb9f3a"
             ],
             [
              0.8888888888888888,
              "#fdca26"
             ],
             [
              1,
              "#f0f921"
             ]
            ],
            "type": "heatmapgl"
           }
          ],
          "histogram": [
           {
            "marker": {
             "pattern": {
              "fillmode": "overlay",
              "size": 10,
              "solidity": 0.2
             }
            },
            "type": "histogram"
           }
          ],
          "histogram2d": [
           {
            "colorbar": {
             "outlinewidth": 0,
             "ticks": ""
            },
            "colorscale": [
             [
              0,
              "#0d0887"
             ],
             [
              0.1111111111111111,
              "#46039f"
             ],
             [
              0.2222222222222222,
              "#7201a8"
             ],
             [
              0.3333333333333333,
              "#9c179e"
             ],
             [
              0.4444444444444444,
              "#bd3786"
             ],
             [
              0.5555555555555556,
              "#d8576b"
             ],
             [
              0.6666666666666666,
              "#ed7953"
             ],
             [
              0.7777777777777778,
              "#fb9f3a"
             ],
             [
              0.8888888888888888,
              "#fdca26"
             ],
             [
              1,
              "#f0f921"
             ]
            ],
            "type": "histogram2d"
           }
          ],
          "histogram2dcontour": [
           {
            "colorbar": {
             "outlinewidth": 0,
             "ticks": ""
            },
            "colorscale": [
             [
              0,
              "#0d0887"
             ],
             [
              0.1111111111111111,
              "#46039f"
             ],
             [
              0.2222222222222222,
              "#7201a8"
             ],
             [
              0.3333333333333333,
              "#9c179e"
             ],
             [
              0.4444444444444444,
              "#bd3786"
             ],
             [
              0.5555555555555556,
              "#d8576b"
             ],
             [
              0.6666666666666666,
              "#ed7953"
             ],
             [
              0.7777777777777778,
              "#fb9f3a"
             ],
             [
              0.8888888888888888,
              "#fdca26"
             ],
             [
              1,
              "#f0f921"
             ]
            ],
            "type": "histogram2dcontour"
           }
          ],
          "mesh3d": [
           {
            "colorbar": {
             "outlinewidth": 0,
             "ticks": ""
            },
            "type": "mesh3d"
           }
          ],
          "parcoords": [
           {
            "line": {
             "colorbar": {
              "outlinewidth": 0,
              "ticks": ""
             }
            },
            "type": "parcoords"
           }
          ],
          "pie": [
           {
            "automargin": true,
            "type": "pie"
           }
          ],
          "scatter": [
           {
            "fillpattern": {
             "fillmode": "overlay",
             "size": 10,
             "solidity": 0.2
            },
            "type": "scatter"
           }
          ],
          "scatter3d": [
           {
            "line": {
             "colorbar": {
              "outlinewidth": 0,
              "ticks": ""
             }
            },
            "marker": {
             "colorbar": {
              "outlinewidth": 0,
              "ticks": ""
             }
            },
            "type": "scatter3d"
           }
          ],
          "scattercarpet": [
           {
            "marker": {
             "colorbar": {
              "outlinewidth": 0,
              "ticks": ""
             }
            },
            "type": "scattercarpet"
           }
          ],
          "scattergeo": [
           {
            "marker": {
             "colorbar": {
              "outlinewidth": 0,
              "ticks": ""
             }
            },
            "type": "scattergeo"
           }
          ],
          "scattergl": [
           {
            "marker": {
             "colorbar": {
              "outlinewidth": 0,
              "ticks": ""
             }
            },
            "type": "scattergl"
           }
          ],
          "scattermapbox": [
           {
            "marker": {
             "colorbar": {
              "outlinewidth": 0,
              "ticks": ""
             }
            },
            "type": "scattermapbox"
           }
          ],
          "scatterpolar": [
           {
            "marker": {
             "colorbar": {
              "outlinewidth": 0,
              "ticks": ""
             }
            },
            "type": "scatterpolar"
           }
          ],
          "scatterpolargl": [
           {
            "marker": {
             "colorbar": {
              "outlinewidth": 0,
              "ticks": ""
             }
            },
            "type": "scatterpolargl"
           }
          ],
          "scatterternary": [
           {
            "marker": {
             "colorbar": {
              "outlinewidth": 0,
              "ticks": ""
             }
            },
            "type": "scatterternary"
           }
          ],
          "surface": [
           {
            "colorbar": {
             "outlinewidth": 0,
             "ticks": ""
            },
            "colorscale": [
             [
              0,
              "#0d0887"
             ],
             [
              0.1111111111111111,
              "#46039f"
             ],
             [
              0.2222222222222222,
              "#7201a8"
             ],
             [
              0.3333333333333333,
              "#9c179e"
             ],
             [
              0.4444444444444444,
              "#bd3786"
             ],
             [
              0.5555555555555556,
              "#d8576b"
             ],
             [
              0.6666666666666666,
              "#ed7953"
             ],
             [
              0.7777777777777778,
              "#fb9f3a"
             ],
             [
              0.8888888888888888,
              "#fdca26"
             ],
             [
              1,
              "#f0f921"
             ]
            ],
            "type": "surface"
           }
          ],
          "table": [
           {
            "cells": {
             "fill": {
              "color": "#EBF0F8"
             },
             "line": {
              "color": "white"
             }
            },
            "header": {
             "fill": {
              "color": "#C8D4E3"
             },
             "line": {
              "color": "white"
             }
            },
            "type": "table"
           }
          ]
         },
         "layout": {
          "annotationdefaults": {
           "arrowcolor": "#2a3f5f",
           "arrowhead": 0,
           "arrowwidth": 1
          },
          "autotypenumbers": "strict",
          "coloraxis": {
           "colorbar": {
            "outlinewidth": 0,
            "ticks": ""
           }
          },
          "colorscale": {
           "diverging": [
            [
             0,
             "#8e0152"
            ],
            [
             0.1,
             "#c51b7d"
            ],
            [
             0.2,
             "#de77ae"
            ],
            [
             0.3,
             "#f1b6da"
            ],
            [
             0.4,
             "#fde0ef"
            ],
            [
             0.5,
             "#f7f7f7"
            ],
            [
             0.6,
             "#e6f5d0"
            ],
            [
             0.7,
             "#b8e186"
            ],
            [
             0.8,
             "#7fbc41"
            ],
            [
             0.9,
             "#4d9221"
            ],
            [
             1,
             "#276419"
            ]
           ],
           "sequential": [
            [
             0,
             "#0d0887"
            ],
            [
             0.1111111111111111,
             "#46039f"
            ],
            [
             0.2222222222222222,
             "#7201a8"
            ],
            [
             0.3333333333333333,
             "#9c179e"
            ],
            [
             0.4444444444444444,
             "#bd3786"
            ],
            [
             0.5555555555555556,
             "#d8576b"
            ],
            [
             0.6666666666666666,
             "#ed7953"
            ],
            [
             0.7777777777777778,
             "#fb9f3a"
            ],
            [
             0.8888888888888888,
             "#fdca26"
            ],
            [
             1,
             "#f0f921"
            ]
           ],
           "sequentialminus": [
            [
             0,
             "#0d0887"
            ],
            [
             0.1111111111111111,
             "#46039f"
            ],
            [
             0.2222222222222222,
             "#7201a8"
            ],
            [
             0.3333333333333333,
             "#9c179e"
            ],
            [
             0.4444444444444444,
             "#bd3786"
            ],
            [
             0.5555555555555556,
             "#d8576b"
            ],
            [
             0.6666666666666666,
             "#ed7953"
            ],
            [
             0.7777777777777778,
             "#fb9f3a"
            ],
            [
             0.8888888888888888,
             "#fdca26"
            ],
            [
             1,
             "#f0f921"
            ]
           ]
          },
          "colorway": [
           "#636efa",
           "#EF553B",
           "#00cc96",
           "#ab63fa",
           "#FFA15A",
           "#19d3f3",
           "#FF6692",
           "#B6E880",
           "#FF97FF",
           "#FECB52"
          ],
          "font": {
           "color": "#2a3f5f"
          },
          "geo": {
           "bgcolor": "white",
           "lakecolor": "white",
           "landcolor": "#E5ECF6",
           "showlakes": true,
           "showland": true,
           "subunitcolor": "white"
          },
          "hoverlabel": {
           "align": "left"
          },
          "hovermode": "closest",
          "mapbox": {
           "style": "light"
          },
          "paper_bgcolor": "white",
          "plot_bgcolor": "#E5ECF6",
          "polar": {
           "angularaxis": {
            "gridcolor": "white",
            "linecolor": "white",
            "ticks": ""
           },
           "bgcolor": "#E5ECF6",
           "radialaxis": {
            "gridcolor": "white",
            "linecolor": "white",
            "ticks": ""
           }
          },
          "scene": {
           "xaxis": {
            "backgroundcolor": "#E5ECF6",
            "gridcolor": "white",
            "gridwidth": 2,
            "linecolor": "white",
            "showbackground": true,
            "ticks": "",
            "zerolinecolor": "white"
           },
           "yaxis": {
            "backgroundcolor": "#E5ECF6",
            "gridcolor": "white",
            "gridwidth": 2,
            "linecolor": "white",
            "showbackground": true,
            "ticks": "",
            "zerolinecolor": "white"
           },
           "zaxis": {
            "backgroundcolor": "#E5ECF6",
            "gridcolor": "white",
            "gridwidth": 2,
            "linecolor": "white",
            "showbackground": true,
            "ticks": "",
            "zerolinecolor": "white"
           }
          },
          "shapedefaults": {
           "line": {
            "color": "#2a3f5f"
           }
          },
          "ternary": {
           "aaxis": {
            "gridcolor": "white",
            "linecolor": "white",
            "ticks": ""
           },
           "baxis": {
            "gridcolor": "white",
            "linecolor": "white",
            "ticks": ""
           },
           "bgcolor": "#E5ECF6",
           "caxis": {
            "gridcolor": "white",
            "linecolor": "white",
            "ticks": ""
           }
          },
          "title": {
           "x": 0.05
          },
          "xaxis": {
           "automargin": true,
           "gridcolor": "white",
           "linecolor": "white",
           "ticks": "",
           "title": {
            "standoff": 15
           },
           "zerolinecolor": "white",
           "zerolinewidth": 2
          },
          "yaxis": {
           "automargin": true,
           "gridcolor": "white",
           "linecolor": "white",
           "ticks": "",
           "title": {
            "standoff": 15
           },
           "zerolinecolor": "white",
           "zerolinewidth": 2
          }
         }
        },
        "title": {
         "font": {
          "size": 24
         },
         "text": "THUMB_CMC Loss vs Training Size (Test and Eval set)"
        },
        "width": 1000,
        "xaxis": {
         "showgrid": false,
         "tickfont": {
          "size": 20
         },
         "title": {
          "font": {
           "size": 22
          },
          "text": "Training Size"
         },
         "type": "log"
        },
        "yaxis": {
         "showgrid": false,
         "tickfont": {
          "size": 22
         },
         "title": {
          "font": {
           "size": 22
          },
          "text": "Mean Euclidean Distance"
         }
        }
       }
      }
     },
     "metadata": {},
     "output_type": "display_data"
    }
   ],
   "source": [
    "from plotly.colors import DEFAULT_PLOTLY_COLORS\n",
    "import plotly.graph_objects as go\n",
    "color_idx = 0\n",
    "\n",
    "# PLOT BOTH\n",
    "fig = go.Figure()\n",
    "for model, model_data in data_random.items():\n",
    "    fig.add_trace(\n",
    "        go.Scatter(\n",
    "            x=x_values,\n",
    "            y=model_data[\"Eval_Error\"],\n",
    "            mode=\"lines+markers\",\n",
    "            name=model+\"_eval\",\n",
    "            line=dict(width=4, dash='dot', color=DEFAULT_PLOTLY_COLORS[color_idx]),\n",
    "            marker=dict(size=13, color=DEFAULT_PLOTLY_COLORS[color_idx], symbol='circle-open', line=dict(width=4, color=DEFAULT_PLOTLY_COLORS[color_idx]))\n",
    "        )\n",
    "    )\n",
    "    fig.add_trace(\n",
    "        go.Scatter(\n",
    "            x=x_values,\n",
    "            y=model_data[\"Test_Error\"],\n",
    "            mode=\"lines+markers\",\n",
    "            name=model+\"_test\",\n",
    "            line=dict(width=4, color=DEFAULT_PLOTLY_COLORS[color_idx]),\n",
    "            marker=dict(size=13, color=DEFAULT_PLOTLY_COLORS[color_idx], line=dict(width=1, color=\"DarkSlateGrey\"))\n",
    "        )\n",
    "    )\n",
    "    color_idx += 1\n",
    "\n",
    "fig.update_layout(\n",
    "    title=\"THUMB_CMC Loss vs Training Size (Test and Eval set)\",\n",
    "    width=1000,\n",
    "    height=800,\n",
    "    xaxis_title=\"Training Size\",\n",
    "    yaxis_title=\"Mean Euclidean Distance\",\n",
    "    xaxis_type=\"log\",\n",
    ")\n",
    "# Draw rectangle as border\n",
    "fig.add_shape(\n",
    "    dict(\n",
    "        type=\"rect\",\n",
    "        xref=\"paper\",\n",
    "        yref=\"paper\",\n",
    "        x0=0,\n",
    "        y0=0,\n",
    "        x1=1,\n",
    "        y1=1,\n",
    "        line=dict(color=\"black\", width=2),\n",
    "    )\n",
    ")\n",
    "# Remove gridlines\n",
    "fig.update_xaxes(showgrid=False)\n",
    "fig.update_yaxes(showgrid=False)\n",
    "\n",
    "# Make title font bigger\n",
    "fig.update_layout(title_font_size=24)\n",
    "\n",
    "# Make text color black\n",
    "fig.update_layout(font=dict(color=\"black\"))\n",
    "\n",
    "# Set font to times new roman\n",
    "# fig.update_layout(font=dict(family=\"Times New Roman\"))\n",
    "# Increase font of y and x axis\n",
    "fig.update_xaxes(tickfont=dict(size=20))\n",
    "fig.update_yaxes(tickfont=dict(size=22))\n",
    "# Increase font of xaxis_title\n",
    "fig.update_xaxes(title_font=dict(size=22))\n",
    "# Increase font of yaxis_title\n",
    "fig.update_yaxes(title_font=dict(size=22))\n",
    "# Do not draw legend \n",
    "fig.update_layout(showlegend=False)\n",
    "\n",
    "\n",
    "# Make legend bottom\n",
    "# fig.update_layout(\n",
    "#     legend=dict(\n",
    "#         orientation=\"h\",  # Horizontal orientation\n",
    "#         yanchor=\"bottom\",  # Anchor to the bottom of the legend\n",
    "#         y=-0.2,  # Adjust y position to move it slightly below the plot\n",
    "#         xanchor=\"center\",  # Anchor to the center of the legend\n",
    "#         x=0.5  # Position the legend in the middle of the x-axis\n",
    "#     )\n",
    "# )\n",
    "# Incraese legend font\n",
    "fig.update_layout(legend=dict(font=dict(size=18)))\n",
    "fig.show()"
   ]
  },
  {
   "cell_type": "code",
   "execution_count": 134,
   "metadata": {},
   "outputs": [
    {
     "name": "stdout",
     "output_type": "stream",
     "text": [
      "Model: Schemkes\n",
      "Test Loss at the 1000: 6.4563\n",
      "Test Loss at the 57837: 6.4326\n",
      "Test Loss Reduction: 0.37%\n",
      "Hypoth Loss at the 1000: 9.0578\n",
      "Hypoth Loss at the 57837: 8.9626\n",
      "Hypoth Loss Reduction: 1.05%\n",
      "Mean difference between Test and Hypoth Loss: 2.5503\n",
      "\n",
      "Model: RandomForest\n",
      "Test Loss at the 1000: 3.5713\n",
      "Test Loss at the 57837: 2.3372\n",
      "Test Loss Reduction: 34.56%\n",
      "Hypoth Loss at the 1000: 6.9664\n",
      "Hypoth Loss at the 57837: 5.7305\n",
      "Hypoth Loss Reduction: 17.74%\n",
      "Mean difference between Test and Hypoth Loss: 3.4680\n",
      "\n",
      "Model: XGBoost\n",
      "Test Loss at the 1000: 2.8742\n",
      "Test Loss at the 57837: 1.8603\n",
      "Test Loss Reduction: 35.28%\n",
      "Hypoth Loss at the 1000: 5.6879\n",
      "Hypoth Loss at the 57837: 6.2799\n",
      "Hypoth Loss Reduction: -10.41%\n",
      "Mean difference between Test and Hypoth Loss: 3.7152\n",
      "\n",
      "Model: KNN\n",
      "Test Loss at the 1000: 5.2842\n",
      "Test Loss at the 57837: 3.6259\n",
      "Test Loss Reduction: 31.38%\n",
      "Hypoth Loss at the 1000: 8.5262\n",
      "Hypoth Loss at the 57837: 7.3195\n",
      "Hypoth Loss Reduction: 14.15%\n",
      "Mean difference between Test and Hypoth Loss: 3.5166\n",
      "\n",
      "Model: Lasso\n",
      "Test Loss at the 1000: 2.0616\n",
      "Test Loss at the 57837: 2.0393\n",
      "Test Loss Reduction: 1.08%\n",
      "Hypoth Loss at the 1000: 5.4744\n",
      "Hypoth Loss at the 57837: 5.3388\n",
      "Hypoth Loss Reduction: 2.48%\n",
      "Mean difference between Test and Hypoth Loss: 3.3266\n",
      "\n",
      "Model: Lasso_no_thumb\n",
      "Test Loss at the 1000: 3.7795\n",
      "Test Loss at the 57837: 3.7578\n",
      "Test Loss Reduction: 0.57%\n",
      "Hypoth Loss at the 1000: 9.0473\n",
      "Hypoth Loss at the 57837: 8.5634\n",
      "Hypoth Loss Reduction: 5.35%\n",
      "Mean difference between Test and Hypoth Loss: 4.9060\n",
      "\n"
     ]
    }
   ],
   "source": [
    "# For each model, print the value at first datapoint and last datapoint for both test and eval error, and the average difference between them\n",
    "\n",
    "for model, model_data in data_random.items():\n",
    "    # Format to 4 decimal places\n",
    "    print(f\"Model: {model}\")\n",
    "    print(f\"Test Loss at the 1000: {model_data['Test_Error'][0]*100 :.4f}\")\n",
    "    print(f\"Test Loss at the 57837: {model_data['Test_Error'][-1]*100 :.4f}\")\n",
    "    # % reduction of test loss from 1000 to 57837\n",
    "    test_reduction = (model_data['Test_Error'][0] - model_data['Test_Error'][-1]) / model_data['Test_Error'][0] * 100\n",
    "    print(f\"Test Loss Reduction: {test_reduction:.2f}%\")\n",
    "    print(f\"Hypoth Loss at the 1000: {model_data['Eval_Error'][0]*100 :.4f}\")\n",
    "    print(f\"Hypoth Loss at the 57837: {model_data['Eval_Error'][-1]*100 :.4f}\")\n",
    "    hypoth_reduction = (model_data['Eval_Error'][0] - model_data['Eval_Error'][-1]) / model_data['Eval_Error'][0] * 100\n",
    "    print(f\"Hypoth Loss Reduction: {hypoth_reduction:.2f}%\")\n",
    "\n",
    "    test_scores = np.array(model_data['Test_Error'])\n",
    "    eval_scores = np.array(model_data['Eval_Error'])\n",
    "    mean_diff = np.mean(np.abs(test_scores - eval_scores))\n",
    "    print(f\"Mean difference between Test and Hypoth Loss: {mean_diff*100 :.4f}\")\n",
    "    print(\"\")"
   ]
  },
  {
   "cell_type": "code",
   "execution_count": 109,
   "metadata": {},
   "outputs": [],
   "source": [
    "import matplotlib.pyplot as plt\n",
    "import seaborn as sns\n",
    "\n",
    "\n",
    "# Assuming tuned_models and tuned_models_names are already defined\n",
    "\n",
    "# Fit the first model\n",
    "tuned_models[0].fit(X_train, y_train)\n",
    "\n",
    "# Calculate residuals for all models\n",
    "residuals = []\n",
    "for i in range(len(tuned_models)):\n",
    "    y_pred = tuned_models[i].predict(X_test)\n",
    "    residuals.append(y_pred - y_test.to_numpy())\n",
    "\n",
    "# Find the overall min and max residual values for consistent scaling\n",
    "min_x = min([np.min(res[:, 0]) for res in residuals])\n",
    "max_x = max([np.max(res[:, 0]) for res in residuals])\n",
    "min_y = min([np.min(res[:, 1]) for res in residuals])\n",
    "max_y = max([np.max(res[:, 1]) for res in residuals])\n",
    "\n",
    "# # Create subplots with shared scales\n",
    "# fig, axes = plt.subplots(2, 3, figsize=(18, 10), sharex=True, sharey=True)\n",
    "# axes = axes.flatten()\n",
    "\n",
    "# for i in range(len(tuned_models)):\n",
    "#     ax = axes[i]\n",
    "#     sns.scatterplot(x=residuals[i][:, 0], y=residuals[i][:, 1], ax=ax, s=10)\n",
    "#     ax.set_xlabel('X Error')\n",
    "#     ax.set_ylabel('Y Error')\n",
    "#     ax.set_title(f'{tuned_models_names[i]} Error')\n",
    "#     ax.set_xlim(-0.25, 0.25)\n",
    "#     ax.set_ylim(-0.25, 0.25)\n",
    "#     # ax.set_xlim(min_x, max_x)\n",
    "#     # ax.set_ylim(min_y, max_y)\n",
    "\n",
    "# plt.tight_layout()\n",
    "# plt.show()"
   ]
  },
  {
   "cell_type": "code",
   "execution_count": 110,
   "metadata": {},
   "outputs": [
    {
     "data": {
      "image/png": "[encoded data removed]",
      "text/plain": [
       "<Figure size 1800x1000 with 12 Axes>"
      ]
     },
     "metadata": {},
     "output_type": "display_data"
    }
   ],
   "source": [
    "# Assuming tuned_models, tuned_models_names, and residuals are already defined\n",
    "\n",
    "# Create subplots with shared scales\n",
    "fig, axes = plt.subplots(2, 3, figsize=(18, 10), sharex=True, sharey=True)\n",
    "axes = axes.flatten()\n",
    "\n",
    "for i in range(len(tuned_models)):\n",
    "    ax = axes[i]\n",
    "    # Using hist2d for heatmap-like representation\n",
    "    _, _, _, im = ax.hist2d(residuals[i][:, 0], residuals[i][:, 1], bins=120, cmap='viridis')\n",
    "    ax.set_xlabel('X Error')\n",
    "    ax.set_ylabel('Y Error')\n",
    "    ax.set_title(f'{tuned_models_names[i]} Residuals')\n",
    "    ax.set_xlim(-0.15, 0.15)  # Setting x-limits to [-0.25, 0.25]\n",
    "    ax.set_ylim(-0.15, 0.15)  # Setting y-limits to [-0.25, 0.25]\n",
    "    fig.colorbar(im, ax=ax)  # Adding a colorbar to each subplot\n",
    "    # Fill the white background inside plot with lowest viridis color #440154\n",
    "    ax.patch.set_facecolor('#440154')\n",
    "\n",
    "    \n",
    "    # ax.patch.set_facecolor('black')\n",
    "\n",
    "plt.tight_layout()\n",
    "# Save the plot\n",
    "plt.savefig('plots/residuals_heatmap.png')\n",
    "plt.show()"
   ]
  },
  {
   "cell_type": "markdown",
   "metadata": {},
   "source": [
    "### Obtain Lasso coefficients."
   ]
  },
  {
   "cell_type": "code",
   "execution_count": 112,
   "metadata": {},
   "outputs": [
    {
     "name": "stdout",
     "output_type": "stream",
     "text": [
      "[-0.03848529 -0.65535045]\n"
     ]
    },
    {
     "data": {
      "image/png": "[encoded data removed]",
      "text/plain": [
       "<Figure size 1200x600 with 2 Axes>"
      ]
     },
     "metadata": {},
     "output_type": "display_data"
    },
    {
     "name": "stdout",
     "output_type": "stream",
     "text": [
      "Top 5 features for THUMB_CMC_x:\n",
      "THUMB_MCP_x: 0.46110913749009275\n",
      "THUMB_IP_x: -0.20619711744428085\n",
      "INDEX_FINGER_MCP_x: 0.13139933799230932\n",
      "THUMB_TIP_x: 0.046944544101985106\n",
      "PINKY_MCP_x: -0.020344520795839746\n",
      "\n",
      "Top 5 features for THUMB_CMC_y:\n",
      "THUMB_MCP_y: 0.13626065597742104\n",
      "THUMB_IP_y: -0.06824951753465874\n",
      "WRIST_y: 0.03327780408388541\n",
      "MIDDLE_FINGER_PIP_y: 0.02131906622312771\n",
      "RING_FINGER_MCP_y: -0.016602083725659026\n"
     ]
    }
   ],
   "source": [
    "# Load \n",
    "best_lasso_model = None\n",
    "with open(\"output/Lasso/Lasso_random_57837.pkl\", \"rb\") as file:\n",
    "    best_lasso_model = pickle.load(file)\n",
    "\n",
    "# with open(\"output/Lasso_no_thumb/Lasso_no_thumb_random_57837.pkl\", \"rb\") as file:\n",
    "#     best_lasso_model = pickle.load(file).model\n",
    "\n",
    "print(best_lasso_model.named_steps['lasso'].intercept_)\n",
    "plt.rcParams.update({'font.size': 12})\n",
    "\n",
    "# Create subplots\n",
    "fig, axes = plt.subplots(1, 2, figsize=(12, 6), sharey=True)\n",
    "# Plot first bar chart\n",
    "axes[0].bar(flattened_hand_keypoints_no_thumb_CMC, best_lasso_model.named_steps['lasso'].coef_[0])\n",
    "axes[0].set_xticks(range(len(flattened_hand_keypoints_no_thumb_CMC)))\n",
    "axes[0].set_xticklabels(flattened_hand_keypoints_no_thumb_CMC, rotation=90)\n",
    "axes[0].set_xlabel('Feature')\n",
    "axes[0].set_ylabel('Coefficient')\n",
    "axes[0].set_title('Lasso Coefficients for THUMB_CMC_x')\n",
    "\n",
    "# Plot second bar chart\n",
    "axes[1].bar(flattened_hand_keypoints_no_thumb_CMC, best_lasso_model.named_steps['lasso'].coef_[1])\n",
    "axes[1].set_xticks(range(len(flattened_hand_keypoints_no_thumb_CMC)))\n",
    "axes[1].set_xticklabels(flattened_hand_keypoints_no_thumb_CMC, rotation=90)\n",
    "axes[1].set_xlabel('Feature')\n",
    "axes[1].set_title('Lasso Coefficients for THUMB_CMC_y')\n",
    "\n",
    "# Adjust layout\n",
    "plt.tight_layout()\n",
    "plt.show()\n",
    "\n",
    "# Print which feature and its coefficient \n",
    "# Sort by highest absolute value (influence) and print top 5 for x and y\n",
    "# for x\n",
    "sorted_indices_x = np.argsort(np.abs(best_lasso_model.named_steps['lasso'].coef_[0]))[::-1]\n",
    "print(\"Top 5 features for THUMB_CMC_x:\")\n",
    "for i in range(5):\n",
    "    print(f\"{flattened_hand_keypoints_no_thumb_CMC[sorted_indices_x[i]]}: {best_lasso_model.named_steps['lasso'].coef_[0][sorted_indices_x[i]]}\")\n",
    "\n",
    "# for y\n",
    "sorted_indices_y = np.argsort(np.abs(best_lasso_model.named_steps['lasso'].coef_[1]))[::-1]\n",
    "print(\"\\nTop 5 features for THUMB_CMC_y:\")\n",
    "for i in range(5):\n",
    "    print(f\"{flattened_hand_keypoints_no_thumb_CMC[sorted_indices_y[i]]}: {best_lasso_model.named_steps['lasso'].coef_[1][sorted_indices_y[i]]}\")\n"
   ]
  },
  {
   "cell_type": "code",
   "execution_count": 114,
   "metadata": {},
   "outputs": [
    {
     "name": "stdout",
     "output_type": "stream",
     "text": [
      "[-0.03848529 -0.65535045]\n"
     ]
    },
    {
     "data": {
      "image/png": "[encoded data removed]",
      "text/plain": [
       "<Figure size 1200x600 with 2 Axes>"
      ]
     },
     "metadata": {},
     "output_type": "display_data"
    },
    {
     "name": "stdout",
     "output_type": "stream",
     "text": [
      "Top 5 features for THUMB_CMC_x:\n",
      "INDEX_FINGER_MCP_x: 0.4147431823743589\n",
      "WRIST_x: -0.09282297953464372\n",
      "RING_FINGER_MCP_x: 0.08794016734650298\n",
      "PINKY_MCP_x: -0.08097308294698335\n",
      "INDEX_FINGER_PIP_x: 0.07623705717739006\n",
      "\n",
      "Top 5 features for THUMB_CMC_y:\n",
      "MIDDLE_FINGER_MCP_y: -0.18096819135739686\n",
      "INDEX_FINGER_MCP_y: 0.16539065419494015\n",
      "WRIST_y: 0.06210601564435381\n",
      "PINKY_MCP_y: 0.028075596670768883\n",
      "INDEX_FINGER_DIP_y: -0.02762492556915449\n"
     ]
    }
   ],
   "source": [
    "# Lets do thumbless lasso \n",
    "# Load \n",
    "best_lasso_model = None\n",
    "\n",
    "with open(\"output/Lasso_no_thumb/Lasso_no_thumb_random_57837.pkl\", \"rb\") as file:\n",
    "    best_lasso_model = pickle.load(file).model\n",
    "\n",
    "print(best_lasso_model.named_steps['lasso'].intercept_)\n",
    "plt.rcParams.update({'font.size': 12})\n",
    "\n",
    "lasso_feature_names = [i for i in flattened_hand_keypoints_no_thumb_CMC if i not in [\"THUMB_MCP_x\", \"THUMB_MCP_y\", \"THUMB_IP_x\", \"THUMB_IP_y\", \"THUMB_TIP_x\", \"THUMB_TIP_y\"]] \n",
    "\n",
    "# Create subplots\n",
    "fig, axes = plt.subplots(1, 2, figsize=(12, 6), sharey=True)\n",
    "# Plot first bar chart\n",
    "axes[0].bar(lasso_feature_names, best_lasso_model.named_steps['lasso'].coef_[0])\n",
    "axes[0].set_xticks(range(len(lasso_feature_names)))\n",
    "axes[0].set_xticklabels(lasso_feature_names, rotation=90)\n",
    "axes[0].set_xlabel('Feature')\n",
    "axes[0].set_ylabel('Coefficient')\n",
    "axes[0].set_title('Thumbless Lasso Coefficients for THUMB_CMC_x')\n",
    "\n",
    "# Plot second bar chart\n",
    "axes[1].bar(lasso_feature_names, best_lasso_model.named_steps['lasso'].coef_[1])\n",
    "axes[1].set_xticks(range(len(lasso_feature_names)))\n",
    "axes[1].set_xticklabels(lasso_feature_names, rotation=90)\n",
    "axes[1].set_xlabel('Feature')\n",
    "axes[1].set_title('Thumbless Lasso Coefficients for THUMB_CMC_y')\n",
    "\n",
    "# Adjust layout\n",
    "plt.tight_layout()\n",
    "plt.show()\n",
    "\n",
    "# Print which feature and its coefficient \n",
    "# Sort by highest absolute value (influence) and print top 5 for x and y\n",
    "# for x\n",
    "sorted_indices_x = np.argsort(np.abs(best_lasso_model.named_steps['lasso'].coef_[0]))[::-1]\n",
    "print(\"Top 5 features for THUMB_CMC_x:\")\n",
    "for i in range(5):\n",
    "    print(f\"{lasso_feature_names[sorted_indices_x[i]]}: {best_lasso_model.named_steps['lasso'].coef_[0][sorted_indices_x[i]]}\")\n",
    "\n",
    "# for y\n",
    "sorted_indices_y = np.argsort(np.abs(best_lasso_model.named_steps['lasso'].coef_[1]))[::-1]\n",
    "print(\"\\nTop 5 features for THUMB_CMC_y:\")\n",
    "for i in range(5):\n",
    "    print(f\"{lasso_feature_names[sorted_indices_y[i]]}: {best_lasso_model.named_steps['lasso'].coef_[1][sorted_indices_y[i]]}\")\n"
   ]
  },
  {
   "cell_type": "markdown",
   "metadata": {},
   "source": [
    "# Hypothenar Keypoint Prediction\n",
    "### Tuning, and prediction"
   ]
  },
  {
   "cell_type": "code",
   "execution_count": 117,
   "metadata": {},
   "outputs": [
    {
     "name": "stdout",
     "output_type": "stream",
     "text": [
      "741 186\n",
      "Best Parameters: OrderedDict({'max_depth': 50, 'max_features': 0.35264848147031214, 'min_samples_leaf': 1, 'min_samples_split': 3, 'n_estimators': 626})\n",
      "Best Validation Score: -0.004285815158578833\n",
      "Test Set Score: 0.827602650384914\n",
      "Optimization results saved to 'rf_bayes_opt_hypothenar.pkl'.\n"
     ]
    }
   ],
   "source": [
    "X_hypothenar = true_hypoth_normalized_df[flattened_keypoint_names]\n",
    "y_hypothenar = true_hypoth_normalized_df[[\"HYPOTHENAR_x\", \"HYPOTHENAR_y\"]]\n",
    "\n",
    "X_train_hypo, X_test_hypo, y_train_hypo, y_test_hypo = train_test_split(\n",
    "    X_hypothenar, y_hypothenar, test_size=0.2, random_state=seed\n",
    ")\n",
    "# print(len(X_train_hypo), len(X_test_hypo))\n",
    "# Hyperparameter tune models\n",
    "# Initialize Random Forest Regressor\n",
    "rf_model_hypothernar = RandomForestRegressor(random_state=seed, n_jobs=njobs)\n",
    "kf_hypo = KFold(n_splits=10, shuffle=True, random_state=seed)\n",
    "\n",
    "\n",
    "# # Define the hyperparameter search space\n",
    "rf_param_space_hypothernar = {\n",
    "    \"n_estimators\": Integer(50, 750),  # Number of trees\n",
    "    \"max_depth\": Integer(5, 50),  # Depth of each tree\n",
    "    \"min_samples_split\": Integer(2, 10),  # Minimum samples to split a node\n",
    "    \"min_samples_leaf\": Integer(1, 10),  # Minimum samples at a leaf node\n",
    "    \"max_features\": Real(0.1, 1.0, prior=\"uniform\"),  # Features to consider\n",
    "}\n",
    "\n",
    "rf_opt_hypothenar = BayesSearchCV(\n",
    "    estimator=rf_model_hypothernar,\n",
    "    search_spaces=rf_param_space_hypothernar,\n",
    "    n_iter=50,  # Number of iterations for optimization\n",
    "    cv=kf_hypo,  # K-Fold Cross Validation\n",
    "    scoring=tuning_score,  # Metric to optimize\n",
    "    random_state=seed,\n",
    "    n_jobs=njobs,  # Use all available cores\n",
    ")\n",
    "\n",
    "if os.path.isfile(\"output_new/rf_bayes_opt_hypothenar.pkl\"):\n",
    "    # load\n",
    "    with open(\"output_new/rf_bayes_opt_hypothenar.pkl\", \"rb\") as f:\n",
    "        rf_opt_hypothenar = pickle.load(f)\n",
    "else:\n",
    "    rf_opt_hypothenar.fit(X_train_hypo, y_train_hypo)\n",
    "\n",
    "print(\"Best Parameters:\", rf_opt_hypothenar.best_params_)\n",
    "print(\"Best Validation Score:\", rf_opt_hypothenar.best_score_)\n",
    "# Evaluate on the test set\n",
    "test_score = rf_opt_hypothenar.best_estimator_.score(X_test_hypo, y_test_hypo)\n",
    "print(\"Test Set Score:\", test_score)\n",
    "\n",
    "# Save\n",
    "if not os.path.isfile(\"output_new/rf_bayes_opt_hypothenar.pkl\"):\n",
    "    # Save the BayesSearchCV object using pickle\n",
    "    with open(\"output_new/rf_bayes_opt_hypothenar.pkl\", \"wb\") as file:\n",
    "        pickle.dump(rf_opt_hypothenar, file)\n",
    "        print(\"Optimization results saved to 'rf_bayes_opt_hypothenar.pkl'.\")\n",
    "\n",
    "# Initialize XGBRegressor\n",
    "xgb_model_hypothenar = XGBRegressor(random_state=seed, n_jobs=njobs)\n",
    "\n",
    "# Define the hyperparameter search space\n",
    "\n",
    "xgb_param_space_hypothenar = {\n",
    "    \"n_estimators\": Integer(50, 750),  # Number of boosting rounds\n",
    "    \"max_depth\": Integer(3, 20),  # Maximum depth of trees\n",
    "    \"learning_rate\": Real(0.01, 0.3, prior=\"log-uniform\"),  # Learning rate\n",
    "    \"min_child_weight\": Integer(1, 10),  # Minimum sum of instance weight\n",
    "    \"subsample\": Real(0.5, 1.0, prior=\"uniform\"),  # Subsample ratio\n",
    "    \"colsample_bytree\": Real(0.5, 1.0, prior=\"uniform\"),  # Subsample ratio for columns\n",
    "    \"gamma\": Real(0.0, 5.0, prior=\"uniform\"),  # Minimum loss reduction\n",
    "}"
   ]
  },
  {
   "cell_type": "code",
   "execution_count": 118,
   "metadata": {},
   "outputs": [
    {
     "name": "stdout",
     "output_type": "stream",
     "text": [
      "Best Parameters: OrderedDict({'colsample_bytree': 0.6705578762021929, 'gamma': 0.005043604327714114, 'learning_rate': 0.012639616888410508, 'max_depth': 10, 'min_child_weight': 3, 'n_estimators': 392, 'subsample': 0.5307671216416913})\n",
      "Best Validation Score: -0.0038734549032080983\n",
      "Test Set R2Score: 0.8387322425842285\n",
      "Optimization results saved to 'xgb_bayes_opt_hypothenar.pkl'.\n"
     ]
    }
   ],
   "source": [
    "# Initialize BayesSearchCV\n",
    "xgb_opt_hypothenar = BayesSearchCV(\n",
    "    estimator=xgb_model_hypothenar,\n",
    "    search_spaces=xgb_param_space_hypothenar,\n",
    "    n_iter=50,  # Number of iterations for optimization\n",
    "    cv=kf_hypo,  # Cross-validation strategy\n",
    "    scoring=tuning_score,  # Optimization metric\n",
    "    random_state=seed,\n",
    "    n_jobs=njobs,\n",
    ")\n",
    "\n",
    "if os.path.isfile(\"output_new/xgb_bayes_opt_hypothenar.pkl\"):\n",
    "    # load\n",
    "    with open(\"output_new/xgb_bayes_opt_hypothenar.pkl\", \"rb\") as f:\n",
    "        xgb_opt_hypothenar = pickle.load(f)\n",
    "else:\n",
    "    xgb_opt_hypothenar.fit(X_train_hypo, y_train_hypo)\n",
    "\n",
    "# Print best parameters and scores\n",
    "print(\"Best Parameters:\", xgb_opt_hypothenar.best_params_)\n",
    "print(\"Best Validation Score:\", xgb_opt_hypothenar.best_score_)\n",
    "# Evaluate on the test set\n",
    "test_score = r2_score(\n",
    "    y_test_hypo, xgb_opt_hypothenar.best_estimator_.predict(X_test_hypo)\n",
    ")\n",
    "print(\"Test Set R2Score:\", test_score)\n",
    "\n",
    "# Save\n",
    "if not os.path.isfile(\"output_new/xgb_bayes_opt_hypothenar.pkl\"):\n",
    "    # Save the BayesSearchCV object using pickle\n",
    "    with open(\"output_new/xgb_bayes_opt_hypothenar.pkl\", \"wb\") as file:\n",
    "        pickle.dump(xgb_opt_hypothenar, file)\n",
    "        print(\"Optimization results saved to 'xgb_bayes_opt_hypothenar.pkl'.\")\n",
    "\n",
    "# Initialize k-NN Regressor\n",
    "knn_model_hypothenar = KNeighborsRegressor(n_jobs=njobs)\n",
    "\n",
    "# # Define the hyperparameter search space\n",
    "\n",
    "knn_param_space_hypothenar = {\n",
    "    \"n_neighbors\": Integer(2, 75),  # Number of neighbors\n",
    "    \"weights\": [\"uniform\", \"distance\"],  # Weight function\n",
    "    \"metric\": [\"euclidean\", \"manhattan\", \"minkowski\"],  # Distance metric\n",
    "    \"p\": Integer(1, 3),  # Power parameter for Minkowski (if metric='minkowski')\n",
    "}\n",
    "\n",
    "# Initialize BayesSearchCV\n",
    "knn_opt_hypothenar = BayesSearchCV(\n",
    "    estimator=knn_model_hypothenar,\n",
    "    search_spaces=knn_param_space_hypothenar,\n",
    "    n_iter=50,  # Number of iterations for optimization\n",
    "    cv=kf_hypo,  # Cross-validation strategy\n",
    "    scoring=tuning_score,  # Optimization metric\n",
    "    random_state=seed,\n",
    "    n_jobs=njobs,\n",
    ")"
   ]
  },
  {
   "cell_type": "code",
   "execution_count": 119,
   "metadata": {},
   "outputs": [
    {
     "name": "stderr",
     "output_type": "stream",
     "text": [
      "c:\\Users\\Marek Tran\\Documents\\School\\CSE3000\\point_prediction\\.venv\\Lib\\site-packages\\skopt\\optimizer\\optimizer.py:517: UserWarning:\n",
      "\n",
      "The objective has been evaluated at point ['manhattan', 8, 2, 'distance'] before, using random point ['minkowski', 16, 2, 'distance']\n",
      "\n"
     ]
    },
    {
     "name": "stdout",
     "output_type": "stream",
     "text": [
      "Best Parameters: OrderedDict({'metric': 'manhattan', 'n_neighbors': 8, 'p': 3, 'weights': 'distance'})\n",
      "Best Validation Score: -0.0047037647214907205\n",
      "Test Set R2Score: 0.8179252622074311\n",
      "Optimization results saved to 'knn_bayes_opt_hypothenar.pkl'.\n",
      "Best Parameters: OrderedDict({'lasso__alpha': 0.0001})\n",
      "Best Validation Score: -0.004067394259367157\n",
      "Test Set R2Score: 0.8343371169459229\n",
      "Optimization results saved to 'lasso_bayes_opt_hypothenar.pkl'.\n"
     ]
    }
   ],
   "source": [
    "if os.path.isfile(\"output_new/knn_bayes_opt_hypothenar.pkl\"):\n",
    "    # load\n",
    "    with open(\"output_new/knn_bayes_opt_hypothenar.pkl\", \"rb\") as f:\n",
    "        knn_opt_hypothenar = pickle.load(f)\n",
    "else:\n",
    "    knn_opt_hypothenar.fit(X_train_hypo, y_train_hypo)\n",
    "\n",
    "# Print best parameters and scores\n",
    "print(\"Best Parameters:\", knn_opt_hypothenar.best_params_)\n",
    "print(\"Best Validation Score:\", knn_opt_hypothenar.best_score_)\n",
    "# Evaluate on the test set\n",
    "test_score = r2_score(\n",
    "    y_test_hypo, knn_opt_hypothenar.best_estimator_.predict(X_test_hypo)\n",
    ")\n",
    "print(\"Test Set R2Score:\", test_score)\n",
    "\n",
    "# Save\n",
    "if not os.path.isfile(\"output_new/knn_bayes_opt_hypothenar.pkl\"):\n",
    "    # Save the BayesSearchCV object using pickle\n",
    "    with open(\"output_new/knn_bayes_opt_hypothenar.pkl\", \"wb\") as file:\n",
    "        pickle.dump(knn_opt_hypothenar, file)\n",
    "        print(\"Optimization results saved to 'knn_bayes_opt_hypothenar.pkl'.\")\n",
    "\n",
    "\n",
    "# Initialize Lasso\n",
    "lasso_model_hypothenar = Lasso(max_iter=10000, random_state=seed)\n",
    "\n",
    "# Define pipeline for scaling (Lasso requires feature scaling)\n",
    "pipeline_hypothenar = Pipeline(\n",
    "    [\n",
    "        (\"scaler\", StandardScaler()),  # Standardize features\n",
    "        (\"lasso\", lasso_model_hypothenar),  # Lasso regression\n",
    "    ]\n",
    ")\n",
    "\n",
    "# Define hyperparameter search space\n",
    "param_space_hypothenar = {\n",
    "    \"lasso__alpha\": Real(1e-4, 1.0, prior=\"log-uniform\")  # Regularization strength\n",
    "}\n",
    "\n",
    "lasso_opt_hypothenar = BayesSearchCV(\n",
    "    estimator=pipeline_hypothenar,\n",
    "    search_spaces=param_space_hypothenar,\n",
    "    n_iter=50,\n",
    "    cv=kf_hypo,\n",
    "    scoring=tuning_score,\n",
    "    random_state=42,\n",
    "    n_jobs=njobs,\n",
    ")\n",
    "\n",
    "if os.path.isfile(\"output_new/lasso_bayes_opt_hypothenar.pkl\"):\n",
    "    # load\n",
    "    with open(\"output_new/lasso_bayes_opt_hypothenar.pkl\", \"rb\") as f:\n",
    "        lasso_opt_hypothenar = pickle.load(f)\n",
    "else:\n",
    "    lasso_opt_hypothenar.fit(X_train_hypo, y_train_hypo)\n",
    "\n",
    "print(\"Best Parameters:\", lasso_opt_hypothenar.best_params_)\n",
    "print(\"Best Validation Score:\", lasso_opt_hypothenar.best_score_)\n",
    "# Evaluate on the test set\n",
    "test_score = r2_score(\n",
    "    y_test_hypo, lasso_opt_hypothenar.best_estimator_.predict(X_test_hypo)\n",
    ")\n",
    "print(\"Test Set R2Score:\", test_score)\n",
    "\n",
    "# Save\n",
    "if not os.path.isfile(\"output_new/lasso_bayes_opt_hypothenar.pkl\"):\n",
    "    # Save the BayesSearchCV object using pickle\n",
    "    with open(\"output_new/lasso_bayes_opt_hypothenar.pkl\", \"wb\") as file:\n",
    "        pickle.dump(lasso_opt_hypothenar, file)\n",
    "        print(\"Optimization results saved to 'lasso_bayes_opt_hypothenar.pkl'.\")"
   ]
  },
  {
   "cell_type": "code",
   "execution_count": 120,
   "metadata": {},
   "outputs": [
    {
     "name": "stdout",
     "output_type": "stream",
     "text": [
      "Top 5 Results:\n",
      "1. WRIST_PINKY_MCP: 0.11169363689207015\n",
      "2. THUMB_CMC_PINKY_MCP: 0.11227187615727187\n",
      "3. WRIST_RING_FINGER_MCP: 0.1216029333904788\n",
      "4. MIDDLE_FINGER_TIP_RING_FINGER_MCP: 0.12344120155923145\n",
      "5. WRIST_PINKY_PIP: 0.12767564241528395\n",
      "6. THUMB_CMC_RING_FINGER_MCP: 0.1300263784591325\n",
      "7. THUMB_CMC_PINKY_PIP: 0.1375192394910847\n",
      "8. WRIST_PINKY_DIP: 0.13779802570951816\n",
      "9. MIDDLE_FINGER_DIP_RING_FINGER_MCP: 0.142029019253363\n",
      "10. INDEX_FINGER_DIP_MIDDLE_FINGER_MCP: 0.14236507116403352\n",
      "11. WRIST_PINKY_TIP: 0.1439386704378594\n",
      "12. THUMB_CMC_MIDDLE_FINGER_MCP: 0.14444858924027465\n",
      "13. INDEX_FINGER_TIP_MIDDLE_FINGER_MCP: 0.14558401650127872\n",
      "14. INDEX_FINGER_TIP_RING_FINGER_MCP: 0.14831397442883026\n",
      "15. WRIST_RING_FINGER_PIP: 0.15255402011948607\n",
      "16. THUMB_CMC_PINKY_DIP: 0.15402029342680867\n",
      "17. MIDDLE_FINGER_PIP_RING_FINGER_MCP: 0.1650521413668993\n",
      "18. THUMB_CMC_PINKY_TIP: 0.16550213457321258\n",
      "19. THUMB_CMC_RING_FINGER_PIP: 0.16575761952593263\n",
      "20. INDEX_FINGER_PIP_MIDDLE_FINGER_MCP: 0.1661859667578277\n",
      "21. INDEX_FINGER_DIP_RING_FINGER_MCP: 0.1662042924381943\n",
      "22. WRIST_RING_FINGER_DIP: 0.1679945519996694\n",
      "23. INDEX_FINGER_TIP_PINKY_MCP: 0.16867413702221784\n",
      "24. INDEX_FINGER_DIP_PINKY_MCP: 0.17160696327635439\n",
      "25. MIDDLE_FINGER_PIP_PINKY_MCP: 0.17255017286701727\n",
      "26. MIDDLE_FINGER_DIP_PINKY_MCP: 0.18016231380994197\n",
      "27. WRIST_RING_FINGER_TIP: 0.18131541123265923\n",
      "28. INDEX_FINGER_PIP_PINKY_MCP: 0.18224851278229703\n",
      "29. THUMB_CMC_RING_FINGER_DIP: 0.18542832856259073\n",
      "30. MIDDLE_FINGER_TIP_PINKY_MCP: 0.19382365922064518\n",
      "31. MIDDLE_FINGER_MCP_PINKY_MCP: 0.1988890856496315\n",
      "32. MIDDLE_FINGER_TIP_RING_FINGER_PIP: 0.19990479509899647\n",
      "33. INDEX_FINGER_PIP_RING_FINGER_MCP: 0.20106860641885468\n",
      "34. THUMB_CMC_RING_FINGER_TIP: 0.20364619916107057\n",
      "35. RING_FINGER_MCP_PINKY_MCP: 0.20498207325550472\n",
      "36. INDEX_FINGER_TIP_MIDDLE_FINGER_PIP: 0.20553757973676404\n",
      "37. THUMB_CMC_MIDDLE_FINGER_PIP: 0.21166900290006427\n",
      "38. MIDDLE_FINGER_DIP_RING_FINGER_PIP: 0.21807968747289516\n",
      "39. INDEX_FINGER_TIP_RING_FINGER_PIP: 0.2332914800034454\n",
      "40. MIDDLE_FINGER_DIP_PINKY_PIP: 0.23956398851740782\n",
      "41. INDEX_FINGER_TIP_PINKY_PIP: 0.24081740099899743\n",
      "42. MIDDLE_FINGER_TIP_PINKY_PIP: 0.2461764935519705\n",
      "43. THUMB_CMC_MIDDLE_FINGER_DIP: 0.24653148779968145\n",
      "44. INDEX_FINGER_MCP_PINKY_MCP: 0.2558427882788232\n",
      "45. THUMB_CMC_INDEX_FINGER_MCP: 0.2591617717315477\n",
      "46. MIDDLE_FINGER_TIP_RING_FINGER_DIP: 0.263373513836423\n",
      "47. RING_FINGER_PIP_PINKY_MCP: 0.2637693708727024\n",
      "48. INDEX_FINGER_DIP_PINKY_PIP: 0.26613850250543714\n",
      "49. THUMB_CMC_MIDDLE_FINGER_TIP: 0.2722425751850638\n",
      "50. MIDDLE_FINGER_PIP_PINKY_PIP: 0.27224810855209397\n",
      "51. MIDDLE_FINGER_TIP_PINKY_DIP: 0.29062523875848767\n",
      "52. RING_FINGER_DIP_PINKY_MCP: 0.2942977690561299\n",
      "53. INDEX_FINGER_DIP_MIDDLE_FINGER_PIP: 0.2953574736460382\n",
      "54. RING_FINGER_TIP_PINKY_MCP: 0.2967092161279263\n",
      "55. INDEX_FINGER_DIP_RING_FINGER_PIP: 0.3044649505744065\n",
      "56. WRIST_MIDDLE_FINGER_TIP: 0.3105075102225557\n",
      "57. MIDDLE_FINGER_MCP_RING_FINGER_MCP: 0.311564092910768\n",
      "58. MIDDLE_FINGER_DIP_PINKY_DIP: 0.3168393360951824\n",
      "59. INDEX_FINGER_TIP_PINKY_DIP: 0.3179367085643671\n",
      "60. WRIST_MIDDLE_FINGER_DIP: 0.3199210017420073\n",
      "61. WRIST_MIDDLE_FINGER_PIP: 0.32894081978926454\n",
      "62. RING_FINGER_PIP_PINKY_PIP: 0.34537699439804964\n",
      "63. INDEX_FINGER_PIP_PINKY_PIP: 0.34873429038163467\n",
      "64. MIDDLE_FINGER_TIP_PINKY_TIP: 0.35728228627017333\n",
      "65. THUMB_TIP_PINKY_MCP: 0.36611123645907045\n",
      "66. RING_FINGER_DIP_PINKY_PIP: 0.3672796225275565\n",
      "67. WRIST_MIDDLE_FINGER_MCP: 0.37553036152036406\n",
      "68. MIDDLE_FINGER_PIP_RING_FINGER_PIP: 0.38764311648556926\n",
      "69. INDEX_FINGER_TIP_RING_FINGER_DIP: 0.3939772277362953\n",
      "70. INDEX_FINGER_DIP_PINKY_DIP: 0.402341760984811\n",
      "71. RING_FINGER_TIP_PINKY_PIP: 0.40380062488306595\n",
      "72. MIDDLE_FINGER_DIP_RING_FINGER_DIP: 0.4239657548325959\n",
      "73. RING_FINGER_DIP_PINKY_DIP: 0.42917488793231834\n",
      "74. RING_FINGER_TIP_PINKY_DIP: 0.44042637820176794\n",
      "75. THUMB_MCP_PINKY_MCP: 0.44047884522014863\n",
      "76. INDEX_FINGER_TIP_PINKY_TIP: 0.4465536497545504\n",
      "77. MIDDLE_FINGER_TIP_RING_FINGER_TIP: 0.4517344036300242\n",
      "78. THUMB_MCP_RING_FINGER_MCP: 0.483469373589869\n",
      "79. THUMB_IP_PINKY_MCP: 0.4854392850226873\n",
      "80. INDEX_FINGER_MCP_RING_FINGER_MCP: 0.48775840344951765\n",
      "81. MIDDLE_FINGER_DIP_PINKY_TIP: 0.49370834763942606\n",
      "82. THUMB_MCP_PINKY_PIP: 0.49414301084230894\n",
      "83. THUMB_MCP_MIDDLE_FINGER_MCP: 0.4944237786307779\n",
      "84. INDEX_FINGER_TIP_MIDDLE_FINGER_DIP: 0.499681084834152\n",
      "85. RING_FINGER_TIP_PINKY_TIP: 0.501763373106076\n",
      "86. THUMB_MCP_PINKY_DIP: 0.5045613853204705\n",
      "87. THUMB_MCP_INDEX_FINGER_MCP: 0.5061184940267804\n",
      "88. THUMB_MCP_RING_FINGER_PIP: 0.507681478292746\n",
      "89. THUMB_MCP_PINKY_TIP: 0.5105635132535509\n",
      "90. MIDDLE_FINGER_PIP_PINKY_DIP: 0.5141684135669672\n",
      "91. WRIST_INDEX_FINGER_TIP: 0.5167831383524908\n",
      "92. THUMB_MCP_RING_FINGER_DIP: 0.5173569921237869\n",
      "93. WRIST_INDEX_FINGER_DIP: 0.5218152367560595\n",
      "94. THUMB_MCP_MIDDLE_FINGER_PIP: 0.5220307890156506\n",
      "95. WRIST_INDEX_FINGER_PIP: 0.5232368500446882\n",
      "96. WRIST_INDEX_FINGER_MCP: 0.5246122587183701\n",
      "97. THUMB_MCP_RING_FINGER_TIP: 0.5263188919358714\n",
      "98. WRIST_THUMB_IP: 0.5299117083755002\n",
      "99. WRIST_THUMB_MCP: 0.5304459315573854\n",
      "100. WRIST_THUMB_TIP: 0.5317572871845675\n",
      "101. THUMB_CMC_INDEX_FINGER_PIP: 0.5326343405568639\n",
      "102. WRIST_THUMB_CMC: 0.5358399169898242\n",
      "103. THUMB_MCP_MIDDLE_FINGER_DIP: 0.5391779036735478\n",
      "104. THUMB_MCP_MIDDLE_FINGER_TIP: 0.5543800045550354\n",
      "105. THUMB_MCP_INDEX_FINGER_PIP: 0.5659352910366919\n",
      "106. THUMB_TIP_RING_FINGER_MCP: 0.5701234184148549\n",
      "107. THUMB_MCP_INDEX_FINGER_DIP: 0.6297046321574576\n",
      "108. THUMB_CMC_INDEX_FINGER_DIP: 0.6388042021551802\n",
      "109. THUMB_CMC_INDEX_FINGER_TIP: 0.6625561007106535\n",
      "110. THUMB_MCP_INDEX_FINGER_TIP: 0.6791779105747745\n",
      "111. RING_FINGER_DIP_PINKY_TIP: 0.6916980865608748\n",
      "112. THUMB_TIP_INDEX_FINGER_MCP: 0.6970228573131378\n",
      "113. THUMB_TIP_MIDDLE_FINGER_MCP: 0.7125083799322799\n",
      "114. INDEX_FINGER_PIP_PINKY_DIP: 0.7205196426009594\n",
      "115. INDEX_FINGER_DIP_PINKY_TIP: 0.7256066122732457\n",
      "116. THUMB_IP_RING_FINGER_MCP: 0.7457753513356112\n",
      "117. INDEX_FINGER_PIP_RING_FINGER_PIP: 0.7609064844864623\n",
      "118. RING_FINGER_PIP_PINKY_DIP: 0.761428693964666\n",
      "119. THUMB_TIP_PINKY_PIP: 0.8440971454815944\n",
      "120. INDEX_FINGER_MCP_MIDDLE_FINGER_MCP: 0.8629475372795348\n",
      "121. THUMB_IP_PINKY_PIP: 0.8976815096616734\n",
      "122. THUMB_IP_MIDDLE_FINGER_MCP: 0.9286900080881225\n",
      "123. INDEX_FINGER_DIP_RING_FINGER_DIP: 0.977302692490584\n",
      "124. INDEX_FINGER_MCP_PINKY_PIP: 0.9900916281121731\n",
      "125. THUMB_IP_INDEX_FINGER_MCP: 1.0032409274187257\n",
      "126. THUMB_IP_PINKY_DIP: 1.0118757133637546\n",
      "127. MIDDLE_FINGER_MCP_PINKY_PIP: 1.0342160349007061\n",
      "128. PINKY_MCP_PINKY_TIP: 1.0422033202623884\n",
      "129. PINKY_MCP_PINKY_DIP: 1.0428961317335252\n",
      "130. PINKY_MCP_PINKY_PIP: 1.0457756062604995\n",
      "131. THUMB_IP_RING_FINGER_PIP: 1.0534599686237258\n",
      "132. THUMB_IP_PINKY_TIP: 1.0534962205825502\n",
      "133. THUMB_IP_RING_FINGER_DIP: 1.0739068415342958\n",
      "134. THUMB_IP_MIDDLE_FINGER_PIP: 1.0774941620249225\n",
      "135. THUMB_IP_RING_FINGER_TIP: 1.0801770524415095\n",
      "136. THUMB_IP_MIDDLE_FINGER_DIP: 1.0858853507835144\n",
      "137. THUMB_IP_INDEX_FINGER_PIP: 1.0933237217919556\n",
      "138. THUMB_IP_MIDDLE_FINGER_TIP: 1.0941931500312378\n",
      "139. THUMB_IP_INDEX_FINGER_DIP: 1.1214611091351567\n",
      "140. THUMB_IP_INDEX_FINGER_TIP: 1.1463620602740032\n",
      "141. THUMB_TIP_PINKY_DIP: 1.1617195734304053\n",
      "142. INDEX_FINGER_TIP_RING_FINGER_TIP: 1.2020705019650677\n",
      "143. RING_FINGER_MCP_PINKY_TIP: 1.2130916076036764\n",
      "144. RING_FINGER_MCP_PINKY_PIP: 1.2136756638631725\n",
      "145. RING_FINGER_MCP_RING_FINGER_TIP: 1.21653675269685\n",
      "146. RING_FINGER_MCP_RING_FINGER_DIP: 1.2191622864742708\n",
      "147. RING_FINGER_MCP_PINKY_DIP: 1.2193275084684003\n",
      "148. RING_FINGER_MCP_RING_FINGER_PIP: 1.2237347388321274\n",
      "149. THUMB_TIP_RING_FINGER_PIP: 1.3065198414428818\n",
      "150. INDEX_FINGER_MCP_PINKY_DIP: 1.3092174772408407\n",
      "151. MIDDLE_FINGER_PIP_PINKY_TIP: 1.3147213446758372\n",
      "152. THUMB_TIP_PINKY_TIP: 1.3494935994673432\n",
      "153. MIDDLE_FINGER_MCP_PINKY_DIP: 1.3514700762612901\n",
      "154. MIDDLE_FINGER_MCP_PINKY_TIP: 1.371526434448895\n",
      "155. INDEX_FINGER_MCP_PINKY_TIP: 1.371725827577845\n",
      "156. MIDDLE_FINGER_MCP_RING_FINGER_TIP: 1.3789981352563505\n",
      "157. MIDDLE_FINGER_MCP_RING_FINGER_DIP: 1.3792294002997811\n",
      "158. MIDDLE_FINGER_MCP_RING_FINGER_PIP: 1.3797437986018086\n",
      "159. INDEX_FINGER_MCP_RING_FINGER_PIP: 1.382007380299529\n",
      "160. INDEX_FINGER_MCP_RING_FINGER_DIP: 1.3891902881618903\n",
      "161. INDEX_FINGER_MCP_RING_FINGER_TIP: 1.3908523047435852\n",
      "162. INDEX_FINGER_MCP_MIDDLE_FINGER_PIP: 1.4030350395870526\n",
      "163. INDEX_FINGER_MCP_MIDDLE_FINGER_DIP: 1.405210986450699\n",
      "164. THUMB_CMC_THUMB_MCP: 1.409926626384442\n",
      "165. INDEX_FINGER_MCP_MIDDLE_FINGER_TIP: 1.4101845712665073\n",
      "166. MIDDLE_FINGER_MCP_MIDDLE_FINGER_TIP: 1.414005140960422\n",
      "167. THUMB_CMC_THUMB_IP: 1.4172352723565116\n",
      "168. MIDDLE_FINGER_MCP_MIDDLE_FINGER_DIP: 1.4207919167001155\n",
      "169. THUMB_CMC_THUMB_TIP: 1.424803731604071\n",
      "170. INDEX_FINGER_PIP_PINKY_TIP: 1.427643816328083\n",
      "171. MIDDLE_FINGER_MCP_MIDDLE_FINGER_PIP: 1.4324273757436945\n",
      "172. THUMB_TIP_MIDDLE_FINGER_PIP: 1.4417953001668165\n",
      "173. THUMB_TIP_RING_FINGER_DIP: 1.4447591430972593\n",
      "174. THUMB_TIP_RING_FINGER_TIP: 1.4718946252319605\n",
      "175. THUMB_TIP_INDEX_FINGER_PIP: 1.4739702038545226\n",
      "176. THUMB_TIP_MIDDLE_FINGER_DIP: 1.4768040208036268\n",
      "177. THUMB_TIP_MIDDLE_FINGER_TIP: 1.483616691276384\n",
      "178. THUMB_TIP_INDEX_FINGER_DIP: 1.4971550607539974\n",
      "179. THUMB_TIP_INDEX_FINGER_TIP: 1.5113047772214128\n",
      "180. INDEX_FINGER_MCP_INDEX_FINGER_TIP: 1.6182852587966419\n",
      "181. PINKY_PIP_PINKY_TIP: 1.6374107333516625\n",
      "182. PINKY_PIP_PINKY_DIP: 1.6376293602762968\n",
      "183. INDEX_FINGER_MCP_INDEX_FINGER_DIP: 1.643569518305697\n",
      "184. INDEX_FINGER_MCP_INDEX_FINGER_PIP: 1.6752849656198077\n",
      "185. INDEX_FINGER_PIP_MIDDLE_FINGER_PIP: 1.7060011700734534\n",
      "186. RING_FINGER_PIP_PINKY_TIP: 1.8538808161103988\n",
      "187. RING_FINGER_PIP_RING_FINGER_TIP: 1.9448040366333064\n",
      "188. RING_FINGER_PIP_RING_FINGER_DIP: 1.946591722583578\n",
      "189. INDEX_FINGER_PIP_RING_FINGER_DIP: 1.9664614151891442\n",
      "190. PINKY_DIP_PINKY_TIP: 2.0209594034903353\n",
      "191. THUMB_MCP_THUMB_IP: 2.0505355309452264\n",
      "192. THUMB_MCP_THUMB_TIP: 2.06852188641306\n",
      "193. INDEX_FINGER_PIP_RING_FINGER_TIP: 2.090899560117459\n",
      "194. INDEX_FINGER_PIP_MIDDLE_FINGER_DIP: 2.1002652570908587\n",
      "195. MIDDLE_FINGER_PIP_RING_FINGER_DIP: 2.104221064527214\n",
      "196. INDEX_FINGER_PIP_MIDDLE_FINGER_TIP: 2.1071087339652608\n",
      "197. MIDDLE_FINGER_PIP_RING_FINGER_TIP: 2.146238879279925\n",
      "198. MIDDLE_FINGER_PIP_MIDDLE_FINGER_TIP: 2.176291123024191\n",
      "199. MIDDLE_FINGER_PIP_MIDDLE_FINGER_DIP: 2.1771742438514172\n",
      "200. INDEX_FINGER_PIP_INDEX_FINGER_TIP: 2.2686225399882254\n",
      "201. INDEX_FINGER_PIP_INDEX_FINGER_DIP: 2.2868679031181083\n",
      "202. INDEX_FINGER_DIP_MIDDLE_FINGER_DIP: 2.2892413925923885\n",
      "203. INDEX_FINGER_DIP_RING_FINGER_TIP: 2.3686450601025153\n",
      "204. RING_FINGER_DIP_RING_FINGER_TIP: 2.4249980464072123\n",
      "205. MIDDLE_FINGER_DIP_RING_FINGER_TIP: 2.5265675115916495\n",
      "206. INDEX_FINGER_DIP_MIDDLE_FINGER_TIP: 2.5478883171922204\n",
      "207. THUMB_IP_THUMB_TIP: 2.5851146228384296\n",
      "208. INDEX_FINGER_DIP_INDEX_FINGER_TIP: 2.685957121395065\n",
      "209. MIDDLE_FINGER_DIP_MIDDLE_FINGER_TIP: 2.6928802882046905\n",
      "210. INDEX_FINGER_TIP_MIDDLE_FINGER_TIP: 2.7387834415049395\n"
     ]
    }
   ],
   "source": [
    "# Lets compare which keypoint is best for Schemkes\n",
    "\n",
    "def schemkes_comparison(input_keypoints, target_keypoint, X_tr, y_tr, X_te, y_te):\n",
    "    # Compares every pair of keypoints in the input_keypoints list\n",
    "    # using the SchemkesInterpolationModel and returns the best pair\n",
    "    best_model = None\n",
    "    best_score = -np.inf\n",
    "    best_keypoints = None\n",
    "    results = {}\n",
    "    for i in range(len(input_keypoints)):\n",
    "        for j in range(i+1, len(input_keypoints)):\n",
    "            # Create the Schemkes model\n",
    "            model = SchemkesInterpolationModel(train_columns=[input_keypoints[i], input_keypoints[j]], target_column=target_keypoint)\n",
    "            model.fit(X_tr, y_tr)\n",
    "            score = np.mean(calculate_euclidean_distances(y_te, model.predict(X_te)))\n",
    "            results[f\"{input_keypoints[i]}_{input_keypoints[j]}\"] = score\n",
    "            if score > best_score:\n",
    "                best_score = score\n",
    "                best_model = model\n",
    "                best_keypoints = (input_keypoints[i], input_keypoints[j])\n",
    "\n",
    "    return best_model, best_score, best_keypoints, results\n",
    "# Print the best model and R-squared value\n",
    "best_model, best_score, best_keypoints, schemkes_feature_results = schemkes_comparison(\n",
    "    list(hand_keypoints_names.values()), \"HYPOTHENAR\", X_train_hypo, y_train_hypo, X_test_hypo, y_test_hypo\n",
    ")\n",
    "# Sort the results by R-squared value and print the top 5\n",
    "sorted_schemkes_feature_results = {k: v for k, v in sorted(schemkes_feature_results.items(), key=lambda item: item[1], reverse=False)}\n",
    "print(\"Top 5 Results:\")\n",
    "for i, (key, value) in enumerate(sorted_schemkes_feature_results.items()):\n",
    "    print(f\"{i+1}. {key}: {value}\")\n",
    "    if i>5:\n",
    "        break\n"
   ]
  },
  {
   "cell_type": "code",
   "execution_count": 126,
   "metadata": {},
   "outputs": [
    {
     "name": "stderr",
     "output_type": "stream",
     "text": [
      "Iterations: 100%|██████████| 10/10 [00:02<00:00,  3.84it/s]\n"
     ]
    }
   ],
   "source": [
    "schemkes_model_hypothenar = SchemkesInterpolationModel(train_columns=['WRIST', 'PINKY_MCP'], target_column='HYPOTHENAR')\n",
    "schemkes_model_original_hypothenar = SchemkesInterpolationModel(train_columns=['WRIST', 'PINKY_MCP'], target_column='HYPOTHENAR', vertical_ratio=2/3, horizontal_ratio=1/3)\n",
    "tuned_models_hypothenar = [\n",
    "    schemkes_model_hypothenar,\n",
    "    rf_opt_hypothenar.best_estimator_,\n",
    "    xgb_opt_hypothenar.best_estimator_,\n",
    "    knn_opt_hypothenar.best_estimator_,\n",
    "    lasso_opt_hypothenar.best_estimator_,\n",
    "    # schemkes_model_original_hypothenar\n",
    "]\n",
    "tuned_models_names_hypo = [\n",
    "    'Schemkes',\n",
    "    'RandomForest',\n",
    "    'XGBoost',\n",
    "    'KNN',\n",
    "    'Lasso',\n",
    "    # 'Schemkes_Original'\n",
    "]\n",
    "\n",
    "sizes_hypo = [p*len(X_train_hypo) for p in [0.1, 0.2, 0.3, 0.4, 0.5, 0.6, 0.7, 0.8, 0.9, 1.0]]\n",
    "total_results_hypo = evaluation_pipeline(X_train=X_train_hypo, y_train=y_train_hypo,\n",
    "                                X_test=X_test_hypo, y_test=y_test_hypo,\n",
    "                                X_eval=X_test_hypo, y_eval=y_test_hypo,\n",
    "                                models=tuned_models_hypothenar, model_names=tuned_models_names_hypo,\n",
    "                                training_sizes=sizes_hypo, additional_test_sets=None, output_dir='output_new', subsample='random')\n",
    "\n",
    "data_hypo = total_results_hypo\n",
    "\n",
    "# Pickle data\n",
    "with open('output_new/data_hypo.pkl', 'wb') as f:\n",
    "    pickle.dump(data_hypo, f)"
   ]
  },
  {
   "cell_type": "code",
   "execution_count": 142,
   "metadata": {},
   "outputs": [
    {
     "data": {
      "application/vnd.plotly.v1+json": {
       "config": {
        "plotlyServerURL": "https://plot.ly"
       },
       "data": [
        {
         "line": {
          "width": 4
         },
         "marker": {
          "color": "rgb(31, 119, 180)",
          "line": {
           "color": "DarkSlateGrey",
           "width": 1
          },
          "size": 13
         },
         "mode": "lines+markers",
         "name": "Schemkes",
         "type": "scatter",
         "x": [
          74.10000000000001,
          148.20000000000002,
          222.29999999999998,
          296.40000000000003,
          370.5,
          444.59999999999997,
          518.6999999999999,
          592.8000000000001,
          666.9,
          741
         ],
         "y": [
          0.11070297253537541,
          0.1114086206015733,
          0.1114961052787823,
          0.11182594903344346,
          0.11136619016998278,
          0.1114774393029235,
          0.11134129945841681,
          0.11168342924085138,
          0.11161738359871429,
          0.11169363689207015
         ]
        },
        {
         "line": {
          "width": 4
         },
         "marker": {
          "color": "rgb(255, 127, 14)",
          "line": {
           "color": "DarkSlateGrey",
           "width": 1
          },
          "size": 13
         },
         "mode": "lines+markers",
         "name": "RandomForest",
         "type": "scatter",
         "x": [
          74.10000000000001,
          148.20000000000002,
          222.29999999999998,
          296.40000000000003,
          370.5,
          444.59999999999997,
          518.6999999999999,
          592.8000000000001,
          666.9,
          741
         ],
         "y": [
          0.10040986741417636,
          0.08632846336066945,
          0.07574238768211622,
          0.07468431981953833,
          0.07315175102602171,
          0.07078390817458573,
          0.06950661598112207,
          0.06765286430965395,
          0.06741214829176256,
          0.06609337138391212
         ]
        },
        {
         "line": {
          "width": 4
         },
         "marker": {
          "color": "rgb(44, 160, 44)",
          "line": {
           "color": "DarkSlateGrey",
           "width": 1
          },
          "size": 13
         },
         "mode": "lines+markers",
         "name": "XGBoost",
         "type": "scatter",
         "x": [
          74.10000000000001,
          148.20000000000002,
          222.29999999999998,
          296.40000000000003,
          370.5,
          444.59999999999997,
          518.6999999999999,
          592.8000000000001,
          666.9,
          741
         ],
         "y": [
          0.09804708421654153,
          0.07886149337631605,
          0.06959605639188274,
          0.06779977354671748,
          0.06738694133855748,
          0.06625399765657974,
          0.06480004937385153,
          0.06402111554523873,
          0.06341529532503044,
          0.06240629574496263
         ]
        },
        {
         "line": {
          "width": 4
         },
         "marker": {
          "color": "rgb(214, 39, 40)",
          "line": {
           "color": "DarkSlateGrey",
           "width": 1
          },
          "size": 13
         },
         "mode": "lines+markers",
         "name": "KNN",
         "type": "scatter",
         "x": [
          74.10000000000001,
          148.20000000000002,
          222.29999999999998,
          296.40000000000003,
          370.5,
          444.59999999999997,
          518.6999999999999,
          592.8000000000001,
          666.9,
          741
         ],
         "y": [
          0.10859702353387617,
          0.09576479313488738,
          0.08663080361512401,
          0.08263321021174772,
          0.08018382008368512,
          0.07641129854914777,
          0.07463958720333333,
          0.07360208573799588,
          0.07301968594931024,
          0.07106707121461216
         ]
        },
        {
         "line": {
          "width": 4
         },
         "marker": {
          "color": "rgb(148, 103, 189)",
          "line": {
           "color": "DarkSlateGrey",
           "width": 1
          },
          "size": 13
         },
         "mode": "lines+markers",
         "name": "Lasso",
         "type": "scatter",
         "x": [
          74.10000000000001,
          148.20000000000002,
          222.29999999999998,
          296.40000000000003,
          370.5,
          444.59999999999997,
          518.6999999999999,
          592.8000000000001,
          666.9,
          741
         ],
         "y": [
          0.08661510836077393,
          0.07299272516426558,
          0.06541766276376738,
          0.06645069495663712,
          0.06559710610790635,
          0.06496301925660326,
          0.06393666562766215,
          0.0640954431008142,
          0.06447424770365946,
          0.06517497644686245
         ]
        }
       ],
       "layout": {
        "font": {
         "color": "black"
        },
        "height": 800,
        "legend": {
         "font": {
          "size": 18
         },
         "orientation": "h",
         "x": 0.5,
         "xanchor": "center",
         "y": -0.2,
         "yanchor": "bottom"
        },
        "shapes": [
         {
          "line": {
           "color": "black",
           "width": 2
          },
          "type": "rect",
          "x0": 0,
          "x1": 1,
          "xref": "paper",
          "y0": 0,
          "y1": 1,
          "yref": "paper"
         }
        ],
        "template": {
         "data": {
          "bar": [
           {
            "error_x": {
             "color": "#2a3f5f"
            },
            "error_y": {
             "color": "#2a3f5f"
            },
            "marker": {
             "line": {
              "color": "#E5ECF6",
              "width": 0.5
             },
             "pattern": {
              "fillmode": "overlay",
              "size": 10,
              "solidity": 0.2
             }
            },
            "type": "bar"
           }
          ],
          "barpolar": [
           {
            "marker": {
             "line": {
              "color": "#E5ECF6",
              "width": 0.5
             },
             "pattern": {
              "fillmode": "overlay",
              "size": 10,
              "solidity": 0.2
             }
            },
            "type": "barpolar"
           }
          ],
          "carpet": [
           {
            "aaxis": {
             "endlinecolor": "#2a3f5f",
             "gridcolor": "white",
             "linecolor": "white",
             "minorgridcolor": "white",
             "startlinecolor": "#2a3f5f"
            },
            "baxis": {
             "endlinecolor": "#2a3f5f",
             "gridcolor": "white",
             "linecolor": "white",
             "minorgridcolor": "white",
             "startlinecolor": "#2a3f5f"
            },
            "type": "carpet"
           }
          ],
          "choropleth": [
           {
            "colorbar": {
             "outlinewidth": 0,
             "ticks": ""
            },
            "type": "choropleth"
           }
          ],
          "contour": [
           {
            "colorbar": {
             "outlinewidth": 0,
             "ticks": ""
            },
            "colorscale": [
             [
              0,
              "#0d0887"
             ],
             [
              0.1111111111111111,
              "#46039f"
             ],
             [
              0.2222222222222222,
              "#7201a8"
             ],
             [
              0.3333333333333333,
              "#9c179e"
             ],
             [
              0.4444444444444444,
              "#bd3786"
             ],
             [
              0.5555555555555556,
              "#d8576b"
             ],
             [
              0.6666666666666666,
              "#ed7953"
             ],
             [
              0.7777777777777778,
              "#fb9f3a"
             ],
             [
              0.8888888888888888,
              "#fdca26"
             ],
             [
              1,
              "#f0f921"
             ]
            ],
            "type": "contour"
           }
          ],
          "contourcarpet": [
           {
            "colorbar": {
             "outlinewidth": 0,
             "ticks": ""
            },
            "type": "contourcarpet"
           }
          ],
          "heatmap": [
           {
            "colorbar": {
             "outlinewidth": 0,
             "ticks": ""
            },
            "colorscale": [
             [
              0,
              "#0d0887"
             ],
             [
              0.1111111111111111,
              "#46039f"
             ],
             [
              0.2222222222222222,
              "#7201a8"
             ],
             [
              0.3333333333333333,
              "#9c179e"
             ],
             [
              0.4444444444444444,
              "#bd3786"
             ],
             [
              0.5555555555555556,
              "#d8576b"
             ],
             [
              0.6666666666666666,
              "#ed7953"
             ],
             [
              0.7777777777777778,
              "#fb9f3a"
             ],
             [
              0.8888888888888888,
              "#fdca26"
             ],
             [
              1,
              "#f0f921"
             ]
            ],
            "type": "heatmap"
           }
          ],
          "heatmapgl": [
           {
            "colorbar": {
             "outlinewidth": 0,
             "ticks": ""
            },
            "colorscale": [
             [
              0,
              "#0d0887"
             ],
             [
              0.1111111111111111,
              "#46039f"
             ],
             [
              0.2222222222222222,
              "#7201a8"
             ],
             [
              0.3333333333333333,
              "#9c179e"
             ],
             [
              0.4444444444444444,
              "#bd3786"
             ],
             [
              0.5555555555555556,
              "#d8576b"
             ],
             [
              0.6666666666666666,
              "#ed7953"
             ],
             [
              0.7777777777777778,
              "#fb9f3a"
             ],
             [
              0.8888888888888888,
              "#fdca26"
             ],
             [
              1,
              "#f0f921"
             ]
            ],
            "type": "heatmapgl"
           }
          ],
          "histogram": [
           {
            "marker": {
             "pattern": {
              "fillmode": "overlay",
              "size": 10,
              "solidity": 0.2
             }
            },
            "type": "histogram"
           }
          ],
          "histogram2d": [
           {
            "colorbar": {
             "outlinewidth": 0,
             "ticks": ""
            },
            "colorscale": [
             [
              0,
              "#0d0887"
             ],
             [
              0.1111111111111111,
              "#46039f"
             ],
             [
              0.2222222222222222,
              "#7201a8"
             ],
             [
              0.3333333333333333,
              "#9c179e"
             ],
             [
              0.4444444444444444,
              "#bd3786"
             ],
             [
              0.5555555555555556,
              "#d8576b"
             ],
             [
              0.6666666666666666,
              "#ed7953"
             ],
             [
              0.7777777777777778,
              "#fb9f3a"
             ],
             [
              0.8888888888888888,
              "#fdca26"
             ],
             [
              1,
              "#f0f921"
             ]
            ],
            "type": "histogram2d"
           }
          ],
          "histogram2dcontour": [
           {
            "colorbar": {
             "outlinewidth": 0,
             "ticks": ""
            },
            "colorscale": [
             [
              0,
              "#0d0887"
             ],
             [
              0.1111111111111111,
              "#46039f"
             ],
             [
              0.2222222222222222,
              "#7201a8"
             ],
             [
              0.3333333333333333,
              "#9c179e"
             ],
             [
              0.4444444444444444,
              "#bd3786"
             ],
             [
              0.5555555555555556,
              "#d8576b"
             ],
             [
              0.6666666666666666,
              "#ed7953"
             ],
             [
              0.7777777777777778,
              "#fb9f3a"
             ],
             [
              0.8888888888888888,
              "#fdca26"
             ],
             [
              1,
              "#f0f921"
             ]
            ],
            "type": "histogram2dcontour"
           }
          ],
          "mesh3d": [
           {
            "colorbar": {
             "outlinewidth": 0,
             "ticks": ""
            },
            "type": "mesh3d"
           }
          ],
          "parcoords": [
           {
            "line": {
             "colorbar": {
              "outlinewidth": 0,
              "ticks": ""
             }
            },
            "type": "parcoords"
           }
          ],
          "pie": [
           {
            "automargin": true,
            "type": "pie"
           }
          ],
          "scatter": [
           {
            "fillpattern": {
             "fillmode": "overlay",
             "size": 10,
             "solidity": 0.2
            },
            "type": "scatter"
           }
          ],
          "scatter3d": [
           {
            "line": {
             "colorbar": {
              "outlinewidth": 0,
              "ticks": ""
             }
            },
            "marker": {
             "colorbar": {
              "outlinewidth": 0,
              "ticks": ""
             }
            },
            "type": "scatter3d"
           }
          ],
          "scattercarpet": [
           {
            "marker": {
             "colorbar": {
              "outlinewidth": 0,
              "ticks": ""
             }
            },
            "type": "scattercarpet"
           }
          ],
          "scattergeo": [
           {
            "marker": {
             "colorbar": {
              "outlinewidth": 0,
              "ticks": ""
             }
            },
            "type": "scattergeo"
           }
          ],
          "scattergl": [
           {
            "marker": {
             "colorbar": {
              "outlinewidth": 0,
              "ticks": ""
             }
            },
            "type": "scattergl"
           }
          ],
          "scattermapbox": [
           {
            "marker": {
             "colorbar": {
              "outlinewidth": 0,
              "ticks": ""
             }
            },
            "type": "scattermapbox"
           }
          ],
          "scatterpolar": [
           {
            "marker": {
             "colorbar": {
              "outlinewidth": 0,
              "ticks": ""
             }
            },
            "type": "scatterpolar"
           }
          ],
          "scatterpolargl": [
           {
            "marker": {
             "colorbar": {
              "outlinewidth": 0,
              "ticks": ""
             }
            },
            "type": "scatterpolargl"
           }
          ],
          "scatterternary": [
           {
            "marker": {
             "colorbar": {
              "outlinewidth": 0,
              "ticks": ""
             }
            },
            "type": "scatterternary"
           }
          ],
          "surface": [
           {
            "colorbar": {
             "outlinewidth": 0,
             "ticks": ""
            },
            "colorscale": [
             [
              0,
              "#0d0887"
             ],
             [
              0.1111111111111111,
              "#46039f"
             ],
             [
              0.2222222222222222,
              "#7201a8"
             ],
             [
              0.3333333333333333,
              "#9c179e"
             ],
             [
              0.4444444444444444,
              "#bd3786"
             ],
             [
              0.5555555555555556,
              "#d8576b"
             ],
             [
              0.6666666666666666,
              "#ed7953"
             ],
             [
              0.7777777777777778,
              "#fb9f3a"
             ],
             [
              0.8888888888888888,
              "#fdca26"
             ],
             [
              1,
              "#f0f921"
             ]
            ],
            "type": "surface"
           }
          ],
          "table": [
           {
            "cells": {
             "fill": {
              "color": "#EBF0F8"
             },
             "line": {
              "color": "white"
             }
            },
            "header": {
             "fill": {
              "color": "#C8D4E3"
             },
             "line": {
              "color": "white"
             }
            },
            "type": "table"
           }
          ]
         },
         "layout": {
          "annotationdefaults": {
           "arrowcolor": "#2a3f5f",
           "arrowhead": 0,
           "arrowwidth": 1
          },
          "autotypenumbers": "strict",
          "coloraxis": {
           "colorbar": {
            "outlinewidth": 0,
            "ticks": ""
           }
          },
          "colorscale": {
           "diverging": [
            [
             0,
             "#8e0152"
            ],
            [
             0.1,
             "#c51b7d"
            ],
            [
             0.2,
             "#de77ae"
            ],
            [
             0.3,
             "#f1b6da"
            ],
            [
             0.4,
             "#fde0ef"
            ],
            [
             0.5,
             "#f7f7f7"
            ],
            [
             0.6,
             "#e6f5d0"
            ],
            [
             0.7,
             "#b8e186"
            ],
            [
             0.8,
             "#7fbc41"
            ],
            [
             0.9,
             "#4d9221"
            ],
            [
             1,
             "#276419"
            ]
           ],
           "sequential": [
            [
             0,
             "#0d0887"
            ],
            [
             0.1111111111111111,
             "#46039f"
            ],
            [
             0.2222222222222222,
             "#7201a8"
            ],
            [
             0.3333333333333333,
             "#9c179e"
            ],
            [
             0.4444444444444444,
             "#bd3786"
            ],
            [
             0.5555555555555556,
             "#d8576b"
            ],
            [
             0.6666666666666666,
             "#ed7953"
            ],
            [
             0.7777777777777778,
             "#fb9f3a"
            ],
            [
             0.8888888888888888,
             "#fdca26"
            ],
            [
             1,
             "#f0f921"
            ]
           ],
           "sequentialminus": [
            [
             0,
             "#0d0887"
            ],
            [
             0.1111111111111111,
             "#46039f"
            ],
            [
             0.2222222222222222,
             "#7201a8"
            ],
            [
             0.3333333333333333,
             "#9c179e"
            ],
            [
             0.4444444444444444,
             "#bd3786"
            ],
            [
             0.5555555555555556,
             "#d8576b"
            ],
            [
             0.6666666666666666,
             "#ed7953"
            ],
            [
             0.7777777777777778,
             "#fb9f3a"
            ],
            [
             0.8888888888888888,
             "#fdca26"
            ],
            [
             1,
             "#f0f921"
            ]
           ]
          },
          "colorway": [
           "#636efa",
           "#EF553B",
           "#00cc96",
           "#ab63fa",
           "#FFA15A",
           "#19d3f3",
           "#FF6692",
           "#B6E880",
           "#FF97FF",
           "#FECB52"
          ],
          "font": {
           "color": "#2a3f5f"
          },
          "geo": {
           "bgcolor": "white",
           "lakecolor": "white",
           "landcolor": "#E5ECF6",
           "showlakes": true,
           "showland": true,
           "subunitcolor": "white"
          },
          "hoverlabel": {
           "align": "left"
          },
          "hovermode": "closest",
          "mapbox": {
           "style": "light"
          },
          "paper_bgcolor": "white",
          "plot_bgcolor": "#E5ECF6",
          "polar": {
           "angularaxis": {
            "gridcolor": "white",
            "linecolor": "white",
            "ticks": ""
           },
           "bgcolor": "#E5ECF6",
           "radialaxis": {
            "gridcolor": "white",
            "linecolor": "white",
            "ticks": ""
           }
          },
          "scene": {
           "xaxis": {
            "backgroundcolor": "#E5ECF6",
            "gridcolor": "white",
            "gridwidth": 2,
            "linecolor": "white",
            "showbackground": true,
            "ticks": "",
            "zerolinecolor": "white"
           },
           "yaxis": {
            "backgroundcolor": "#E5ECF6",
            "gridcolor": "white",
            "gridwidth": 2,
            "linecolor": "white",
            "showbackground": true,
            "ticks": "",
            "zerolinecolor": "white"
           },
           "zaxis": {
            "backgroundcolor": "#E5ECF6",
            "gridcolor": "white",
            "gridwidth": 2,
            "linecolor": "white",
            "showbackground": true,
            "ticks": "",
            "zerolinecolor": "white"
           }
          },
          "shapedefaults": {
           "line": {
            "color": "#2a3f5f"
           }
          },
          "ternary": {
           "aaxis": {
            "gridcolor": "white",
            "linecolor": "white",
            "ticks": ""
           },
           "baxis": {
            "gridcolor": "white",
            "linecolor": "white",
            "ticks": ""
           },
           "bgcolor": "#E5ECF6",
           "caxis": {
            "gridcolor": "white",
            "linecolor": "white",
            "ticks": ""
           }
          },
          "title": {
           "x": 0.05
          },
          "xaxis": {
           "automargin": true,
           "gridcolor": "white",
           "linecolor": "white",
           "ticks": "",
           "title": {
            "standoff": 15
           },
           "zerolinecolor": "white",
           "zerolinewidth": 2
          },
          "yaxis": {
           "automargin": true,
           "gridcolor": "white",
           "linecolor": "white",
           "ticks": "",
           "title": {
            "standoff": 15
           },
           "zerolinecolor": "white",
           "zerolinewidth": 2
          }
         }
        },
        "title": {
         "font": {
          "size": 24
         },
         "text": "HYPOTHENAR Loss vs Training Size"
        },
        "width": 1000,
        "xaxis": {
         "showgrid": false,
         "tickfont": {
          "size": 22
         },
         "title": {
          "font": {
           "size": 20
          },
          "text": "Training Size"
         }
        },
        "yaxis": {
         "showgrid": false,
         "tickfont": {
          "size": 22
         },
         "title": {
          "font": {
           "size": 22
          },
          "text": "Mean Euclidean Distance"
         }
        }
       }
      }
     },
     "metadata": {},
     "output_type": "display_data"
    }
   ],
   "source": [
    "# PLOT USING PLOTLY GRAPH OBJECTS\n",
    "import plotly.graph_objects as go\n",
    "\n",
    "# PLOT ONLY TEST ERROR\n",
    "fig = go.Figure()\n",
    "color_idx = 0\n",
    "for model, model_data in data_hypo.items():\n",
    "    fig.add_trace(\n",
    "        go.Scatter(\n",
    "            x=sizes_hypo,\n",
    "            y=model_data[\"Test_Error\"],\n",
    "            mode=\"lines+markers\",\n",
    "            name=model,\n",
    "            line=dict(width=4),\n",
    "            marker=dict(size=13, color=DEFAULT_PLOTLY_COLORS[color_idx],line=dict(width=1, color=\"DarkSlateGrey\"))\n",
    "        )\n",
    "    )\n",
    "    color_idx += 1\n",
    "\n",
    "fig.update_layout(\n",
    "    title=\"HYPOTHENAR Loss vs Training Size\",\n",
    "    width=1000,\n",
    "    height=800,\n",
    "    xaxis_title=\"Training Size\",\n",
    "    yaxis_title=\"Mean Euclidean Distance\",\n",
    ")\n",
    "# Draw rectangle as border\n",
    "fig.add_shape(\n",
    "    dict(\n",
    "        type=\"rect\",\n",
    "        xref=\"paper\",\n",
    "        yref=\"paper\",\n",
    "        x0=0,\n",
    "        y0=0,\n",
    "        x1=1,\n",
    "        y1=1,\n",
    "        line=dict(color=\"black\", width=2),\n",
    "    )\n",
    ")\n",
    "# Remove gridlines\n",
    "fig.update_xaxes(showgrid=False)\n",
    "fig.update_yaxes(showgrid=False)\n",
    "\n",
    "# Make title font bigger\n",
    "fig.update_layout(title_font_size=24)\n",
    "\n",
    "# Make text color black\n",
    "fig.update_layout(font=dict(color=\"black\"))\n",
    "\n",
    "# Set font to times new roman\n",
    "# fig.update_layout(font=dict(family=\"Times New Roman\"))\n",
    "# Increase font of y and x axis\n",
    "fig.update_xaxes(tickfont=dict(size=22))\n",
    "fig.update_yaxes(tickfont=dict(size=22))\n",
    "# Increase font of xaxis_title\n",
    "fig.update_xaxes(title_font=dict(size=20))\n",
    "# Increase font of yaxis_title\n",
    "fig.update_yaxes(title_font=dict(size=22))\n",
    "# Make legend bottom\n",
    "fig.update_layout(\n",
    "    legend=dict(\n",
    "        orientation=\"h\",  # Horizontal orientation\n",
    "        yanchor=\"bottom\",  # Anchor to the bottom of the legend\n",
    "        y=-0.2,  # Adjust y position to move it slightly below the plot\n",
    "        xanchor=\"center\",  # Anchor to the center of the legend\n",
    "        x=0.5  # Position the legend in the middle of the x-axis\n",
    "    )\n",
    ")\n",
    "# Incraese legend font\n",
    "fig.update_layout(legend=dict(font=dict(size=18)))\n",
    "fig.show()\n",
    "# Save to plots/REAL/THUMB_CMC_Loss_vs_Training_Size.png"
   ]
  },
  {
   "cell_type": "code",
   "execution_count": 148,
   "metadata": {},
   "outputs": [
    {
     "name": "stdout",
     "output_type": "stream",
     "text": [
      "Model: Schemkes\n",
      "Loss at the 74: 11.0703\n",
      "Loss at elbow 222: 11.1496\n",
      "Loss at the 741: 11.1694\n",
      "Loss Reduction between 222 and 741: -0.18%\n",
      "Model: RandomForest\n",
      "Loss at the 74: 10.0410\n",
      "Loss at elbow 222: 7.5742\n",
      "Loss at the 741: 6.6093\n",
      "Loss Reduction between 222 and 741: 12.74%\n",
      "Model: XGBoost\n",
      "Loss at the 74: 9.8047\n",
      "Loss at elbow 222: 6.9596\n",
      "Loss at the 741: 6.2406\n",
      "Loss Reduction between 222 and 741: 10.33%\n",
      "Model: KNN\n",
      "Loss at the 74: 10.8597\n",
      "Loss at elbow 222: 8.6631\n",
      "Loss at the 741: 7.1067\n",
      "Loss Reduction between 222 and 741: 17.97%\n",
      "Model: Lasso\n",
      "Loss at the 74: 8.6615\n",
      "Loss at elbow 222: 6.5418\n",
      "Loss at the 741: 6.5175\n",
      "Loss Reduction between 222 and 741: 0.37%\n"
     ]
    }
   ],
   "source": [
    "for model, model_data in data_hypo.items():\n",
    "    print(f\"Model: {model}\")\n",
    "    print(f\"Loss at the {int(sizes_hypo[0])}: {model_data['Test_Error'][0] * 100:.4f}\")\n",
    "    print(f\"Loss at elbow {int(sizes_hypo[2])}: {model_data['Test_Error'][2] * 100:.4f}\")\n",
    "    print(f\"Loss at the {int(sizes_hypo[-1])}: {model_data['Test_Error'][-1] * 100:.4f}\")\n",
    "    # Elbow - End loss reduction\n",
    "    elbow_reduction = (model_data['Test_Error'][2] - model_data['Test_Error'][-1]) / model_data['Test_Error'][2] * 100\n",
    "    print(f\"Loss Reduction between {int(sizes_hypo[2])} and {int(sizes_hypo[-1])}: {elbow_reduction:.2f}%\")"
   ]
  },
  {
   "cell_type": "code",
   "execution_count": 135,
   "metadata": {},
   "outputs": [
    {
     "name": "stdout",
     "output_type": "stream",
     "text": [
      "Intercept\n",
      "[-0.08010528 -0.65658126]\n"
     ]
    },
    {
     "data": {
      "image/png": "[encoded data removed]",
      "text/plain": [
       "<Figure size 1200x600 with 2 Axes>"
      ]
     },
     "metadata": {},
     "output_type": "display_data"
    },
    {
     "name": "stdout",
     "output_type": "stream",
     "text": [
      "Top 5 features for HYPOTHENAR_x:\n",
      "PINKY_MCP_x: 0.8261854966644853\n",
      "PINKY_TIP_x: -0.27513122047108085\n",
      "RING_FINGER_TIP_x: 0.13766225150405328\n",
      "THUMB_TIP_x: -0.1220880265123618\n",
      "RING_FINGER_PIP_x: -0.11158187315260099\n",
      "\n",
      "Top 5 features for HYPOTHENAR_y:\n",
      "PINKY_TIP_x: 0.052170008265575\n",
      "PINKY_DIP_y: -0.04290927099458676\n",
      "PINKY_MCP_x: -0.042818256466592784\n",
      "PINKY_DIP_x: 0.04211893984120579\n",
      "PINKY_MCP_y: 0.03303263091297045\n"
     ]
    }
   ],
   "source": [
    "# Plot hypothenar lasso coefficients\n",
    "# Load\n",
    "best_lasso_model_hypo = None\n",
    "with open(\"output_new/Lasso/Lasso_random_741.pkl\", \"rb\") as file:\n",
    "    best_lasso_model_hypo = pickle.load(file)\n",
    "\n",
    "# Print the intercept\n",
    "print(\"Intercept\")\n",
    "print(best_lasso_model_hypo.named_steps['lasso'].intercept_)\n",
    "\n",
    "plt.rcParams.update({'font.size': 12})\n",
    "\n",
    "# Create subplots\n",
    "fig, axes = plt.subplots(1, 2, figsize=(12, 6), sharey=True)\n",
    "# Plot first bar chart\n",
    "flattened_hypothenar_keypoint_names = flattened_keypoint_names\n",
    "axes[0].bar(flattened_hypothenar_keypoint_names, best_lasso_model_hypo.named_steps['lasso'].coef_[0])\n",
    "axes[0].set_xticks(range(len(flattened_hypothenar_keypoint_names)))\n",
    "axes[0].set_xticklabels(flattened_hypothenar_keypoint_names, rotation=90)\n",
    "axes[0].set_xlabel('Feature')\n",
    "axes[0].set_ylabel('Coefficient')\n",
    "axes[0].set_title('Lasso Coefficients for HYPOTHENAR_x')\n",
    "\n",
    "# Plot second bar chart\n",
    "axes[1].bar(flattened_hypothenar_keypoint_names, best_lasso_model_hypo.named_steps['lasso'].coef_[1])\n",
    "axes[1].set_xticks(range(len(flattened_hypothenar_keypoint_names)))\n",
    "axes[1].set_xticklabels(flattened_hypothenar_keypoint_names, rotation=90)\n",
    "axes[1].set_xlabel('Feature')\n",
    "axes[1].set_title('Lasso Coefficients for HYPOTHENAR_y')\n",
    "\n",
    "# Adjust layout\n",
    "plt.tight_layout()\n",
    "plt.show()\n",
    "\n",
    "# Print which feature and its coefficient\n",
    "# Sort by highest absolute value (influence) and print top 5 for x and y\n",
    "# for x\n",
    "sorted_indices_x = np.argsort(np.abs(best_lasso_model_hypo.named_steps['lasso'].coef_[0]))[::-1]\n",
    "print(\"Top 5 features for HYPOTHENAR_x:\")\n",
    "for i in range(5):\n",
    "    print(f\"{flattened_hypothenar_keypoint_names[sorted_indices_x[i]]}: {best_lasso_model_hypo.named_steps['lasso'].coef_[0][sorted_indices_x[i]]}\")\n",
    "\n",
    "# for y\n",
    "sorted_indices_y = np.argsort(np.abs(best_lasso_model_hypo.named_steps['lasso'].coef_[1]))[::-1]\n",
    "print(\"\\nTop 5 features for HYPOTHENAR_y:\")\n",
    "for i in range(5):\n",
    "    print(f\"{flattened_hypothenar_keypoint_names[sorted_indices_y[i]]}: {best_lasso_model_hypo.named_steps['lasso'].coef_[1][sorted_indices_y[i]]}\")\n"
   ]
  },
  {
   "cell_type": "code",
   "execution_count": 136,
   "metadata": {},
   "outputs": [
    {
     "data": {
      "text/html": [
       "<div>\n",
       "<style scoped>\n",
       "    .dataframe tbody tr th:only-of-type {\n",
       "        vertical-align: middle;\n",
       "    }\n",
       "\n",
       "    .dataframe tbody tr th {\n",
       "        vertical-align: top;\n",
       "    }\n",
       "\n",
       "    .dataframe thead th {\n",
       "        text-align: right;\n",
       "    }\n",
       "</style>\n",
       "<table border=\"1\" class=\"dataframe\">\n",
       "  <thead>\n",
       "    <tr style=\"text-align: right;\">\n",
       "      <th></th>\n",
       "      <th>Feature</th>\n",
       "      <th>Importance</th>\n",
       "    </tr>\n",
       "  </thead>\n",
       "  <tbody>\n",
       "    <tr>\n",
       "      <th>4</th>\n",
       "      <td>THUMB_MCP_x</td>\n",
       "      <td>0.398796</td>\n",
       "    </tr>\n",
       "    <tr>\n",
       "      <th>26</th>\n",
       "      <td>RING_FINGER_MCP_x</td>\n",
       "      <td>0.162174</td>\n",
       "    </tr>\n",
       "    <tr>\n",
       "      <th>34</th>\n",
       "      <td>PINKY_MCP_x</td>\n",
       "      <td>0.110227</td>\n",
       "    </tr>\n",
       "    <tr>\n",
       "      <th>6</th>\n",
       "      <td>THUMB_IP_x</td>\n",
       "      <td>0.104343</td>\n",
       "    </tr>\n",
       "    <tr>\n",
       "      <th>8</th>\n",
       "      <td>THUMB_TIP_x</td>\n",
       "      <td>0.068026</td>\n",
       "    </tr>\n",
       "    <tr>\n",
       "      <th>36</th>\n",
       "      <td>PINKY_PIP_x</td>\n",
       "      <td>0.031796</td>\n",
       "    </tr>\n",
       "    <tr>\n",
       "      <th>29</th>\n",
       "      <td>RING_FINGER_PIP_y</td>\n",
       "      <td>0.013120</td>\n",
       "    </tr>\n",
       "    <tr>\n",
       "      <th>1</th>\n",
       "      <td>WRIST_y</td>\n",
       "      <td>0.007998</td>\n",
       "    </tr>\n",
       "    <tr>\n",
       "      <th>41</th>\n",
       "      <td>PINKY_TIP_y</td>\n",
       "      <td>0.006921</td>\n",
       "    </tr>\n",
       "    <tr>\n",
       "      <th>27</th>\n",
       "      <td>RING_FINGER_MCP_y</td>\n",
       "      <td>0.006542</td>\n",
       "    </tr>\n",
       "    <tr>\n",
       "      <th>31</th>\n",
       "      <td>RING_FINGER_DIP_y</td>\n",
       "      <td>0.006477</td>\n",
       "    </tr>\n",
       "    <tr>\n",
       "      <th>33</th>\n",
       "      <td>RING_FINGER_TIP_y</td>\n",
       "      <td>0.006231</td>\n",
       "    </tr>\n",
       "    <tr>\n",
       "      <th>7</th>\n",
       "      <td>THUMB_IP_y</td>\n",
       "      <td>0.006208</td>\n",
       "    </tr>\n",
       "    <tr>\n",
       "      <th>32</th>\n",
       "      <td>RING_FINGER_TIP_x</td>\n",
       "      <td>0.006144</td>\n",
       "    </tr>\n",
       "    <tr>\n",
       "      <th>18</th>\n",
       "      <td>MIDDLE_FINGER_MCP_x</td>\n",
       "      <td>0.005914</td>\n",
       "    </tr>\n",
       "    <tr>\n",
       "      <th>35</th>\n",
       "      <td>PINKY_MCP_y</td>\n",
       "      <td>0.005139</td>\n",
       "    </tr>\n",
       "    <tr>\n",
       "      <th>39</th>\n",
       "      <td>PINKY_DIP_y</td>\n",
       "      <td>0.004623</td>\n",
       "    </tr>\n",
       "    <tr>\n",
       "      <th>0</th>\n",
       "      <td>WRIST_x</td>\n",
       "      <td>0.003889</td>\n",
       "    </tr>\n",
       "    <tr>\n",
       "      <th>28</th>\n",
       "      <td>RING_FINGER_PIP_x</td>\n",
       "      <td>0.003868</td>\n",
       "    </tr>\n",
       "    <tr>\n",
       "      <th>21</th>\n",
       "      <td>MIDDLE_FINGER_PIP_y</td>\n",
       "      <td>0.003445</td>\n",
       "    </tr>\n",
       "    <tr>\n",
       "      <th>2</th>\n",
       "      <td>THUMB_CMC_x</td>\n",
       "      <td>0.002678</td>\n",
       "    </tr>\n",
       "    <tr>\n",
       "      <th>37</th>\n",
       "      <td>PINKY_PIP_y</td>\n",
       "      <td>0.002373</td>\n",
       "    </tr>\n",
       "    <tr>\n",
       "      <th>23</th>\n",
       "      <td>MIDDLE_FINGER_DIP_y</td>\n",
       "      <td>0.002337</td>\n",
       "    </tr>\n",
       "    <tr>\n",
       "      <th>10</th>\n",
       "      <td>INDEX_FINGER_MCP_x</td>\n",
       "      <td>0.002315</td>\n",
       "    </tr>\n",
       "    <tr>\n",
       "      <th>9</th>\n",
       "      <td>THUMB_TIP_y</td>\n",
       "      <td>0.002071</td>\n",
       "    </tr>\n",
       "    <tr>\n",
       "      <th>13</th>\n",
       "      <td>INDEX_FINGER_PIP_y</td>\n",
       "      <td>0.002054</td>\n",
       "    </tr>\n",
       "    <tr>\n",
       "      <th>19</th>\n",
       "      <td>MIDDLE_FINGER_MCP_y</td>\n",
       "      <td>0.002051</td>\n",
       "    </tr>\n",
       "    <tr>\n",
       "      <th>40</th>\n",
       "      <td>PINKY_TIP_x</td>\n",
       "      <td>0.001938</td>\n",
       "    </tr>\n",
       "    <tr>\n",
       "      <th>11</th>\n",
       "      <td>INDEX_FINGER_MCP_y</td>\n",
       "      <td>0.001733</td>\n",
       "    </tr>\n",
       "    <tr>\n",
       "      <th>30</th>\n",
       "      <td>RING_FINGER_DIP_x</td>\n",
       "      <td>0.001731</td>\n",
       "    </tr>\n",
       "    <tr>\n",
       "      <th>5</th>\n",
       "      <td>THUMB_MCP_y</td>\n",
       "      <td>0.001692</td>\n",
       "    </tr>\n",
       "    <tr>\n",
       "      <th>24</th>\n",
       "      <td>MIDDLE_FINGER_TIP_x</td>\n",
       "      <td>0.001659</td>\n",
       "    </tr>\n",
       "    <tr>\n",
       "      <th>15</th>\n",
       "      <td>INDEX_FINGER_DIP_y</td>\n",
       "      <td>0.001636</td>\n",
       "    </tr>\n",
       "    <tr>\n",
       "      <th>22</th>\n",
       "      <td>MIDDLE_FINGER_DIP_x</td>\n",
       "      <td>0.001587</td>\n",
       "    </tr>\n",
       "    <tr>\n",
       "      <th>25</th>\n",
       "      <td>MIDDLE_FINGER_TIP_y</td>\n",
       "      <td>0.001538</td>\n",
       "    </tr>\n",
       "    <tr>\n",
       "      <th>3</th>\n",
       "      <td>THUMB_CMC_y</td>\n",
       "      <td>0.001477</td>\n",
       "    </tr>\n",
       "    <tr>\n",
       "      <th>20</th>\n",
       "      <td>MIDDLE_FINGER_PIP_x</td>\n",
       "      <td>0.001417</td>\n",
       "    </tr>\n",
       "    <tr>\n",
       "      <th>17</th>\n",
       "      <td>INDEX_FINGER_TIP_y</td>\n",
       "      <td>0.001299</td>\n",
       "    </tr>\n",
       "    <tr>\n",
       "      <th>38</th>\n",
       "      <td>PINKY_DIP_x</td>\n",
       "      <td>0.001224</td>\n",
       "    </tr>\n",
       "    <tr>\n",
       "      <th>14</th>\n",
       "      <td>INDEX_FINGER_DIP_x</td>\n",
       "      <td>0.001160</td>\n",
       "    </tr>\n",
       "    <tr>\n",
       "      <th>16</th>\n",
       "      <td>INDEX_FINGER_TIP_x</td>\n",
       "      <td>0.001089</td>\n",
       "    </tr>\n",
       "    <tr>\n",
       "      <th>12</th>\n",
       "      <td>INDEX_FINGER_PIP_x</td>\n",
       "      <td>0.001060</td>\n",
       "    </tr>\n",
       "  </tbody>\n",
       "</table>\n",
       "</div>"
      ],
      "text/plain": [
       "                Feature  Importance\n",
       "4           THUMB_MCP_x    0.398796\n",
       "26    RING_FINGER_MCP_x    0.162174\n",
       "34          PINKY_MCP_x    0.110227\n",
       "6            THUMB_IP_x    0.104343\n",
       "8           THUMB_TIP_x    0.068026\n",
       "36          PINKY_PIP_x    0.031796\n",
       "29    RING_FINGER_PIP_y    0.013120\n",
       "1               WRIST_y    0.007998\n",
       "41          PINKY_TIP_y    0.006921\n",
       "27    RING_FINGER_MCP_y    0.006542\n",
       "31    RING_FINGER_DIP_y    0.006477\n",
       "33    RING_FINGER_TIP_y    0.006231\n",
       "7            THUMB_IP_y    0.006208\n",
       "32    RING_FINGER_TIP_x    0.006144\n",
       "18  MIDDLE_FINGER_MCP_x    0.005914\n",
       "35          PINKY_MCP_y    0.005139\n",
       "39          PINKY_DIP_y    0.004623\n",
       "0               WRIST_x    0.003889\n",
       "28    RING_FINGER_PIP_x    0.003868\n",
       "21  MIDDLE_FINGER_PIP_y    0.003445\n",
       "2           THUMB_CMC_x    0.002678\n",
       "37          PINKY_PIP_y    0.002373\n",
       "23  MIDDLE_FINGER_DIP_y    0.002337\n",
       "10   INDEX_FINGER_MCP_x    0.002315\n",
       "9           THUMB_TIP_y    0.002071\n",
       "13   INDEX_FINGER_PIP_y    0.002054\n",
       "19  MIDDLE_FINGER_MCP_y    0.002051\n",
       "40          PINKY_TIP_x    0.001938\n",
       "11   INDEX_FINGER_MCP_y    0.001733\n",
       "30    RING_FINGER_DIP_x    0.001731\n",
       "5           THUMB_MCP_y    0.001692\n",
       "24  MIDDLE_FINGER_TIP_x    0.001659\n",
       "15   INDEX_FINGER_DIP_y    0.001636\n",
       "22  MIDDLE_FINGER_DIP_x    0.001587\n",
       "25  MIDDLE_FINGER_TIP_y    0.001538\n",
       "3           THUMB_CMC_y    0.001477\n",
       "20  MIDDLE_FINGER_PIP_x    0.001417\n",
       "17   INDEX_FINGER_TIP_y    0.001299\n",
       "38          PINKY_DIP_x    0.001224\n",
       "14   INDEX_FINGER_DIP_x    0.001160\n",
       "16   INDEX_FINGER_TIP_x    0.001089\n",
       "12   INDEX_FINGER_PIP_x    0.001060"
      ]
     },
     "execution_count": 136,
     "metadata": {},
     "output_type": "execute_result"
    }
   ],
   "source": [
    "# Print XGB hypo important features\n",
    "importances_hypo = xgb_opt_hypothenar.best_estimator_.feature_importances_\n",
    "feature_importance_df_hypo = pd.DataFrame(\n",
    "    {\"Feature\": flattened_hypothenar_keypoint_names, \"Importance\": importances_hypo}\n",
    ")\n",
    "feature_importance_df_hypo = feature_importance_df_hypo.sort_values(\n",
    "    by=\"Importance\", ascending=False\n",
    ")\n",
    "\n",
    "feature_importance_df_hypo.head(5)"
   ]
  },
  {
   "cell_type": "code",
   "execution_count": 137,
   "metadata": {},
   "outputs": [],
   "source": [
    "# Fit the first model\n",
    "tuned_models_hypothenar[0].fit(X_train_hypo, y_train_hypo)\n",
    "\n",
    "# Calculate residuals_hypo for all models\n",
    "residuals_hypo = []\n",
    "for i in range(len(tuned_models_hypothenar)):\n",
    "    y_pred = tuned_models_hypothenar[i].predict(X_test_hypo)\n",
    "    residuals_hypo.append(y_pred - y_test_hypo.to_numpy())"
   ]
  },
  {
   "cell_type": "code",
   "execution_count": 162,
   "metadata": {},
   "outputs": [
    {
     "name": "stdout",
     "output_type": "stream",
     "text": [
      "Model Schemkes: width=0.51, height=0.33, angle=160.0, radius=0.21 radius_cm=1.94\n",
      "Model RandomForest: width=0.28, height=0.27, angle=-177.0, radius=0.14 radius_cm=1.27\n",
      "Model XGBoost: width=0.26, height=0.25, angle=146.0, radius=0.13 radius_cm=1.19\n",
      "Model KNN: width=0.31, height=0.27, angle=171.0, radius=0.15 radius_cm=1.36\n",
      "Model Lasso: width=0.37, height=0.33, angle=-174.0, radius=0.18 radius_cm=1.64\n"
     ]
    },
    {
     "data": {
      "image/png": "[encoded data removed]",
      "text/plain": [
       "<Figure size 2300x450 with 5 Axes>"
      ]
     },
     "metadata": {},
     "output_type": "display_data"
    },
    {
     "data": {
      "text/plain": [
       "{'Schemkes': 0.20827856061263644,\n",
       " 'RandomForest': 0.13636260133008443,\n",
       " 'XGBoost': 0.12789040606451568,\n",
       " 'KNN': 0.1461505865686909,\n",
       " 'Lasso': 0.17671358361749112}"
      ]
     },
     "execution_count": 162,
     "metadata": {},
     "output_type": "execute_result"
    }
   ],
   "source": [
    "import numpy as np\n",
    "import matplotlib.pyplot as plt\n",
    "from matplotlib.patches import Ellipse\n",
    "from scipy.stats import chi2\n",
    "\n",
    "def plot_residuals_with_ellipse(residuals_list, model_names, alpha=0.95):\n",
    "    \"\"\"\n",
    "    Plots residuals with confidence ellipses.\n",
    "\n",
    "    Args:\n",
    "      residuals_list: A list of 2D numpy arrays, each representing residuals \n",
    "                      for a model.\n",
    "      model_names: A list of model names corresponding to the residuals.\n",
    "      alpha: The confidence level for the ellipses (default 0.95).\n",
    "    \"\"\"\n",
    "\n",
    "    plt.rcParams.update({'font.size': 18})\n",
    "    fig, axes = plt.subplots(1, len(residuals_list), figsize=(23, 4.5), sharex=True, sharey=True)\n",
    "    axes = axes.flatten()\n",
    "\n",
    "    # Calculate the chi-squared value for the given confidence level\n",
    "    chi_squared_val = chi2.ppf(alpha, 2) \n",
    "    radii = {}\n",
    "    for i in range(len(residuals_list)):\n",
    "        ax = axes[i]\n",
    "        residuals = residuals_list[i]\n",
    "\n",
    "        # 1. Calculate MLE parameters (mean and covariance)\n",
    "        mean = np.mean(residuals, axis=0)\n",
    "        cov = np.cov(residuals, rowvar=False)\n",
    "\n",
    "        # 2. Scatter plot\n",
    "        ax.scatter(residuals[:, 0], residuals[:, 1], alpha=0.7, s=40)\n",
    "        ax.set_xlabel('X Error')\n",
    "        ax.set_ylabel('Y Error')\n",
    "        ax.set_title(f'{model_names[i]} Residuals')\n",
    "        # ax.set_xlim(-0.25, 0.25)\n",
    "        # ax.set_ylim(-0.25, 0.25)\n",
    "\n",
    "        # 3. Calculate Ellipse Parameters\n",
    "        vals, vecs = np.linalg.eigh(cov)\n",
    "        order = vals.argsort()[::-1]\n",
    "        vals = vals[order]\n",
    "        vecs = vecs[:, order]\n",
    "        theta = np.degrees(np.arctan2(*vecs[:, 0][::-1]))\n",
    "        width, height = 2 * np.sqrt(vals) * np.sqrt(chi_squared_val)\n",
    "        # Calculate the diameter approximation\n",
    "        diameter_approx = (width+height) / 2\n",
    "        radii[model_names[i]] = diameter_approx/2\n",
    "        radius_cm = (17.48/1.88) * (diameter_approx/2)\n",
    "        # Limit to 2 decimal places\n",
    "        print(f\"Model {model_names[i]}: width={width :.2f}, height={height :.2f}, angle={np.round(theta)}, radius={diameter_approx/2 :.2f} radius_cm={radius_cm :.2f}\")\n",
    "\n",
    "        # 4. Create and Add Ellipse\n",
    "        ellip = Ellipse(xy=mean, width=width, height=height, angle=theta,\n",
    "                        edgecolor='red', fc='None', lw=2)\n",
    "        ax.add_patch(ellip)\n",
    "\n",
    "    # Remove unused subplots\n",
    "    if len(residuals_list) < len(axes):\n",
    "        for j in range(len(residuals_list), len(axes)):\n",
    "            fig.delaxes(axes[j])\n",
    "    plt.tight_layout()\n",
    "    # Make resolution very hig\n",
    "    plt.savefig('plots/residuals_scatter_with_ellipse.jpg', dpi=600)\n",
    "    plt.show()\n",
    "    return radii\n",
    "\n",
    "# Example usage (assuming residuals_hypo and tuned_models_names_hypo are defined):\n",
    "hypo_radii = plot_residuals_with_ellipse(residuals_hypo, tuned_models_names_hypo)\n",
    "hypo_radii"
   ]
  },
  {
   "cell_type": "code",
   "execution_count": 139,
   "metadata": {},
   "outputs": [
    {
     "data": {
      "image/png": "[encoded data removed]",
      "text/plain": [
       "<Figure size 2000x500 with 5 Axes>"
      ]
     },
     "metadata": {},
     "output_type": "display_data"
    }
   ],
   "source": [
    "# PLOT HISTOGRAM\n",
    "resids = []\n",
    "for i in range(len(tuned_models_hypothenar)):\n",
    "    y_pred = tuned_models_hypothenar[i].predict(X_test_hypo)\n",
    "    resids.append(calculate_euclidean_distances(y_pred, y_test_hypo))\n",
    "\n",
    "# Plot histograms for residuals of each model\n",
    "plt.rcParams.update({'font.size': 18})\n",
    "fig, axes = plt.subplots(1, 5, figsize=(20, 5), sharex=True, sharey=True)\n",
    "axes = axes.flatten()\n",
    "\n",
    "for i in range(len(resids)):\n",
    "    ax = axes[i]\n",
    "    ax.hist(resids[i], bins=30, color='skyblue', edgecolor='black')\n",
    "    ax.set_title(f'{tuned_models_names_hypo[i]} Residuals')\n",
    "    ax.set_xlabel('Euclidean Distance')\n",
    "    ax.set_ylabel('Frequency')\n",
    "    \n",
    "    \n",
    "plt.tight_layout()\n",
    "plt.savefig('plots/residuals_histogram.png')\n",
    "plt.show()"
   ]
  },
  {
   "cell_type": "code",
   "execution_count": 154,
   "metadata": {},
   "outputs": [],
   "source": [
    "def get_denormalized_predictions(original_df, predictions, target_keypoints_columns, hand_keypoints = None):\n",
    "    \"\"\"\n",
    "    Denormalizes the predicted keypoints.\n",
    "\n",
    "    Parameters:\n",
    "        predictions (np.ndarray): Predicted keypoints.\n",
    "        hand_keypoints (pd.DataFrame): Normalized hand keypoints.\n",
    "        target_keypoints (list): Target keypoint names.\n",
    "\n",
    "    Returns:\n",
    "        pd.DataFrame: Denormalized predictions.\n",
    "    \"\"\"\n",
    "    image_space_with_predictions_df = original_df.copy()\n",
    "    image_space_with_predictions_df[target_keypoints_columns] = predictions\n",
    "    if hand_keypoints is None:\n",
    "        # Automatically extract hand keypoints from the original DataFrame\n",
    "        hand_keypoints = process_strings(list(image_space_with_predictions_df.columns))\n",
    "    image_space_with_predictions_df = transform_to_image_space(image_space_with_predictions_df, hand_keypoints)\n",
    "    \n",
    "    return image_space_with_predictions_df"
   ]
  },
  {
   "cell_type": "code",
   "execution_count": 156,
   "metadata": {},
   "outputs": [],
   "source": [
    "temp_df = combined_val_df_normalized.copy()\n",
    "\n",
    "predictions_hypoth_df = pd.DataFrame()\n",
    "predictions_hypoth_df[['SCH_x', 'SCH_y']] = schemkes_model_hypothenar.predict(temp_df[flattened_keypoint_names]) \n",
    "predictions_hypoth_df[['XGB_x', 'XGB_y']] = xgb_opt_hypothenar.best_estimator_.predict(temp_df[flattened_keypoint_names])\n",
    "predictions_hypoth_df[['KNN_x', 'KNN_y']] = knn_opt_hypothenar.best_estimator_.predict(temp_df[flattened_keypoint_names])\n",
    "predictions_hypoth_df[['LASSO_x', 'LASSO_y']] = lasso_opt_hypothenar.best_estimator_.predict(temp_df[flattened_keypoint_names])\n",
    "predictions_hypoth_df[['RF_x', 'RF_y']] = rf_opt_hypothenar.best_estimator_.predict(temp_df[flattened_keypoint_names])\n",
    "# Get the same rows from temp_df as X_train_hypothenar\n",
    "temp_df = temp_df.loc[combined_val_df_normalized.index]\n",
    "# Get the denormalized predictions\n",
    "temp_df.reset_index(drop=True, inplace=True)\n",
    "val_set_with_denorm_predictions = get_denormalized_predictions(temp_df, \n",
    "                                        predictions_hypoth_df, \n",
    "                                        ['SCH_x', 'SCH_y'] + ['XGB_x', 'XGB_y'] + ['KNN_x', 'KNN_y'] + ['LASSO_x', 'LASSO_y'] + ['RF_x', 'RF_y'],\n",
    "                                        None)\n",
    "# val_set_with_denorm_predictions\n"
   ]
  },
  {
   "cell_type": "code",
   "execution_count": 157,
   "metadata": {},
   "outputs": [],
   "source": [
    "import cv2\n",
    "\n",
    "def attempt_to_draw_from_df(input_df, file_name, possible_image_dirs, keypoints_mask, extra_keypoints_mask=None, figsize=(8, 6), font_scale=None, font_thickness=None, point_size=None, target_res=1000, save_dir = 'examples', show=True, radii=None):\n",
    "    hands_from_the_file_rows = input_df[input_df['FILE_NAME'] == file_name]\n",
    "\n",
    "    greens_list = [(i * 255 / 5, 255, i * 255 / 5) for i in range(3)]\n",
    "    blues_list = [(255, i * 255 / 5, i * 255 / 5) for i in range(3)]\n",
    "    reds_list = [(i * 255 / 5, i * 255 / 5, 255) for i in range(3)]\n",
    "\n",
    "    # Attempt to find image path\n",
    "    relative_img_path = attempt_to_find_image_path(possible_image_dirs, file_name)\n",
    "    hands_from_the_file_rows.reset_index(drop=True, inplace=True)\n",
    "\n",
    "    # Load image\n",
    "    img = cv2.imread(relative_img_path)\n",
    "    \n",
    "    clrs = [(255, 0, 255), (255, 255, 0), (0, 255, 255), (0, 128, 0), (0, 0, 255), (random.randint(0, 255), random.randint(0, 255), random.randint(0, 255)), (random.randint(0, 255), random.randint(0, 255), random.randint(0, 255))]\n",
    "\n",
    "    # Calculate average width and height of bounding boxes\n",
    "    if \"BB_CX\" in hands_from_the_file_rows.columns:\n",
    "        avg_bb_w = hands_from_the_file_rows[\"BB_W\"].mean()\n",
    "        avg_bb_h = hands_from_the_file_rows[\"BB_H\"].mean()\n",
    "        avg_pixel_bb_w = int(avg_bb_w * img.shape[1])\n",
    "        avg_pixel_bb_h = int(avg_bb_h * img.shape[0])\n",
    "        avg_larger_dimension_pixel = max(avg_pixel_bb_w, avg_pixel_bb_h)\n",
    "        # Calculate scale factor to get larger of the two to target resolution\n",
    "        scale_factor = target_res / avg_larger_dimension_pixel\n",
    "        # Resize the image\n",
    "        img = cv2.resize(img, (int(img.shape[1] * scale_factor), int(img.shape[0] * scale_factor)), interpolation=cv2.INTER_LANCZOS4)\n",
    "\n",
    "    white_thickness = int(font_thickness * 0.6)\n",
    "    white_point_size_inside = int((point_size - 2)*0.9)\n",
    "\n",
    "    img_height = img.shape[0]\n",
    "    img_width = img.shape[1]\n",
    "    reformatted_bb_df = pd.DataFrame()\n",
    "    if \"BB_CX\" in hands_from_the_file_rows.columns:\n",
    "        reformatted_bb_df[\"BB_X_TL\"] = (hands_from_the_file_rows[\"BB_CX\"] - hands_from_the_file_rows[\"BB_W\"] / 1.6)\n",
    "        reformatted_bb_df[\"BB_Y_TL\"] = (hands_from_the_file_rows[\"BB_CY\"] - hands_from_the_file_rows[\"BB_H\"] / 1.6)\n",
    "        reformatted_bb_df[\"BB_X_BR\"] = (hands_from_the_file_rows[\"BB_CX\"] + hands_from_the_file_rows[\"BB_W\"] / 1.6)\n",
    "        reformatted_bb_df[\"BB_Y_BR\"] = (hands_from_the_file_rows[\"BB_CY\"] + hands_from_the_file_rows[\"BB_H\"] / 1.6)\n",
    "        # Find min and max of bounding boxes\n",
    "        min_x_tl = reformatted_bb_df[\"BB_X_TL\"].min()\n",
    "        min_y_tl = reformatted_bb_df[\"BB_Y_TL\"].min()\n",
    "        max_x_br = reformatted_bb_df[\"BB_X_BR\"].max()\n",
    "        max_y_br = reformatted_bb_df[\"BB_Y_BR\"].max()\n",
    "        # Ensure within bounds\n",
    "        min_x_tl = max(0, min_x_tl)\n",
    "        min_y_tl = max(0, min_y_tl)\n",
    "        max_x_br = min(1, max_x_br)\n",
    "        max_y_br = min(1, max_y_br)\n",
    "        # Find crop dimensions\n",
    "        crop_x_tl = int(min_x_tl * img.shape[1])\n",
    "        crop_y_tl = int(min_y_tl * img.shape[0])\n",
    "        crop_x_br = int(max_x_br * img.shape[1])\n",
    "        crop_y_br = int(max_y_br * img.shape[0])\n",
    "        \n",
    "    for i, row in hands_from_the_file_rows.iterrows():\n",
    "        # If there is a bounding box column, draw the bounding box\n",
    "        if \"BB_CX\" in hands_from_the_file_rows.columns:\n",
    "            bb_cx = row[\"BB_CX\"]\n",
    "            bb_cy = row[\"BB_CY\"]\n",
    "            bb_w = row[\"BB_W\"]\n",
    "            bb_h = row[\"BB_H\"]\n",
    "            x = int((bb_cx - bb_w / 2) * img_width)\n",
    "            y = int((bb_cy - bb_h / 2) * img_height)\n",
    "            w = int(bb_w * img_width)\n",
    "            h = int(bb_h * img_height)\n",
    "            \n",
    "            # Calculate distance between WRIST and MIDDLE_FINGER_TIP\n",
    "            # hand_length = np.sqrt((row[\"WRIST_x\"] - row[\"MIDDLE_FINGER_TIP_x\"])**2 + (row[\"WRIST_y\"] - row[\"MIDDLE_FINGER_TIP_y\"])**2)\n",
    "            larger_dimension_pixel_scaled = max(w, h)\n",
    "            # print(f\"Hand length: {hand_length}, Larger dimension pixel: {larger_dimension_pixel_scaled}\")\n",
    "            cv2.rectangle(img, (x, y), (x + w, y + h), greens_list[i], 16)\n",
    "    \n",
    "        # Draw keypoints\n",
    "        for kp_index, kp in enumerate(keypoints_mask):\n",
    "            x = int(row[f\"{kp}_x\"] * img_width)\n",
    "            y = int(row[f\"{kp}_y\"] * img_height)\n",
    "            if kp_index == 0:\n",
    "                # Draw the handedness if it exists\n",
    "                if \"HANDEDNESS\" in hands_from_the_file_rows.columns:\n",
    "                    handedness = row[\"HANDEDNESS\"]\n",
    "                    handedness_text = \"Right\" if handedness == 1 else \"Left\"\n",
    "                    # For handedness text interpolate point between bounding box center and WRIST\n",
    "                    hand_text_x = int((x + bb_cx * img_width) / 2)\n",
    "                    hand_text_y = int((y + bb_cy * img_height) / 2)\n",
    "                    # Draw text\n",
    "                    cv2.putText(img, handedness_text, (hand_text_x, hand_text_y), cv2.FONT_HERSHEY_SIMPLEX, font_scale // 2, (0, 0, 0),\n",
    "                                font_thickness)\n",
    "                    # Draw white inline\n",
    "                    cv2.putText(img, handedness_text, (hand_text_x, hand_text_y), cv2.FONT_HERSHEY_SIMPLEX, font_scale // 2, (255, 255, 255),\n",
    "                        white_thickness // 3)\n",
    "            cv2.circle(img, (x, y), point_size, reds_list[i], -1)\n",
    "            cv2.circle(img, (x, y), white_point_size_inside, (255, 255, 255), -1)\n",
    "            # Draw text of index\n",
    "            cv2.putText(img, str(kp_index), (x, y), cv2.FONT_HERSHEY_SIMPLEX, font_scale // 2, (0, 0, 0),\n",
    "                        font_thickness // 2)\n",
    "            # Draw white inline\n",
    "            cv2.putText(img, str(kp_index), (x, y), cv2.FONT_HERSHEY_SIMPLEX, font_scale // 2, (255, 255, 255),\n",
    "                        white_thickness // 3)\n",
    "        # Radius of circle for extra points is 0.15  \n",
    "        # DRAW EXTRA POINTS with dynamic labels and random colors\n",
    "        if extra_keypoints_mask is not None:\n",
    "            for kp_index, kp in enumerate(extra_keypoints_mask):\n",
    "                x = int(row[f\"{kp}_x\"] * img_width)\n",
    "                y = int(row[f\"{kp}_y\"] * img_height)\n",
    "                overlay = img.copy()\n",
    "                circle_opacity = 0.75\n",
    "                cv2.circle(img, (x, y), int(larger_dimension_pixel_scaled*radii[kp]*0.45), clrs[kp_index], int(font_thickness*0.66))\n",
    "                cv2.circle(img, (x, y), int(larger_dimension_pixel_scaled*radii[kp]*0.45), (255, 255, 255), int(font_thickness*0.1))\n",
    "                cv2.addWeighted(overlay, 1 - circle_opacity, img, circle_opacity, 0, img) \n",
    "    # Crop \n",
    "    if \"BB_CX\" in hands_from_the_file_rows.columns:\n",
    "        legend_font_scale = int(font_scale * 0.5)\n",
    "        img = img[crop_y_tl:crop_y_br, crop_x_tl:crop_x_br] \n",
    "        text_size = cv2.getTextSize(\"SampleText\", cv2.FONT_HERSHEY_SIMPLEX, legend_font_scale, font_thickness)[0]\n",
    "        line_spacing = 1.1\n",
    "        line_height = int(text_size[1] * line_spacing)\n",
    "        legend_x = int(img.shape[0]*0.01)\n",
    "        legend_y = img.shape[0]\n",
    "        legend_y_start = legend_y\n",
    "        # Calculate legend width (find the maximum width among all keypoint texts)\n",
    "        legend_width = 0\n",
    "        for kp in extra_keypoints_mask:\n",
    "            (text_width, _), _ = cv2.getTextSize(kp, cv2.FONT_HERSHEY_SIMPLEX, legend_font_scale, int(font_thickness * 0.6))\n",
    "            legend_width = max(legend_width, text_width)\n",
    "\n",
    "        # Add margins to the width\n",
    "        legend_width += 2 * int(img.shape[1] * 0.01) # 1% margin on each side\n",
    "\n",
    "        # Draw the semi-transparent rectangle for the legend background\n",
    "        overlay = img.copy()\n",
    "        cv2.rectangle(overlay, (legend_x, legend_y_start - legend_x - len(extra_keypoints_mask) * line_height), (legend_x + legend_width, legend_y_start), (0, 0, 0), cv2.FILLED)  # Black rectangle\n",
    "        alpha = 0.3  # Transparency factor\n",
    "        cv2.addWeighted(overlay, alpha, img, 1 - alpha, 0, img)  \n",
    "\n",
    "\n",
    "        legend_y = img.shape[0]\n",
    "        for kp_index, kp in enumerate(extra_keypoints_mask):\n",
    "            cv2.putText(img, kp, (legend_x, legend_y-legend_x), cv2.FONT_HERSHEY_SIMPLEX, legend_font_scale, clrs[kp_index], int(font_thickness*0.6))\n",
    "            cv2.putText(img, kp, (legend_x, legend_y-legend_x), cv2.FONT_HERSHEY_SIMPLEX, legend_font_scale, (255, 255, 255), int(white_thickness*0.4))\n",
    "            legend_y -= line_height\n",
    "\n",
    "    # Save image to 'examples' get img file name from relative_img_path\n",
    "    img_name = relative_img_path.split('/')[-1]\n",
    "    img_name = img_name.split('.')[0]\n",
    "\n",
    "    cv2.imwrite(f'{save_dir}/{img_name}_SCALED.png', img)\n",
    "    if show:\n",
    "        cv2_imshow(img)\n"
   ]
  },
  {
   "cell_type": "code",
   "execution_count": 158,
   "metadata": {},
   "outputs": [
    {
     "data": {
      "text/plain": [
       "['RF', 'LASSO', 'XGB', 'KNN', 'SCH']"
      ]
     },
     "execution_count": 158,
     "metadata": {},
     "output_type": "execute_result"
    }
   ],
   "source": [
    "# Recommended drawing settings:\n",
    "font_scale = 10\n",
    "font_thickness=30\n",
    "point_size=28\n",
    "target_res = 2000\n",
    "xtra_kp_mask = process_strings(['SCH_x', 'SCH_y'] + ['XGB_x', 'XGB_y'] + ['KNN_x', 'KNN_y'] + ['LASSO_x', 'LASSO_y'] + ['RF_x', 'RF_y'])\n",
    "xtra_kp_mask"
   ]
  },
  {
   "cell_type": "code",
   "execution_count": 160,
   "metadata": {},
   "outputs": [
    {
     "data": {
      "text/plain": [
       "{'SCH': 0.20827856061263644,\n",
       " 'XGB': 0.12789040606451568,\n",
       " 'KNN': 0.1461505865686909,\n",
       " 'LASSO': 0.17671358361749112,\n",
       " 'RF': 0.13636260133008443}"
      ]
     },
     "execution_count": 160,
     "metadata": {},
     "output_type": "execute_result"
    }
   ],
   "source": [
    "radii={\n",
    "    'SCH': hypo_radii['Schemkes'],\n",
    "    'XGB': hypo_radii['XGBoost'],\n",
    "    'KNN': hypo_radii['KNN'],\n",
    "    'LASSO': hypo_radii['Lasso'],\n",
    "    'RF': hypo_radii['RandomForest']\n",
    "}\n",
    "radii"
   ]
  },
  {
   "cell_type": "markdown",
   "metadata": {},
   "source": [
    "# For plotting of the circles, the paths to images need to be defined."
   ]
  },
  {
   "cell_type": "code",
   "execution_count": null,
   "metadata": {},
   "outputs": [],
   "source": [
    "# INSERT PATHS HERE\n",
    "image_paths = []"
   ]
  },
  {
   "cell_type": "code",
   "execution_count": 163,
   "metadata": {},
   "outputs": [
    {
     "name": "stderr",
     "output_type": "stream",
     "text": [
      "100%|██████████| 250/250 [08:01<00:00,  1.93s/it]\n"
     ]
    }
   ],
   "source": [
    "from tqdm import tqdm\n",
    "\n",
    "for i in tqdm(range(250)):\n",
    "    random_hypo_file_name = val_set_with_denorm_predictions['FILE_NAME'].sample().values[0]\n",
    "    # print(random_hypo_file_name)\n",
    "    xtra_kp_mask = process_strings(['SCH_x', 'SCH_y'] + ['XGB_x', 'XGB_y'] + ['KNN_x', 'KNN_y'] + ['LASSO_x', 'LASSO_y'] + ['RF_x', 'RF_y'])\n",
    "\n",
    "    attempt_to_draw_from_df(\n",
    "        input_df=val_set_with_denorm_predictions,\n",
    "        file_name=random_hypo_file_name,\n",
    "        # possible_image_dirs=['our_hands_dataset/FOLDER_FOR_DRAWING', 'F:/hagrid/data/palm', 'F:/hagrid/data/stop', 'F:/hagrid/data/stop_inverted', 'hand-keypoints/val/images'],\n",
    "        possible_image_dirs=image_paths,\n",
    "        keypoints_mask=hand_keypoints_names.values(),\n",
    "        extra_keypoints_mask=xtra_kp_mask,\n",
    "        figsize=(10, 8),\n",
    "        font_scale=font_scale,\n",
    "        font_thickness=font_thickness,\n",
    "        point_size=point_size,\n",
    "        target_res=target_res,\n",
    "        save_dir='examples_new',\n",
    "        show=False,\n",
    "        radii=radii\n",
    "    )"
   ]
  },
  {
   "cell_type": "code",
   "execution_count": null,
   "metadata": {},
   "outputs": [],
   "source": [
    "schemkes_model_hypothenar.fit(X_train_hypo, y_train_hypo)\n",
    "xgb_opt_hypothenar.best_estimator_.fit(X_train_hypo, y_train_hypo)\n",
    "knn_opt_hypothenar.best_estimator_.fit(X_train_hypo, y_train_hypo)\n",
    "lasso_opt_hypothenar.best_estimator_.fit(X_train_hypo, y_train_hypo)\n",
    "rf_opt_hypothenar.best_estimator_.fit(X_train_hypo, y_train_hypo)\n",
    "\n",
    "new_tuned_models_hypothenar = [\n",
    "    schemkes_model_hypothenar,\n",
    "    rf_opt_hypothenar.best_estimator_,\n",
    "    xgb_opt_hypothenar.best_estimator_,\n",
    "    knn_opt_hypothenar.best_estimator_,\n",
    "    lasso_opt_hypothenar.best_estimator_,\n",
    "]\n",
    "new_tuned_model_names = [\"SCH\", \"RF\", \"XGB\", \"KNN\", \"LASSO\"]\n",
    "our_residuals_hypo = []\n",
    "for model in new_tuned_models_hypothenar:\n",
    "    y_pred = model.predict(X_test_hypo)\n",
    "    our_residuals_hypo.append(y_pred - y_test_hypo.to_numpy())\n",
    "\n",
    "\n",
    "our_radii = plot_residuals_with_ellipse(our_residuals_hypo, new_tuned_model_names)\n",
    "\n",
    "\n",
    "temp_df = true_hypoth_normalized_df.copy()\n",
    "\n",
    "predictions_hypoth_df = pd.DataFrame()\n",
    "predictions_hypoth_df[['SCH_x', 'SCH_y']] = schemkes_model_hypothenar.predict(X_test_hypo) \n",
    "predictions_hypoth_df[['XGB_x', 'XGB_y']] = xgb_opt_hypothenar.best_estimator_.predict(X_test_hypo)\n",
    "predictions_hypoth_df[['KNN_x', 'KNN_y']] = knn_opt_hypothenar.best_estimator_.predict(X_test_hypo)\n",
    "predictions_hypoth_df[['LASSO_x', 'LASSO_y']] = lasso_opt_hypothenar.best_estimator_.predict(X_test_hypo)\n",
    "predictions_hypoth_df[['RF_x', 'RF_y']] = rf_opt_hypothenar.best_estimator_.predict(X_test_hypo)\n",
    "temp_df = temp_df.loc[X_test_hypo.index]\n",
    "print(len(temp_df))\n",
    "temp_df.reset_index(drop=True, inplace=True)\n",
    "\n",
    "# Get the same rows from temp_df as \n",
    "# this one contains HYPOTHENAR_x and HYPOTHENAR_y true values\n",
    "# Get the denormalized predictions\n",
    "predictions_and_truth = get_denormalized_predictions(temp_df, \n",
    "                                                    predictions_hypoth_df, \n",
    "                                                    ['SCH_x', 'SCH_y'] + ['XGB_x', 'XGB_y'] + ['KNN_x', 'KNN_y'] + ['LASSO_x', 'LASSO_y'] + ['RF_x', 'RF_y'],\n",
    "                                                    None)"
   ]
  },
  {
   "cell_type": "code",
   "execution_count": 120,
   "metadata": {},
   "outputs": [],
   "source": [
    "# random_hypo_file_name = predictions_and_truth['FILE_NAME'].sample().values[0]\n",
    "\n",
    "for i, row in predictions_and_truth.iterrows():\n",
    "    random_hypo_file_name = row['FILE_NAME']\n",
    "    # print(random_hypo_file_name)\n",
    "    xtra_kp_mask = process_strings(['SCH_x', 'SCH_y'] + ['XGB_x', 'XGB_y'] + ['KNN_x', 'KNN_y'] + ['LASSO_x', 'LASSO_y'] + ['RF_x', 'RF_y'])\n",
    "\n",
    "    \n",
    "\n",
    "    attempt_to_draw_from_df(\n",
    "        input_df=predictions_and_truth,\n",
    "        file_name=random_hypo_file_name,\n",
    "        # possible_image_dirs=['our_hands_dataset/FOLDER_FOR_DRAWING', 'F:/hagrid/data/palm', 'F:/hagrid/data/stop', 'F:/hagrid/data/stop_inverted', 'hand-keypoints/val/images', 'H:/Datasets/Human Palm Images/FEMALE', 'H:/Datasets/Human Palm Images/MALE'],\n",
    "        possible_image_dirs=image_paths,\n",
    "        keypoints_mask=list(hand_keypoints_names.values()) + ['HYPOTHENAR'],\n",
    "        extra_keypoints_mask=xtra_kp_mask,\n",
    "        figsize=(10, 8),\n",
    "        font_scale=font_scale,\n",
    "        font_thickness=font_thickness,\n",
    "        point_size=point_size,\n",
    "        target_res=target_res,\n",
    "        save_dir='examples_our',\n",
    "        show=False,\n",
    "        radii=our_radii\n",
    "    )"
   ]
  }
 ],
 "metadata": {
  "kernelspec": {
   "display_name": ".venv",
   "language": "python",
   "name": "python3"
  },
  "language_info": {
   "codemirror_mode": {
    "name": "ipython",
    "version": 3
   },
   "file_extension": ".py",
   "mimetype": "text/x-python",
   "name": "python",
   "nbconvert_exporter": "python",
   "pygments_lexer": "ipython3",
   "version": "3.12.3"
  }
 },
 "nbformat": 4,
 "nbformat_minor": 2
}
